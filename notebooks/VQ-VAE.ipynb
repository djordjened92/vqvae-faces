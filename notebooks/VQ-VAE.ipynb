{
 "cells": [
  {
   "cell_type": "markdown",
   "metadata": {
    "colab_type": "text",
    "id": "P-EZD8GCdx0B"
   },
   "source": [
    "# Question 3: VQ-VAE [40pts]\n",
    "In this question, you with train a [VQ-VAE](https://arxiv.org/abs/1711.00937) on the colored shapes dataset and SVHN. If you are confused on how the VQ-VAE works, you may find [Lilian Weng's blogpost](https://lilianweng.github.io/lil-log/2018/08/12/from-autoencoder-to-beta-vae.html#vq-vae-and-vq-vae-2) to be useful.\n",
    "\n",
    "You may experiment with different hyperparameters and architecture designs, but the following designs for the VQ-VAE architecture may be useful.\n",
    "\n",
    "```\n",
    "conv2d(in_channels, out_channels, kernel_size, stride, padding)\n",
    "transpose_conv2d(in_channels, out_channels, kernel_size, stride, padding)\n",
    "linear(in_dim, out_dim)\n",
    "batch_norm2d(dim)\n",
    "\n",
    "residual_block(dim)\n",
    "    batch_norm2d(dim)\n",
    "    relu()\n",
    "    conv2d(dim, dim, 3, 1, 1)\n",
    "    batch_norm2d(dim)\n",
    "    relu()\n",
    "    conv2d(dim, dim, 1, 1, 0)\n",
    "\n",
    "Encoder\n",
    "    conv2d(3, 256, 4, 2, 1) 16 x 16\n",
    "    batch_norm2d(256)\n",
    "    relu()\n",
    "    conv2d(256, 256, 4, 2, 1) 8 x 8\n",
    "    residual_block(256)\n",
    "    residual_block(256)\n",
    "\n",
    "Decoder\n",
    "    residual_block(256)\n",
    "    residual_block(256)\n",
    "    batch_norm2d(256)\n",
    "    relu()\n",
    "    transpose_conv2d(256, 256, 4, 2, 1) 16 x 16\n",
    "    batch_norm2d(256)\n",
    "    relu()\n",
    "    transpose_conv2d(256, 3, 4, 2, 1) 32 x 32\n",
    "```\n",
    "\n",
    "A few other tips:\n",
    "*   Use a codebook with $K = 128$ latents each with a $D = 256$ dimensional embedding vector\n",
    "*   You should initialize each element in your $K\\times D$ codebook to be uniformly random in $[-1/K, 1/K]$\n",
    "*   Use batch size 128 with a learning rate of $10^{-3}$ and an Adam optimizer\n",
    "*   Center and scale your images to $[-1, 1]$\n",
    "*   Supposing that $z_e(x)$ is the encoder output, and $z_q(x)$ is the quantized output using the codebook, you can implement the straight-through estimator as follows (where below is fed into the decoder): \n",
    "  * `(z_q(x) - z_e(x)).detach() + z_e(x)` in Pytorch\n",
    "  * `tf.stop_gradient(z_q(x) - z_e(x)) + z_e(x)` in Tensorflow.\n",
    "\n",
    "In addition to training the VQ-VAE, you will also need to train a PixelCNN prior on the categorical latents in order to sample. For your architecture, you may find the following useful:\n",
    "*   Since the input is a 2D grid of discrete values, you should have an input (learned) embedding layer to map the discrete values to embeddings of length $64$\n",
    "*   Use a single Type A masked convolutions followed by 10-15 residual blocks (same structure as HW 1), and $2$ $1\\times 1$ convolutions of $512$ and $K$ channels respectively.\n",
    "*   You may find normalization methods (e.g. BatchNorm, LayerNorm) to be useful\n",
    "*   Use batch size 128 with a learning rate of $10^{-3}$ and an Adam optimizer\n",
    "\n",
    "**You will provide the following deliverables**\n",
    "\n",
    "\n",
    "1.   Over the course of training, record the average loss of the training data (per minibatch) and test data (for your entire test set) **for both your VQ-VAE and PixelCNN prior**. Code is provided that automatically plots the training curves. \n",
    "2. Report the final test set performances of your final models\n",
    "3. 100 samples from your trained VQ-VAE and PixelCNN prior\n",
    "4. 50 real-image / reconstruction pairs (for some $x$, encode and then decode)"
   ]
  },
  {
   "cell_type": "code",
   "execution_count": 1,
   "metadata": {},
   "outputs": [
    {
     "data": {
      "text/plain": [
       "<torch._C.Generator at 0x7f0e7034cd08>"
      ]
     },
     "execution_count": 1,
     "metadata": {},
     "output_type": "execute_result"
    }
   ],
   "source": [
    "import os\n",
    "import glob\n",
    "import torch\n",
    "import math\n",
    "import numpy as np\n",
    "import torch.nn.functional as F\n",
    "from pathlib import Path\n",
    "from torch import nn, optim\n",
    "from collections import OrderedDict\n",
    "from matplotlib import pyplot as plt\n",
    "from collections import defaultdict, Counter\n",
    "from skimage import io, transform\n",
    "from torch.utils.data import Dataset, DataLoader\n",
    "from torchvision import transforms, utils\n",
    "from torch.utils.tensorboard import SummaryWriter\n",
    "from torchvision.utils import make_grid\n",
    "\n",
    "torch.manual_seed(123)"
   ]
  },
  {
   "cell_type": "markdown",
   "metadata": {},
   "source": [
    "## Dataset"
   ]
  },
  {
   "cell_type": "code",
   "execution_count": 2,
   "metadata": {},
   "outputs": [],
   "source": [
    "class FaceImagesDataset(Dataset):\n",
    "    def __init__(self, path_pattern, transform=None):\n",
    "        self.transform = transform\n",
    "        self.root_paths = glob.glob(path_pattern)\n",
    "    \n",
    "    def __len__(self):\n",
    "        return len(self.root_paths)\n",
    "    \n",
    "    def __getitem__(self, idx):\n",
    "        if torch.is_tensor(idx):\n",
    "            idx = idx.tolist()\n",
    "        \n",
    "        image = io.imread(self.root_paths[idx]).astype('float32')\n",
    "        image = image / 255.\n",
    "        \n",
    "        if self.transform:\n",
    "            image = self.transform(image)\n",
    "        \n",
    "        return image"
   ]
  },
  {
   "cell_type": "code",
   "execution_count": 3,
   "metadata": {},
   "outputs": [
    {
     "name": "stdout",
     "output_type": "stream",
     "text": [
      "Train dataset size: 15845\n",
      "Validation dataset size: 5045\n",
      "Test dataset size: 5226\n"
     ]
    }
   ],
   "source": [
    "IMAGE_HEIGHT = 124\n",
    "IMAGE_WIDTH = 108\n",
    "\n",
    "transform = transforms.Compose(\n",
    "    [transforms.ToTensor(),\n",
    "    transforms.Resize((IMAGE_HEIGHT, IMAGE_WIDTH))]\n",
    ")\n",
    "\n",
    "train_dataset = FaceImagesDataset('kinship_ver_t1/train-faces/*/MID*/*.jpg', transform=transform)\n",
    "val_dataset = FaceImagesDataset('kinship_ver_t1/val-faces/*/MID*/*.jpg', transform=transform)\n",
    "test_dataset = FaceImagesDataset('kinship_ver_t1/test-faces/*.jpg', transform=transform)\n",
    "\n",
    "print(f'Train dataset size: {len(train_dataset)}')\n",
    "print(f'Validation dataset size: {len(val_dataset)}')\n",
    "print(f'Test dataset size: {len(test_dataset)}')"
   ]
  },
  {
   "cell_type": "code",
   "execution_count": 4,
   "metadata": {},
   "outputs": [],
   "source": [
    "BATCH_SIZE = 16\n",
    "SHUFFLE = True\n",
    "NUM_WORKERS = 0\n",
    "CKPT_PERIOD = 20\n",
    "LOGS_VQVAE_PATH = './logs/vqvae'\n",
    "CODE_DIM, CODE_SIZE = 256, 128\n",
    "MODEL_NAME = 'model_3'\n",
    "CKPT_VQVAE_PATH = f'./checkpoints/vqvae/{MODEL_NAME}'\n",
    "Path(CKPT_VQVAE_PATH).mkdir(parents=True, exist_ok=True)"
   ]
  },
  {
   "cell_type": "code",
   "execution_count": 5,
   "metadata": {},
   "outputs": [],
   "source": [
    "train_dataloader = DataLoader(train_dataset, batch_size=BATCH_SIZE, shuffle=SHUFFLE, num_workers=NUM_WORKERS)\n",
    "val_dataloader = DataLoader(val_dataset, batch_size=BATCH_SIZE, shuffle=SHUFFLE, num_workers=NUM_WORKERS)\n",
    "test_dataloader = DataLoader(test_dataset, batch_size=BATCH_SIZE, num_workers=NUM_WORKERS)"
   ]
  },
  {
   "cell_type": "markdown",
   "metadata": {},
   "source": [
    "## General training procedure"
   ]
  },
  {
   "cell_type": "code",
   "execution_count": 6,
   "metadata": {},
   "outputs": [],
   "source": [
    "from tqdm import tqdm\n",
    "\n",
    "def train(model, train_loader, optimizer, epoch, quiet, grad_clip=None):\n",
    "    model.train()\n",
    "\n",
    "    if not quiet:\n",
    "        pbar = tqdm(total=len(train_loader.dataset))\n",
    "    losses = OrderedDict()\n",
    "    for x in train_loader:\n",
    "        x = x.cuda()\n",
    "        out = model.loss(x)\n",
    "        optimizer.zero_grad()\n",
    "        out['loss'].backward()\n",
    "        if grad_clip:\n",
    "            torch.nn.utils.clip_grad_norm_(model.parameters(), grad_clip)\n",
    "        optimizer.step()\n",
    "\n",
    "        desc = f'Epoch {epoch}'\n",
    "        for k, v in out.items():\n",
    "            if k not in losses:\n",
    "                losses[k] = []\n",
    "            losses[k].append(v.item())\n",
    "            avg_loss = np.mean(losses[k][-50:])\n",
    "            desc += f', {k} {avg_loss:.4f}'\n",
    "\n",
    "        if not quiet:\n",
    "            pbar.set_description(desc)\n",
    "            pbar.update(x.shape[0])\n",
    "    if not quiet:\n",
    "        pbar.close()\n",
    "    return losses\n",
    "\n",
    "\n",
    "def eval_loss(model, data_loader, quiet):\n",
    "    model.eval()\n",
    "    total_losses = OrderedDict()\n",
    "    with torch.no_grad():\n",
    "        for x in data_loader:\n",
    "            x = x.cuda()\n",
    "            out = model.loss(x)\n",
    "            for k, v in out.items():\n",
    "                total_losses[k] = total_losses.get(k, 0) + v.item() * x.shape[0]\n",
    "\n",
    "        desc = 'Validation '\n",
    "        for k in total_losses.keys():\n",
    "            total_losses[k] /= len(data_loader.dataset)\n",
    "            desc += f', {k} {total_losses[k]:.4f}'\n",
    "        if not quiet:\n",
    "            print(desc)\n",
    "    return total_losses\n",
    "\n",
    "\n",
    "def train_epochs(model, train_loader, val_loader, train_args, tb_writer, quiet=False):\n",
    "    epochs, lr = train_args['epochs'], train_args['lr']\n",
    "    grad_clip = train_args.get('grad_clip', None)\n",
    "    optimizer = optim.Adam(model.parameters(), lr=lr)\n",
    "    \n",
    "    for epoch in range(epochs):\n",
    "        model.train()\n",
    "        train_loss = train(model, train_loader, optimizer, epoch, quiet, grad_clip)\n",
    "        val_loss = eval_loss(model, val_loader, quiet)\n",
    "        \n",
    "        # Save checkpoints\n",
    "        if epoch % CKPT_PERIOD == 0:\n",
    "            ckpt_path = f'{CKPT_VQVAE_PATH}/{MODEL_NAME}_{epoch}.pt'\n",
    "            torch.save({\n",
    "                        'epoch': epoch,\n",
    "                        'model_state_dict': model.state_dict(),\n",
    "                        'optimizer_state_dict': optimizer.state_dict(),\n",
    "                        }, ckpt_path)\n",
    "        # Write losses to tensorboard\n",
    "        for k in train_loss.keys():\n",
    "            tb_writer.add_scalar(f'training/{k}', np.mean(train_loss[k]), epoch)\n",
    "            tb_writer.add_scalar(f'validation/{k}', val_loss[k], epoch)"
   ]
  },
  {
   "cell_type": "markdown",
   "metadata": {
    "colab_type": "text",
    "id": "vHZsMrEw5wLN"
   },
   "source": [
    "## VQ-VAE and PixelCNN models"
   ]
  },
  {
   "cell_type": "code",
   "execution_count": 7,
   "metadata": {
    "colab": {},
    "colab_type": "code",
    "id": "Hit091Suc-OA"
   },
   "outputs": [],
   "source": [
    "class ResidualBlock(nn.Module):\n",
    "    def __init__(self, dim):\n",
    "        super().__init__()\n",
    "        self.net = nn.Sequential(\n",
    "            nn.BatchNorm2d(dim),\n",
    "            nn.ReLU(),\n",
    "            nn.Conv2d(dim, dim, 3, 1, 1),\n",
    "            nn.BatchNorm2d(dim),\n",
    "            nn.ReLU(),\n",
    "            nn.Conv2d(dim, dim, 1)\n",
    "        )\n",
    "      \n",
    "    def forward(self, x):\n",
    "        return x + self.net(x)"
   ]
  },
  {
   "cell_type": "code",
   "execution_count": 8,
   "metadata": {
    "colab": {},
    "colab_type": "code",
    "id": "Hit091Suc-OA"
   },
   "outputs": [],
   "source": [
    "class LayerNorm(nn.LayerNorm):\n",
    "    def __init__(self, *args, **kwargs):\n",
    "        super().__init__(*args, **kwargs)\n",
    "\n",
    "    def forward(self, x):\n",
    "        x = x.permute(0, 2, 3, 1).contiguous()\n",
    "        x_shape = x.shape\n",
    "        x = super().forward(x)\n",
    "        return x.permute(0, 3, 1, 2).contiguous()"
   ]
  },
  {
   "cell_type": "code",
   "execution_count": 9,
   "metadata": {
    "colab": {},
    "colab_type": "code",
    "id": "Hit091Suc-OA"
   },
   "outputs": [],
   "source": [
    "class MaskConv2d(nn.Conv2d):\n",
    "    def __init__(self, mask_type, *args, conditional_size=None, **kwargs):\n",
    "        assert mask_type == 'A' or mask_type == 'B'\n",
    "        super().__init__(*args, **kwargs)\n",
    "        self.register_buffer('mask', torch.zeros_like(self.weight))\n",
    "        self.create_mask(mask_type)\n",
    "\n",
    "        if conditional_size is not None:\n",
    "            self.cond_op = nn.Linear(conditional_size, self.out_channels)\n",
    "\n",
    "    def forward(self, input, cond=None):\n",
    "        out = F.conv2d(input, self.weight * self.mask, self.bias, self.stride,\n",
    "                       self.padding, self.dilation, self.groups)\n",
    "        if cond is not None:\n",
    "            cond = self.cond_op(cond)\n",
    "            out = out + cond.view(cond.shape[0], self.out_channels, 1, 1)\n",
    "        return out\n",
    "\n",
    "    def create_mask(self, mask_type):\n",
    "        k = self.kernel_size[0]\n",
    "        self.mask[:, :, :k // 2] = 1\n",
    "        self.mask[:, :, k // 2, :k // 2] = 1\n",
    "        if mask_type == 'B':\n",
    "            self.mask[:, :, k // 2, k // 2] = 1"
   ]
  },
  {
   "cell_type": "code",
   "execution_count": 10,
   "metadata": {
    "colab": {},
    "colab_type": "code",
    "id": "Hit091Suc-OA"
   },
   "outputs": [],
   "source": [
    "class PixelCNNResBlock(nn.Module):\n",
    "    def __init__(self, dim, conditional_size=None):\n",
    "        super().__init__()\n",
    "        self.block = nn.ModuleList([\n",
    "            LayerNorm(dim),\n",
    "            nn.ReLU(),\n",
    "            MaskConv2d('B', dim, dim // 2, 1, conditional_size=conditional_size),\n",
    "            LayerNorm(dim // 2),\n",
    "            nn.ReLU(),\n",
    "            MaskConv2d('B', dim // 2, dim // 2, 3, padding=1, \n",
    "                       conditional_size=conditional_size),\n",
    "            LayerNorm(dim // 2),\n",
    "            nn.ReLU(),\n",
    "            MaskConv2d('B', dim // 2, dim, 1, conditional_size=conditional_size)\n",
    "        ])\n",
    "\n",
    "    def forward(self, x, cond=None):\n",
    "        out = x\n",
    "        for layer in self.block:\n",
    "            if isinstance(layer, MaskConv2d):\n",
    "                out = layer(out, cond=cond)\n",
    "            else:\n",
    "                out = layer(out)\n",
    "        return x + out"
   ]
  },
  {
   "cell_type": "code",
   "execution_count": 11,
   "metadata": {
    "colab": {},
    "colab_type": "code",
    "id": "Hit091Suc-OA"
   },
   "outputs": [],
   "source": [
    "class PixelCNN(nn.Module):\n",
    "    def __init__(self, input_shape, code_size, dim=256, n_layers=7,\n",
    "                 conditional_size=None):\n",
    "        super().__init__()\n",
    "        self.embedding = nn.Embedding(code_size, dim)\n",
    "        model = nn.ModuleList([MaskConv2d('A', dim, dim, 7, padding=3,\n",
    "                                          conditional_size=conditional_size),\n",
    "                               LayerNorm(dim), nn.ReLU()])\n",
    "        for _ in range(n_layers - 1):\n",
    "            model.append(PixelCNNResBlock(dim, conditional_size=conditional_size))\n",
    "        model.extend([LayerNorm(dim), nn.ReLU(), MaskConv2d('B', dim, 512, 1, conditional_size=conditional_size),\n",
    "                      nn.ReLU(), MaskConv2d('B', 512, code_size, 1,\n",
    "                                            conditional_size=conditional_size)])\n",
    "        self.net = model\n",
    "        self.input_shape = input_shape\n",
    "        self.code_size = code_size\n",
    "\n",
    "    def forward(self, x, cond=None):\n",
    "        print(self.embedding.weight.shape)\n",
    "        out = self.embedding(x).permute(0, 3, 1, 2).contiguous()\n",
    "        for layer in self.net:\n",
    "            if isinstance(layer, MaskConv2d) or isinstance(layer, PixelCNNResBlock):\n",
    "                out = layer(out, cond=cond)\n",
    "            else:\n",
    "                out = layer(out)\n",
    "        return out\n",
    "\n",
    "    def loss(self, x, cond=None):\n",
    "        out = self(x, cond=cond)\n",
    "        return OrderedDict(loss=F.cross_entropy(out, x))\n",
    "\n",
    "    def sample(self, n, cond=None):\n",
    "        samples = torch.zeros(n, *self.input_shape).long().cuda()\n",
    "        with torch.no_grad():\n",
    "            for r in range(self.input_shape[0]):\n",
    "                for c in range(self.input_shape[1]):\n",
    "                    logits = self(samples, cond=cond)[:, :, r, c]\n",
    "                    logits = F.softmax(logits, dim=1)\n",
    "                    samples[:, r, c] = torch.multinomial(logits, 1).squeeze(-1)\n",
    "        return samples"
   ]
  },
  {
   "cell_type": "code",
   "execution_count": 12,
   "metadata": {
    "colab": {},
    "colab_type": "code",
    "id": "Hit091Suc-OA"
   },
   "outputs": [],
   "source": [
    "class Quantize(nn.Module):\n",
    "\n",
    "    def __init__(self, size, code_dim):\n",
    "        super().__init__()\n",
    "        self.embedding = nn.Embedding(size, code_dim)\n",
    "        self.embedding.weight.data.uniform_(-1./size,1./size)\n",
    "\n",
    "        self.code_dim = code_dim\n",
    "        self.size = size\n",
    "\n",
    "    def forward(self, z):\n",
    "        b, c, h, w = z.shape\n",
    "        weight = self.embedding.weight\n",
    "\n",
    "        flat_inputs = z.permute(0, 2, 3, 1).contiguous().view(-1, self.code_dim)\n",
    "        \n",
    "        distances = ((flat_inputs.repeat(1, self.size).view(-1, self.size, self.code_dim) \\\n",
    "                     - weight) ** 2).sum(dim=-1)\n",
    "        encoding_indices = torch.min(distances, dim=-1)[1]\n",
    "        encoding_indices = encoding_indices.view(b, h, w)\n",
    "        quantized = self.embedding(encoding_indices).permute(0, 3, 1, 2).contiguous()\n",
    "\n",
    "        return quantized, (quantized - z).detach() + z, encoding_indices"
   ]
  },
  {
   "cell_type": "code",
   "execution_count": 13,
   "metadata": {
    "colab": {},
    "colab_type": "code",
    "id": "Hit091Suc-OA"
   },
   "outputs": [],
   "source": [
    "class VectorQuantizedVAE(nn.Module):\n",
    "    def __init__(self, code_dim, code_size):\n",
    "        super().__init__()\n",
    "        self.code_size = code_size\n",
    "        self.code_dim = code_dim\n",
    "\n",
    "        self.encoder = nn.Sequential(\n",
    "            nn.Conv2d(3, self.code_dim // 4, 4, stride=2, padding=1),\n",
    "            nn.ReLU(),\n",
    "            nn.BatchNorm2d(self.code_dim // 4),\n",
    "            nn.Conv2d(self.code_dim // 4, self.code_dim // 2, 3, stride=1, padding=1),\n",
    "            nn.ReLU(),\n",
    "            nn.BatchNorm2d(self.code_dim // 2),\n",
    "            nn.Conv2d(self.code_dim // 2, self.code_dim, 3, stride=1, padding=1),\n",
    "            nn.ReLU(),\n",
    "            nn.BatchNorm2d(self.code_dim),\n",
    "            nn.Conv2d(self.code_dim, self.code_dim, 4, stride=2, padding=1),\n",
    "            ResidualBlock(self.code_dim),\n",
    "            ResidualBlock(self.code_dim),\n",
    "        )\n",
    "\n",
    "        self.codebook = Quantize(code_size, code_dim)\n",
    "\n",
    "        self.decoder = nn.Sequential(\n",
    "            ResidualBlock(self.code_dim),\n",
    "            ResidualBlock(self.code_dim),\n",
    "            nn.ReLU(),\n",
    "            nn.BatchNorm2d(self.code_dim),\n",
    "            nn.ConvTranspose2d(self.code_dim, self.code_dim, 4, stride=2, padding=1),\n",
    "            nn.ReLU(),\n",
    "            nn.BatchNorm2d(self.code_dim),\n",
    "            nn.ConvTranspose2d(self.code_dim, self.code_dim // 2, 3, stride=1, padding=1),\n",
    "            nn.ReLU(),\n",
    "            nn.BatchNorm2d(self.code_dim // 2),\n",
    "            nn.ConvTranspose2d(self.code_dim // 2, self.code_dim // 4, 3, stride=1, padding=1),\n",
    "            nn.ReLU(),\n",
    "            nn.BatchNorm2d(self.code_dim // 4),\n",
    "            nn.ConvTranspose2d(self.code_dim // 4, 3, 4, stride=2, padding=1),\n",
    "            nn.Tanh(),\n",
    "        )\n",
    "\n",
    "    def encode_code(self, x):\n",
    "        with torch.no_grad():\n",
    "            x = 2 * x - 1\n",
    "            z = self.encoder(x)\n",
    "            indices = self.codebook(z)[2]\n",
    "            return indices\n",
    "\n",
    "    def decode_code(self, latents):\n",
    "        with torch.no_grad():\n",
    "            latents = self.codebook.embedding(latents).permute(0, 3, 1, 2).contiguous()\n",
    "            return self.decoder(latents) * 0.5 + 0.5\n",
    "\n",
    "    def forward(self, x):\n",
    "        z = self.encoder(x)\n",
    "        e, e_st, _ = self.codebook(z)\n",
    "        x_tilde = self.decoder(e_st)\n",
    "\n",
    "        diff1 = torch.mean((z - e.detach()) ** 2)\n",
    "        diff2 = torch.mean((e - z.detach()) ** 2)\n",
    "        return x_tilde, diff1 + diff2\n",
    "\n",
    "    def loss(self, x):\n",
    "        x = 2 * x - 1\n",
    "        x_tilde, diff = self(x)\n",
    "        recon_loss = F.mse_loss(x_tilde, x)\n",
    "        loss = recon_loss + diff\n",
    "        return OrderedDict(loss=loss, recon_loss=recon_loss, reg_loss=diff)"
   ]
  },
  {
   "cell_type": "markdown",
   "metadata": {},
   "source": [
    "## Train VQ-VAE model"
   ]
  },
  {
   "cell_type": "code",
   "execution_count": 14,
   "metadata": {
    "collapsed": true,
    "jupyter": {
     "outputs_hidden": true
    }
   },
   "outputs": [
    {
     "name": "stderr",
     "output_type": "stream",
     "text": [
      "Epoch 0, loss 0.1991, recon_loss 0.0210, reg_loss 0.1782: 100%|██████████| 15845/15845 [02:08<00:00, 123.28it/s]\n",
      "Epoch 1, loss 0.1450, recon_loss 0.0364, reg_loss 0.1086:   0%|          | 16/15845 [00:00<02:01, 130.53it/s]"
     ]
    },
    {
     "name": "stdout",
     "output_type": "stream",
     "text": [
      "Validation , loss 0.1602, recon_loss 0.0151, reg_loss 0.1451\n"
     ]
    },
    {
     "name": "stderr",
     "output_type": "stream",
     "text": [
      "Epoch 1, loss 0.0981, recon_loss 0.0167, reg_loss 0.0813: 100%|██████████| 15845/15845 [02:00<00:00, 131.06it/s]\n",
      "Epoch 2, loss 0.0982, recon_loss 0.0218, reg_loss 0.0764:   0%|          | 16/15845 [00:00<02:00, 131.29it/s]"
     ]
    },
    {
     "name": "stdout",
     "output_type": "stream",
     "text": [
      "Validation , loss 0.0826, recon_loss 0.0126, reg_loss 0.0700\n"
     ]
    },
    {
     "name": "stderr",
     "output_type": "stream",
     "text": [
      "Epoch 2, loss 0.0595, recon_loss 0.0144, reg_loss 0.0451: 100%|██████████| 15845/15845 [02:00<00:00, 131.61it/s]\n",
      "Epoch 3, loss 0.0749, recon_loss 0.0178, reg_loss 0.0570:   0%|          | 16/15845 [00:00<02:00, 131.34it/s]"
     ]
    },
    {
     "name": "stdout",
     "output_type": "stream",
     "text": [
      "Validation , loss 0.0686, recon_loss 0.0108, reg_loss 0.0577\n"
     ]
    },
    {
     "name": "stderr",
     "output_type": "stream",
     "text": [
      "Epoch 3, loss 0.0626, recon_loss 0.0138, reg_loss 0.0488: 100%|██████████| 15845/15845 [02:00<00:00, 131.59it/s]\n",
      "Epoch 4, loss 0.0802, recon_loss 0.0146, reg_loss 0.0655:   0%|          | 16/15845 [00:00<01:59, 132.02it/s]"
     ]
    },
    {
     "name": "stdout",
     "output_type": "stream",
     "text": [
      "Validation , loss 0.0711, recon_loss 0.0122, reg_loss 0.0589\n"
     ]
    },
    {
     "name": "stderr",
     "output_type": "stream",
     "text": [
      "Epoch 4, loss 0.0390, recon_loss 0.0108, reg_loss 0.0283: 100%|██████████| 15845/15845 [02:00<00:00, 131.85it/s]\n",
      "Epoch 5, loss 0.0460, recon_loss 0.0105, reg_loss 0.0355:   0%|          | 16/15845 [00:00<01:59, 132.05it/s]"
     ]
    },
    {
     "name": "stdout",
     "output_type": "stream",
     "text": [
      "Validation , loss 0.0391, recon_loss 0.0090, reg_loss 0.0301\n"
     ]
    },
    {
     "name": "stderr",
     "output_type": "stream",
     "text": [
      "Epoch 5, loss 0.0361, recon_loss 0.0103, reg_loss 0.0258: 100%|██████████| 15845/15845 [02:00<00:00, 131.98it/s]\n",
      "Epoch 6, loss 0.0290, recon_loss 0.0089, reg_loss 0.0201:   0%|          | 16/15845 [00:00<02:00, 131.23it/s]"
     ]
    },
    {
     "name": "stdout",
     "output_type": "stream",
     "text": [
      "Validation , loss 0.0297, recon_loss 0.0084, reg_loss 0.0213\n"
     ]
    },
    {
     "name": "stderr",
     "output_type": "stream",
     "text": [
      "Epoch 6, loss 0.0419, recon_loss 0.0101, reg_loss 0.0318: 100%|██████████| 15845/15845 [02:00<00:00, 131.79it/s]\n",
      "Epoch 7, loss 0.0318, recon_loss 0.0095, reg_loss 0.0223:   0%|          | 16/15845 [00:00<01:59, 131.96it/s]"
     ]
    },
    {
     "name": "stdout",
     "output_type": "stream",
     "text": [
      "Validation , loss 0.0326, recon_loss 0.0082, reg_loss 0.0245\n"
     ]
    },
    {
     "name": "stderr",
     "output_type": "stream",
     "text": [
      "Epoch 7, loss 0.0313, recon_loss 0.0096, reg_loss 0.0217: 100%|██████████| 15845/15845 [02:00<00:00, 131.70it/s]\n",
      "Epoch 8, loss 0.0245, recon_loss 0.0084, reg_loss 0.0160:   0%|          | 16/15845 [00:00<01:59, 132.20it/s]"
     ]
    },
    {
     "name": "stdout",
     "output_type": "stream",
     "text": [
      "Validation , loss 0.0254, recon_loss 0.0076, reg_loss 0.0178\n"
     ]
    },
    {
     "name": "stderr",
     "output_type": "stream",
     "text": [
      "Epoch 8, loss 0.0235, recon_loss 0.0082, reg_loss 0.0154: 100%|██████████| 15845/15845 [02:00<00:00, 131.78it/s]\n",
      "Epoch 9, loss 0.0282, recon_loss 0.0086, reg_loss 0.0196:   0%|          | 16/15845 [00:00<01:59, 132.43it/s]"
     ]
    },
    {
     "name": "stdout",
     "output_type": "stream",
     "text": [
      "Validation , loss 0.0240, recon_loss 0.0073, reg_loss 0.0166\n"
     ]
    },
    {
     "name": "stderr",
     "output_type": "stream",
     "text": [
      "Epoch 9, loss 0.0266, recon_loss 0.0081, reg_loss 0.0185: 100%|██████████| 15845/15845 [02:00<00:00, 131.72it/s]\n",
      "Epoch 10, loss 0.0300, recon_loss 0.0078, reg_loss 0.0223:   0%|          | 16/15845 [00:00<01:59, 132.28it/s]"
     ]
    },
    {
     "name": "stdout",
     "output_type": "stream",
     "text": [
      "Validation , loss 0.0261, recon_loss 0.0074, reg_loss 0.0187\n"
     ]
    },
    {
     "name": "stderr",
     "output_type": "stream",
     "text": [
      "Epoch 10, loss 0.0237, recon_loss 0.0078, reg_loss 0.0159: 100%|██████████| 15845/15845 [02:00<00:00, 131.64it/s]\n",
      "Epoch 11, loss 0.0190, recon_loss 0.0064, reg_loss 0.0126:   0%|          | 16/15845 [00:00<01:59, 132.24it/s]"
     ]
    },
    {
     "name": "stdout",
     "output_type": "stream",
     "text": [
      "Validation , loss 0.0210, recon_loss 0.0066, reg_loss 0.0144\n"
     ]
    },
    {
     "name": "stderr",
     "output_type": "stream",
     "text": [
      "Epoch 11, loss 0.0291, recon_loss 0.0089, reg_loss 0.0202: 100%|██████████| 15845/15845 [02:00<00:00, 131.96it/s]\n",
      "Epoch 12, loss 0.0311, recon_loss 0.0089, reg_loss 0.0222:   0%|          | 16/15845 [00:00<01:59, 132.46it/s]"
     ]
    },
    {
     "name": "stdout",
     "output_type": "stream",
     "text": [
      "Validation , loss 0.0279, recon_loss 0.0086, reg_loss 0.0193\n"
     ]
    },
    {
     "name": "stderr",
     "output_type": "stream",
     "text": [
      "Epoch 12, loss 0.0249, recon_loss 0.0105, reg_loss 0.0144: 100%|██████████| 15845/15845 [02:00<00:00, 131.81it/s]\n",
      "Epoch 13, loss 0.0302, recon_loss 0.0063, reg_loss 0.0239:   0%|          | 16/15845 [00:00<01:59, 132.63it/s]"
     ]
    },
    {
     "name": "stdout",
     "output_type": "stream",
     "text": [
      "Validation , loss 0.0293, recon_loss 0.0067, reg_loss 0.0226\n"
     ]
    },
    {
     "name": "stderr",
     "output_type": "stream",
     "text": [
      "Epoch 13, loss 0.0214, recon_loss 0.0073, reg_loss 0.0141: 100%|██████████| 15845/15845 [02:00<00:00, 131.80it/s]\n",
      "Epoch 14, loss 0.0183, recon_loss 0.0067, reg_loss 0.0115:   0%|          | 16/15845 [00:00<01:59, 132.11it/s]"
     ]
    },
    {
     "name": "stdout",
     "output_type": "stream",
     "text": [
      "Validation , loss 0.0189, recon_loss 0.0061, reg_loss 0.0128\n"
     ]
    },
    {
     "name": "stderr",
     "output_type": "stream",
     "text": [
      "Epoch 14, loss 0.0276, recon_loss 0.0080, reg_loss 0.0196: 100%|██████████| 15845/15845 [02:00<00:00, 131.86it/s]\n",
      "Epoch 15, loss 0.0373, recon_loss 0.0085, reg_loss 0.0288:   0%|          | 16/15845 [00:00<01:59, 132.24it/s]"
     ]
    },
    {
     "name": "stdout",
     "output_type": "stream",
     "text": [
      "Validation , loss 0.0367, recon_loss 0.0079, reg_loss 0.0289\n"
     ]
    },
    {
     "name": "stderr",
     "output_type": "stream",
     "text": [
      "Epoch 15, loss 0.0176, recon_loss 0.0063, reg_loss 0.0113: 100%|██████████| 15845/15845 [02:00<00:00, 131.84it/s]\n",
      "Epoch 16, loss 0.0160, recon_loss 0.0070, reg_loss 0.0090:   0%|          | 16/15845 [00:00<01:59, 132.14it/s]"
     ]
    },
    {
     "name": "stdout",
     "output_type": "stream",
     "text": [
      "Validation , loss 0.0156, recon_loss 0.0059, reg_loss 0.0098\n"
     ]
    },
    {
     "name": "stderr",
     "output_type": "stream",
     "text": [
      "Epoch 16, loss 0.0196, recon_loss 0.0070, reg_loss 0.0126: 100%|██████████| 15845/15845 [02:00<00:00, 131.77it/s]\n",
      "Epoch 17, loss 0.0177, recon_loss 0.0068, reg_loss 0.0109:   0%|          | 16/15845 [00:00<01:59, 132.49it/s]"
     ]
    },
    {
     "name": "stdout",
     "output_type": "stream",
     "text": [
      "Validation , loss 0.0190, recon_loss 0.0062, reg_loss 0.0128\n"
     ]
    },
    {
     "name": "stderr",
     "output_type": "stream",
     "text": [
      "Epoch 17, loss 0.0175, recon_loss 0.0066, reg_loss 0.0108: 100%|██████████| 15845/15845 [02:00<00:00, 131.54it/s]\n",
      "Epoch 18, loss 0.0185, recon_loss 0.0065, reg_loss 0.0120:   0%|          | 16/15845 [00:00<01:59, 131.96it/s]"
     ]
    },
    {
     "name": "stdout",
     "output_type": "stream",
     "text": [
      "Validation , loss 0.0176, recon_loss 0.0061, reg_loss 0.0115\n"
     ]
    },
    {
     "name": "stderr",
     "output_type": "stream",
     "text": [
      "Epoch 18, loss 0.0168, recon_loss 0.0061, reg_loss 0.0107: 100%|██████████| 15845/15845 [02:00<00:00, 131.69it/s]\n",
      "Epoch 19, loss 0.0166, recon_loss 0.0062, reg_loss 0.0103:   0%|          | 16/15845 [00:00<01:59, 132.15it/s]"
     ]
    },
    {
     "name": "stdout",
     "output_type": "stream",
     "text": [
      "Validation , loss 0.0158, recon_loss 0.0056, reg_loss 0.0102\n"
     ]
    },
    {
     "name": "stderr",
     "output_type": "stream",
     "text": [
      "Epoch 19, loss 0.0221, recon_loss 0.0071, reg_loss 0.0150: 100%|██████████| 15845/15845 [02:00<00:00, 131.86it/s]\n",
      "Epoch 20, loss 0.0169, recon_loss 0.0073, reg_loss 0.0096:   0%|          | 16/15845 [00:00<01:59, 132.57it/s]"
     ]
    },
    {
     "name": "stdout",
     "output_type": "stream",
     "text": [
      "Validation , loss 0.0157, recon_loss 0.0057, reg_loss 0.0101\n"
     ]
    },
    {
     "name": "stderr",
     "output_type": "stream",
     "text": [
      "Epoch 20, loss 0.0163, recon_loss 0.0063, reg_loss 0.0099: 100%|██████████| 15845/15845 [02:00<00:00, 131.76it/s]\n",
      "Epoch 21, loss 0.0196, recon_loss 0.0072, reg_loss 0.0125:   0%|          | 16/15845 [00:00<02:01, 130.60it/s]"
     ]
    },
    {
     "name": "stdout",
     "output_type": "stream",
     "text": [
      "Validation , loss 0.0158, recon_loss 0.0056, reg_loss 0.0103\n"
     ]
    },
    {
     "name": "stderr",
     "output_type": "stream",
     "text": [
      "Epoch 21, loss 0.0164, recon_loss 0.0064, reg_loss 0.0100: 100%|██████████| 15845/15845 [02:00<00:00, 131.72it/s]\n",
      "Epoch 22, loss 0.0184, recon_loss 0.0071, reg_loss 0.0113:   0%|          | 16/15845 [00:00<01:59, 132.54it/s]"
     ]
    },
    {
     "name": "stdout",
     "output_type": "stream",
     "text": [
      "Validation , loss 0.0159, recon_loss 0.0058, reg_loss 0.0101\n"
     ]
    },
    {
     "name": "stderr",
     "output_type": "stream",
     "text": [
      "Epoch 22, loss 0.0202, recon_loss 0.0064, reg_loss 0.0138: 100%|██████████| 15845/15845 [02:00<00:00, 131.72it/s]\n",
      "Epoch 23, loss 0.0167, recon_loss 0.0069, reg_loss 0.0099:   0%|          | 16/15845 [00:00<02:00, 131.46it/s]"
     ]
    },
    {
     "name": "stdout",
     "output_type": "stream",
     "text": [
      "Validation , loss 0.0155, recon_loss 0.0055, reg_loss 0.0099\n"
     ]
    },
    {
     "name": "stderr",
     "output_type": "stream",
     "text": [
      "Epoch 23, loss 0.0155, recon_loss 0.0060, reg_loss 0.0095: 100%|██████████| 15845/15845 [02:00<00:00, 131.63it/s]\n",
      "Epoch 24, loss 0.0174, recon_loss 0.0079, reg_loss 0.0096:   0%|          | 16/15845 [00:00<01:59, 132.04it/s]"
     ]
    },
    {
     "name": "stdout",
     "output_type": "stream",
     "text": [
      "Validation , loss 0.0143, recon_loss 0.0054, reg_loss 0.0088\n"
     ]
    },
    {
     "name": "stderr",
     "output_type": "stream",
     "text": [
      "Epoch 24, loss 0.0152, recon_loss 0.0059, reg_loss 0.0093: 100%|██████████| 15845/15845 [02:00<00:00, 131.39it/s]\n",
      "Epoch 25, loss 0.0152, recon_loss 0.0076, reg_loss 0.0075:   0%|          | 16/15845 [00:00<02:00, 131.52it/s]"
     ]
    },
    {
     "name": "stdout",
     "output_type": "stream",
     "text": [
      "Validation , loss 0.0140, recon_loss 0.0053, reg_loss 0.0088\n"
     ]
    },
    {
     "name": "stderr",
     "output_type": "stream",
     "text": [
      "Epoch 25, loss 0.0170, recon_loss 0.0061, reg_loss 0.0109: 100%|██████████| 15845/15845 [02:00<00:00, 131.49it/s]\n",
      "Epoch 26, loss 0.0185, recon_loss 0.0065, reg_loss 0.0120:   0%|          | 16/15845 [00:00<02:00, 131.81it/s]"
     ]
    },
    {
     "name": "stdout",
     "output_type": "stream",
     "text": [
      "Validation , loss 0.0149, recon_loss 0.0056, reg_loss 0.0093\n"
     ]
    },
    {
     "name": "stderr",
     "output_type": "stream",
     "text": [
      "Epoch 26, loss 0.0141, recon_loss 0.0058, reg_loss 0.0083: 100%|██████████| 15845/15845 [02:00<00:00, 131.71it/s]\n",
      "Epoch 27, loss 0.0120, recon_loss 0.0054, reg_loss 0.0066:   0%|          | 16/15845 [00:00<02:00, 131.90it/s]"
     ]
    },
    {
     "name": "stdout",
     "output_type": "stream",
     "text": [
      "Validation , loss 0.0132, recon_loss 0.0053, reg_loss 0.0079\n"
     ]
    },
    {
     "name": "stderr",
     "output_type": "stream",
     "text": [
      "Epoch 27, loss 0.0138, recon_loss 0.0057, reg_loss 0.0081: 100%|██████████| 15845/15845 [02:00<00:00, 131.62it/s]\n",
      "Epoch 28, loss 0.0115, recon_loss 0.0048, reg_loss 0.0067:   0%|          | 16/15845 [00:00<01:59, 132.30it/s]"
     ]
    },
    {
     "name": "stdout",
     "output_type": "stream",
     "text": [
      "Validation , loss 0.0131, recon_loss 0.0053, reg_loss 0.0078\n"
     ]
    },
    {
     "name": "stderr",
     "output_type": "stream",
     "text": [
      "Epoch 28, loss 0.0150, recon_loss 0.0060, reg_loss 0.0090: 100%|██████████| 15845/15845 [02:00<00:00, 131.87it/s]\n",
      "Epoch 29, loss 0.0177, recon_loss 0.0065, reg_loss 0.0112:   0%|          | 16/15845 [00:00<01:59, 132.14it/s]"
     ]
    },
    {
     "name": "stdout",
     "output_type": "stream",
     "text": [
      "Validation , loss 0.0154, recon_loss 0.0057, reg_loss 0.0097\n"
     ]
    },
    {
     "name": "stderr",
     "output_type": "stream",
     "text": [
      "Epoch 29, loss 0.0176, recon_loss 0.0062, reg_loss 0.0114: 100%|██████████| 15845/15845 [02:00<00:00, 131.59it/s]\n",
      "Epoch 30, loss 0.0166, recon_loss 0.0062, reg_loss 0.0105:   0%|          | 16/15845 [00:00<01:59, 132.23it/s]"
     ]
    },
    {
     "name": "stdout",
     "output_type": "stream",
     "text": [
      "Validation , loss 0.0165, recon_loss 0.0053, reg_loss 0.0112\n"
     ]
    },
    {
     "name": "stderr",
     "output_type": "stream",
     "text": [
      "Epoch 30, loss 0.0135, recon_loss 0.0057, reg_loss 0.0079: 100%|██████████| 15845/15845 [02:00<00:00, 131.88it/s]\n",
      "Epoch 31, loss 0.0152, recon_loss 0.0078, reg_loss 0.0074:   0%|          | 16/15845 [00:00<01:59, 131.92it/s]"
     ]
    },
    {
     "name": "stdout",
     "output_type": "stream",
     "text": [
      "Validation , loss 0.0124, recon_loss 0.0051, reg_loss 0.0074\n"
     ]
    },
    {
     "name": "stderr",
     "output_type": "stream",
     "text": [
      "Epoch 31, loss 0.0133, recon_loss 0.0055, reg_loss 0.0078: 100%|██████████| 15845/15845 [02:00<00:00, 131.95it/s]\n",
      "Epoch 32, loss 0.0140, recon_loss 0.0071, reg_loss 0.0069:   0%|          | 16/15845 [00:00<01:59, 132.25it/s]"
     ]
    },
    {
     "name": "stdout",
     "output_type": "stream",
     "text": [
      "Validation , loss 0.0124, recon_loss 0.0049, reg_loss 0.0075\n"
     ]
    },
    {
     "name": "stderr",
     "output_type": "stream",
     "text": [
      "Epoch 32, loss 0.0154, recon_loss 0.0062, reg_loss 0.0092: 100%|██████████| 15845/15845 [01:59<00:00, 132.16it/s]\n",
      "Epoch 33, loss 0.0199, recon_loss 0.0074, reg_loss 0.0125:   0%|          | 16/15845 [00:00<01:59, 132.12it/s]"
     ]
    },
    {
     "name": "stdout",
     "output_type": "stream",
     "text": [
      "Validation , loss 0.0167, recon_loss 0.0055, reg_loss 0.0112\n"
     ]
    },
    {
     "name": "stderr",
     "output_type": "stream",
     "text": [
      "Epoch 33, loss 0.0164, recon_loss 0.0062, reg_loss 0.0102: 100%|██████████| 15845/15845 [02:00<00:00, 131.66it/s]\n",
      "Epoch 34, loss 0.0188, recon_loss 0.0061, reg_loss 0.0127:   0%|          | 16/15845 [00:00<01:59, 132.59it/s]"
     ]
    },
    {
     "name": "stdout",
     "output_type": "stream",
     "text": [
      "Validation , loss 0.0169, recon_loss 0.0055, reg_loss 0.0114\n"
     ]
    },
    {
     "name": "stderr",
     "output_type": "stream",
     "text": [
      "Epoch 34, loss 0.0135, recon_loss 0.0055, reg_loss 0.0080: 100%|██████████| 15845/15845 [02:00<00:00, 131.65it/s]\n",
      "Epoch 35, loss 0.0138, recon_loss 0.0057, reg_loss 0.0081:   0%|          | 16/15845 [00:00<01:59, 132.54it/s]"
     ]
    },
    {
     "name": "stdout",
     "output_type": "stream",
     "text": [
      "Validation , loss 0.0123, recon_loss 0.0049, reg_loss 0.0074\n"
     ]
    },
    {
     "name": "stderr",
     "output_type": "stream",
     "text": [
      "Epoch 35, loss 0.0129, recon_loss 0.0053, reg_loss 0.0076: 100%|██████████| 15845/15845 [02:00<00:00, 131.89it/s]\n",
      "Epoch 36, loss 0.0117, recon_loss 0.0046, reg_loss 0.0071:   0%|          | 16/15845 [00:00<02:00, 131.69it/s]"
     ]
    },
    {
     "name": "stdout",
     "output_type": "stream",
     "text": [
      "Validation , loss 0.0120, recon_loss 0.0050, reg_loss 0.0070\n"
     ]
    },
    {
     "name": "stderr",
     "output_type": "stream",
     "text": [
      "Epoch 36, loss 0.0138, recon_loss 0.0056, reg_loss 0.0082: 100%|██████████| 15845/15845 [02:00<00:00, 131.59it/s]\n",
      "Epoch 37, loss 0.0133, recon_loss 0.0065, reg_loss 0.0069:   0%|          | 16/15845 [00:00<01:59, 131.98it/s]"
     ]
    },
    {
     "name": "stdout",
     "output_type": "stream",
     "text": [
      "Validation , loss 0.0132, recon_loss 0.0053, reg_loss 0.0079\n"
     ]
    },
    {
     "name": "stderr",
     "output_type": "stream",
     "text": [
      "Epoch 37, loss 0.0125, recon_loss 0.0053, reg_loss 0.0073: 100%|██████████| 15845/15845 [02:00<00:00, 131.56it/s]\n",
      "Epoch 38, loss 0.0119, recon_loss 0.0044, reg_loss 0.0075:   0%|          | 16/15845 [00:00<02:00, 131.50it/s]"
     ]
    },
    {
     "name": "stdout",
     "output_type": "stream",
     "text": [
      "Validation , loss 0.0120, recon_loss 0.0048, reg_loss 0.0072\n"
     ]
    },
    {
     "name": "stderr",
     "output_type": "stream",
     "text": [
      "Epoch 38, loss 0.0125, recon_loss 0.0053, reg_loss 0.0072: 100%|██████████| 15845/15845 [02:00<00:00, 131.53it/s]\n",
      "Epoch 39, loss 0.0114, recon_loss 0.0045, reg_loss 0.0069:   0%|          | 16/15845 [00:00<01:59, 132.03it/s]"
     ]
    },
    {
     "name": "stdout",
     "output_type": "stream",
     "text": [
      "Validation , loss 0.0126, recon_loss 0.0049, reg_loss 0.0077\n"
     ]
    },
    {
     "name": "stderr",
     "output_type": "stream",
     "text": [
      "Epoch 39, loss 0.0121, recon_loss 0.0051, reg_loss 0.0070: 100%|██████████| 15845/15845 [02:00<00:00, 131.84it/s]\n",
      "Epoch 40, loss 0.0127, recon_loss 0.0050, reg_loss 0.0076:   0%|          | 16/15845 [00:00<01:59, 131.91it/s]"
     ]
    },
    {
     "name": "stdout",
     "output_type": "stream",
     "text": [
      "Validation , loss 0.0118, recon_loss 0.0049, reg_loss 0.0069\n"
     ]
    },
    {
     "name": "stderr",
     "output_type": "stream",
     "text": [
      "Epoch 40, loss 0.0129, recon_loss 0.0053, reg_loss 0.0077: 100%|██████████| 15845/15845 [02:00<00:00, 131.47it/s]\n",
      "Epoch 41, loss 0.0125, recon_loss 0.0054, reg_loss 0.0071:   0%|          | 16/15845 [00:00<01:59, 132.00it/s]"
     ]
    },
    {
     "name": "stdout",
     "output_type": "stream",
     "text": [
      "Validation , loss 0.0122, recon_loss 0.0049, reg_loss 0.0073\n"
     ]
    },
    {
     "name": "stderr",
     "output_type": "stream",
     "text": [
      "Epoch 41, loss 0.0124, recon_loss 0.0052, reg_loss 0.0072: 100%|██████████| 15845/15845 [02:00<00:00, 131.78it/s]\n",
      "Epoch 42, loss 0.0129, recon_loss 0.0055, reg_loss 0.0074:   0%|          | 16/15845 [00:00<01:59, 132.41it/s]"
     ]
    },
    {
     "name": "stdout",
     "output_type": "stream",
     "text": [
      "Validation , loss 0.0116, recon_loss 0.0048, reg_loss 0.0068\n"
     ]
    },
    {
     "name": "stderr",
     "output_type": "stream",
     "text": [
      "Epoch 42, loss 0.0125, recon_loss 0.0052, reg_loss 0.0073: 100%|██████████| 15845/15845 [02:00<00:00, 131.68it/s]\n",
      "Epoch 43, loss 0.0110, recon_loss 0.0045, reg_loss 0.0065:   0%|          | 16/15845 [00:00<01:59, 132.02it/s]"
     ]
    },
    {
     "name": "stdout",
     "output_type": "stream",
     "text": [
      "Validation , loss 0.0112, recon_loss 0.0047, reg_loss 0.0065\n"
     ]
    },
    {
     "name": "stderr",
     "output_type": "stream",
     "text": [
      "Epoch 43, loss 0.0123, recon_loss 0.0052, reg_loss 0.0071: 100%|██████████| 15845/15845 [02:00<00:00, 131.54it/s]\n",
      "Epoch 44, loss 0.0133, recon_loss 0.0063, reg_loss 0.0070:   0%|          | 16/15845 [00:00<02:00, 131.67it/s]"
     ]
    },
    {
     "name": "stdout",
     "output_type": "stream",
     "text": [
      "Validation , loss 0.0116, recon_loss 0.0048, reg_loss 0.0068\n"
     ]
    },
    {
     "name": "stderr",
     "output_type": "stream",
     "text": [
      "Epoch 44, loss 0.0124, recon_loss 0.0052, reg_loss 0.0072: 100%|██████████| 15845/15845 [02:00<00:00, 131.66it/s]\n",
      "Epoch 45, loss 0.0092, recon_loss 0.0035, reg_loss 0.0056:   0%|          | 16/15845 [00:00<01:59, 132.19it/s]"
     ]
    },
    {
     "name": "stdout",
     "output_type": "stream",
     "text": [
      "Validation , loss 0.0116, recon_loss 0.0048, reg_loss 0.0067\n"
     ]
    },
    {
     "name": "stderr",
     "output_type": "stream",
     "text": [
      "Epoch 45, loss 0.0132, recon_loss 0.0055, reg_loss 0.0077: 100%|██████████| 15845/15845 [02:00<00:00, 131.93it/s]\n",
      "Epoch 46, loss 0.0105, recon_loss 0.0046, reg_loss 0.0059:   0%|          | 16/15845 [00:00<01:59, 132.43it/s]"
     ]
    },
    {
     "name": "stdout",
     "output_type": "stream",
     "text": [
      "Validation , loss 0.0111, recon_loss 0.0047, reg_loss 0.0064\n"
     ]
    },
    {
     "name": "stderr",
     "output_type": "stream",
     "text": [
      "Epoch 46, loss 0.0124, recon_loss 0.0053, reg_loss 0.0072: 100%|██████████| 15845/15845 [02:00<00:00, 131.58it/s]\n",
      "Epoch 47, loss 0.0108, recon_loss 0.0035, reg_loss 0.0073:   0%|          | 16/15845 [00:00<02:00, 131.37it/s]"
     ]
    },
    {
     "name": "stdout",
     "output_type": "stream",
     "text": [
      "Validation , loss 0.0130, recon_loss 0.0049, reg_loss 0.0081\n"
     ]
    },
    {
     "name": "stderr",
     "output_type": "stream",
     "text": [
      "Epoch 47, loss 0.0125, recon_loss 0.0052, reg_loss 0.0073: 100%|██████████| 15845/15845 [02:00<00:00, 132.00it/s]\n",
      "Epoch 48, loss 0.0116, recon_loss 0.0047, reg_loss 0.0069:   0%|          | 16/15845 [00:00<02:00, 131.74it/s]"
     ]
    },
    {
     "name": "stdout",
     "output_type": "stream",
     "text": [
      "Validation , loss 0.0118, recon_loss 0.0050, reg_loss 0.0068\n"
     ]
    },
    {
     "name": "stderr",
     "output_type": "stream",
     "text": [
      "Epoch 48, loss 0.0115, recon_loss 0.0048, reg_loss 0.0067: 100%|██████████| 15845/15845 [02:00<00:00, 131.85it/s]\n",
      "Epoch 49, loss 0.0112, recon_loss 0.0043, reg_loss 0.0070:   0%|          | 16/15845 [00:00<01:59, 132.51it/s]"
     ]
    },
    {
     "name": "stdout",
     "output_type": "stream",
     "text": [
      "Validation , loss 0.0111, recon_loss 0.0047, reg_loss 0.0064\n"
     ]
    },
    {
     "name": "stderr",
     "output_type": "stream",
     "text": [
      "Epoch 49, loss 0.0121, recon_loss 0.0050, reg_loss 0.0071: 100%|██████████| 15845/15845 [02:00<00:00, 131.73it/s]\n",
      "Epoch 50, loss 0.0125, recon_loss 0.0052, reg_loss 0.0073:   0%|          | 16/15845 [00:00<02:00, 131.57it/s]"
     ]
    },
    {
     "name": "stdout",
     "output_type": "stream",
     "text": [
      "Validation , loss 0.0116, recon_loss 0.0047, reg_loss 0.0068\n"
     ]
    },
    {
     "name": "stderr",
     "output_type": "stream",
     "text": [
      "Epoch 50, loss 0.0127, recon_loss 0.0053, reg_loss 0.0074: 100%|██████████| 15845/15845 [02:00<00:00, 131.35it/s]\n",
      "Epoch 51, loss 0.0148, recon_loss 0.0046, reg_loss 0.0102:   0%|          | 16/15845 [00:00<01:59, 131.96it/s]"
     ]
    },
    {
     "name": "stdout",
     "output_type": "stream",
     "text": [
      "Validation , loss 0.0120, recon_loss 0.0047, reg_loss 0.0073\n"
     ]
    },
    {
     "name": "stderr",
     "output_type": "stream",
     "text": [
      "Epoch 51, loss 0.0126, recon_loss 0.0063, reg_loss 0.0063: 100%|██████████| 15845/15845 [02:00<00:00, 131.79it/s]\n",
      "Epoch 52, loss 0.0182, recon_loss 0.0086, reg_loss 0.0096:   0%|          | 16/15845 [00:00<02:00, 131.69it/s]"
     ]
    },
    {
     "name": "stdout",
     "output_type": "stream",
     "text": [
      "Validation , loss 0.0126, recon_loss 0.0050, reg_loss 0.0076\n"
     ]
    },
    {
     "name": "stderr",
     "output_type": "stream",
     "text": [
      "Epoch 52, loss 0.0112, recon_loss 0.0048, reg_loss 0.0064: 100%|██████████| 15845/15845 [02:00<00:00, 131.64it/s]\n",
      "Epoch 53, loss 0.0099, recon_loss 0.0044, reg_loss 0.0055:   0%|          | 16/15845 [00:00<01:59, 131.96it/s]"
     ]
    },
    {
     "name": "stdout",
     "output_type": "stream",
     "text": [
      "Validation , loss 0.0108, recon_loss 0.0047, reg_loss 0.0061\n"
     ]
    },
    {
     "name": "stderr",
     "output_type": "stream",
     "text": [
      "Epoch 53, loss 0.0115, recon_loss 0.0049, reg_loss 0.0066: 100%|██████████| 15845/15845 [02:00<00:00, 131.67it/s]\n",
      "Epoch 54, loss 0.0223, recon_loss 0.0060, reg_loss 0.0163:   0%|          | 16/15845 [00:00<01:59, 132.20it/s]"
     ]
    },
    {
     "name": "stdout",
     "output_type": "stream",
     "text": [
      "Validation , loss 0.0110, recon_loss 0.0046, reg_loss 0.0063\n"
     ]
    },
    {
     "name": "stderr",
     "output_type": "stream",
     "text": [
      "Epoch 54, loss 0.0116, recon_loss 0.0049, reg_loss 0.0066: 100%|██████████| 15845/15845 [02:00<00:00, 131.77it/s]\n",
      "Epoch 55, loss 0.0094, recon_loss 0.0039, reg_loss 0.0055:   0%|          | 16/15845 [00:00<02:00, 131.84it/s]"
     ]
    },
    {
     "name": "stdout",
     "output_type": "stream",
     "text": [
      "Validation , loss 0.0107, recon_loss 0.0045, reg_loss 0.0061\n"
     ]
    },
    {
     "name": "stderr",
     "output_type": "stream",
     "text": [
      "Epoch 55, loss 0.0124, recon_loss 0.0050, reg_loss 0.0074: 100%|██████████| 15845/15845 [02:00<00:00, 131.81it/s]\n",
      "Epoch 56, loss 0.0098, recon_loss 0.0040, reg_loss 0.0058:   0%|          | 16/15845 [00:00<01:59, 132.38it/s]"
     ]
    },
    {
     "name": "stdout",
     "output_type": "stream",
     "text": [
      "Validation , loss 0.0110, recon_loss 0.0046, reg_loss 0.0064\n"
     ]
    },
    {
     "name": "stderr",
     "output_type": "stream",
     "text": [
      "Epoch 56, loss 0.0117, recon_loss 0.0049, reg_loss 0.0068: 100%|██████████| 15845/15845 [02:00<00:00, 131.40it/s]\n",
      "Epoch 57, loss 0.0154, recon_loss 0.0072, reg_loss 0.0082:   0%|          | 16/15845 [00:00<01:59, 131.97it/s]"
     ]
    },
    {
     "name": "stdout",
     "output_type": "stream",
     "text": [
      "Validation , loss 0.0126, recon_loss 0.0050, reg_loss 0.0076\n"
     ]
    },
    {
     "name": "stderr",
     "output_type": "stream",
     "text": [
      "Epoch 57, loss 0.0119, recon_loss 0.0050, reg_loss 0.0069: 100%|██████████| 15845/15845 [02:00<00:00, 131.81it/s]\n",
      "Epoch 58, loss 0.0094, recon_loss 0.0037, reg_loss 0.0058:   0%|          | 16/15845 [00:00<01:59, 131.98it/s]"
     ]
    },
    {
     "name": "stdout",
     "output_type": "stream",
     "text": [
      "Validation , loss 0.0113, recon_loss 0.0047, reg_loss 0.0066\n"
     ]
    },
    {
     "name": "stderr",
     "output_type": "stream",
     "text": [
      "Epoch 58, loss 0.0117, recon_loss 0.0050, reg_loss 0.0067: 100%|██████████| 15845/15845 [02:00<00:00, 131.29it/s]\n",
      "Epoch 59, loss 0.0124, recon_loss 0.0049, reg_loss 0.0075:   0%|          | 16/15845 [00:00<01:59, 132.42it/s]"
     ]
    },
    {
     "name": "stdout",
     "output_type": "stream",
     "text": [
      "Validation , loss 0.0112, recon_loss 0.0046, reg_loss 0.0065\n"
     ]
    },
    {
     "name": "stderr",
     "output_type": "stream",
     "text": [
      "Epoch 59, loss 0.0119, recon_loss 0.0049, reg_loss 0.0071: 100%|██████████| 15845/15845 [02:00<00:00, 131.54it/s]\n",
      "Epoch 60, loss 0.0126, recon_loss 0.0055, reg_loss 0.0071:   0%|          | 16/15845 [00:00<01:59, 132.63it/s]"
     ]
    },
    {
     "name": "stdout",
     "output_type": "stream",
     "text": [
      "Validation , loss 0.0109, recon_loss 0.0045, reg_loss 0.0064\n"
     ]
    },
    {
     "name": "stderr",
     "output_type": "stream",
     "text": [
      "Epoch 60, loss 0.0111, recon_loss 0.0048, reg_loss 0.0063: 100%|██████████| 15845/15845 [02:00<00:00, 131.85it/s]\n",
      "Epoch 61, loss 0.0108, recon_loss 0.0047, reg_loss 0.0061:   0%|          | 16/15845 [00:00<02:00, 131.55it/s]"
     ]
    },
    {
     "name": "stdout",
     "output_type": "stream",
     "text": [
      "Validation , loss 0.0108, recon_loss 0.0046, reg_loss 0.0063\n"
     ]
    },
    {
     "name": "stderr",
     "output_type": "stream",
     "text": [
      "Epoch 61, loss 0.0112, recon_loss 0.0049, reg_loss 0.0063: 100%|██████████| 15845/15845 [02:00<00:00, 131.53it/s]\n",
      "Epoch 62, loss 0.0106, recon_loss 0.0050, reg_loss 0.0056:   0%|          | 16/15845 [00:00<01:59, 132.87it/s]"
     ]
    },
    {
     "name": "stdout",
     "output_type": "stream",
     "text": [
      "Validation , loss 0.0109, recon_loss 0.0045, reg_loss 0.0063\n"
     ]
    },
    {
     "name": "stderr",
     "output_type": "stream",
     "text": [
      "Epoch 62, loss 0.0109, recon_loss 0.0047, reg_loss 0.0063: 100%|██████████| 15845/15845 [01:59<00:00, 132.12it/s]\n",
      "Epoch 63, loss 0.0097, recon_loss 0.0046, reg_loss 0.0050:   0%|          | 16/15845 [00:00<02:00, 131.60it/s]"
     ]
    },
    {
     "name": "stdout",
     "output_type": "stream",
     "text": [
      "Validation , loss 0.0103, recon_loss 0.0045, reg_loss 0.0058\n"
     ]
    },
    {
     "name": "stderr",
     "output_type": "stream",
     "text": [
      "Epoch 63, loss 0.0105, recon_loss 0.0047, reg_loss 0.0058: 100%|██████████| 15845/15845 [02:00<00:00, 131.67it/s]\n",
      "Epoch 64, loss 0.0094, recon_loss 0.0043, reg_loss 0.0050:   0%|          | 16/15845 [00:00<02:00, 131.78it/s]"
     ]
    },
    {
     "name": "stdout",
     "output_type": "stream",
     "text": [
      "Validation , loss 0.0099, recon_loss 0.0044, reg_loss 0.0055\n"
     ]
    },
    {
     "name": "stderr",
     "output_type": "stream",
     "text": [
      "Epoch 64, loss 0.0113, recon_loss 0.0048, reg_loss 0.0064: 100%|██████████| 15845/15845 [02:00<00:00, 131.87it/s]\n",
      "Epoch 65, loss 0.0104, recon_loss 0.0037, reg_loss 0.0066:   0%|          | 16/15845 [00:00<01:59, 132.34it/s]"
     ]
    },
    {
     "name": "stdout",
     "output_type": "stream",
     "text": [
      "Validation , loss 0.0105, recon_loss 0.0045, reg_loss 0.0060\n"
     ]
    },
    {
     "name": "stderr",
     "output_type": "stream",
     "text": [
      "Epoch 65, loss 0.0122, recon_loss 0.0051, reg_loss 0.0070: 100%|██████████| 15845/15845 [02:00<00:00, 131.72it/s]\n",
      "Epoch 66, loss 0.0102, recon_loss 0.0047, reg_loss 0.0055:   0%|          | 16/15845 [00:00<01:59, 132.62it/s]"
     ]
    },
    {
     "name": "stdout",
     "output_type": "stream",
     "text": [
      "Validation , loss 0.0106, recon_loss 0.0046, reg_loss 0.0060\n"
     ]
    },
    {
     "name": "stderr",
     "output_type": "stream",
     "text": [
      "Epoch 66, loss 0.0110, recon_loss 0.0047, reg_loss 0.0063: 100%|██████████| 15845/15845 [02:00<00:00, 132.00it/s]\n",
      "Epoch 67, loss 0.0124, recon_loss 0.0049, reg_loss 0.0075:   0%|          | 16/15845 [00:00<02:00, 131.87it/s]"
     ]
    },
    {
     "name": "stdout",
     "output_type": "stream",
     "text": [
      "Validation , loss 0.0101, recon_loss 0.0044, reg_loss 0.0057\n"
     ]
    },
    {
     "name": "stderr",
     "output_type": "stream",
     "text": [
      "Epoch 67, loss 0.0111, recon_loss 0.0047, reg_loss 0.0064: 100%|██████████| 15845/15845 [02:00<00:00, 131.66it/s]\n",
      "Epoch 68, loss 0.0108, recon_loss 0.0048, reg_loss 0.0061:   0%|          | 16/15845 [00:00<01:59, 131.96it/s]"
     ]
    },
    {
     "name": "stdout",
     "output_type": "stream",
     "text": [
      "Validation , loss 0.0109, recon_loss 0.0044, reg_loss 0.0065\n"
     ]
    },
    {
     "name": "stderr",
     "output_type": "stream",
     "text": [
      "Epoch 68, loss 0.0105, recon_loss 0.0045, reg_loss 0.0059: 100%|██████████| 15845/15845 [02:00<00:00, 131.75it/s]\n",
      "Epoch 69, loss 0.0125, recon_loss 0.0059, reg_loss 0.0066:   0%|          | 16/15845 [00:00<01:59, 132.17it/s]"
     ]
    },
    {
     "name": "stdout",
     "output_type": "stream",
     "text": [
      "Validation , loss 0.0103, recon_loss 0.0044, reg_loss 0.0059\n"
     ]
    },
    {
     "name": "stderr",
     "output_type": "stream",
     "text": [
      "Epoch 69, loss 0.0111, recon_loss 0.0047, reg_loss 0.0064: 100%|██████████| 15845/15845 [02:00<00:00, 131.67it/s]\n",
      "Epoch 70, loss 0.0106, recon_loss 0.0045, reg_loss 0.0061:   0%|          | 16/15845 [00:00<01:59, 132.54it/s]"
     ]
    },
    {
     "name": "stdout",
     "output_type": "stream",
     "text": [
      "Validation , loss 0.0103, recon_loss 0.0044, reg_loss 0.0059\n"
     ]
    },
    {
     "name": "stderr",
     "output_type": "stream",
     "text": [
      "Epoch 70, loss 0.0109, recon_loss 0.0045, reg_loss 0.0063: 100%|██████████| 15845/15845 [02:00<00:00, 131.59it/s]\n",
      "Epoch 71, loss 0.0110, recon_loss 0.0053, reg_loss 0.0057:   0%|          | 16/15845 [00:00<01:59, 132.12it/s]"
     ]
    },
    {
     "name": "stdout",
     "output_type": "stream",
     "text": [
      "Validation , loss 0.0102, recon_loss 0.0044, reg_loss 0.0058\n"
     ]
    },
    {
     "name": "stderr",
     "output_type": "stream",
     "text": [
      "Epoch 71, loss 0.0108, recon_loss 0.0047, reg_loss 0.0062: 100%|██████████| 15845/15845 [02:00<00:00, 131.95it/s]\n",
      "Epoch 72, loss 0.0115, recon_loss 0.0058, reg_loss 0.0058:   0%|          | 16/15845 [00:00<01:59, 132.07it/s]"
     ]
    },
    {
     "name": "stdout",
     "output_type": "stream",
     "text": [
      "Validation , loss 0.0105, recon_loss 0.0045, reg_loss 0.0060\n"
     ]
    },
    {
     "name": "stderr",
     "output_type": "stream",
     "text": [
      "Epoch 72, loss 0.0118, recon_loss 0.0048, reg_loss 0.0070: 100%|██████████| 15845/15845 [02:00<00:00, 131.67it/s]\n",
      "Epoch 73, loss 0.0105, recon_loss 0.0045, reg_loss 0.0061:   0%|          | 16/15845 [00:00<01:59, 132.01it/s]"
     ]
    },
    {
     "name": "stdout",
     "output_type": "stream",
     "text": [
      "Validation , loss 0.0102, recon_loss 0.0045, reg_loss 0.0057\n"
     ]
    },
    {
     "name": "stderr",
     "output_type": "stream",
     "text": [
      "Epoch 73, loss 0.0109, recon_loss 0.0047, reg_loss 0.0062: 100%|██████████| 15845/15845 [02:00<00:00, 131.53it/s]\n",
      "Epoch 74, loss 0.0148, recon_loss 0.0074, reg_loss 0.0074:   0%|          | 16/15845 [00:00<01:59, 132.81it/s]"
     ]
    },
    {
     "name": "stdout",
     "output_type": "stream",
     "text": [
      "Validation , loss 0.0109, recon_loss 0.0045, reg_loss 0.0064\n"
     ]
    },
    {
     "name": "stderr",
     "output_type": "stream",
     "text": [
      "Epoch 74, loss 0.0105, recon_loss 0.0045, reg_loss 0.0060: 100%|██████████| 15845/15845 [02:00<00:00, 131.93it/s]\n",
      "Epoch 75, loss 0.0115, recon_loss 0.0049, reg_loss 0.0066:   0%|          | 16/15845 [00:00<02:01, 130.49it/s]"
     ]
    },
    {
     "name": "stdout",
     "output_type": "stream",
     "text": [
      "Validation , loss 0.0106, recon_loss 0.0045, reg_loss 0.0061\n"
     ]
    },
    {
     "name": "stderr",
     "output_type": "stream",
     "text": [
      "Epoch 75, loss 0.0105, recon_loss 0.0046, reg_loss 0.0059: 100%|██████████| 15845/15845 [02:00<00:00, 131.68it/s]\n",
      "Epoch 76, loss 0.0105, recon_loss 0.0046, reg_loss 0.0060:   0%|          | 16/15845 [00:00<01:59, 132.29it/s]"
     ]
    },
    {
     "name": "stdout",
     "output_type": "stream",
     "text": [
      "Validation , loss 0.0105, recon_loss 0.0046, reg_loss 0.0059\n"
     ]
    },
    {
     "name": "stderr",
     "output_type": "stream",
     "text": [
      "Epoch 76, loss 0.0116, recon_loss 0.0049, reg_loss 0.0067: 100%|██████████| 15845/15845 [02:00<00:00, 131.91it/s]\n",
      "Epoch 77, loss 0.0103, recon_loss 0.0044, reg_loss 0.0060:   0%|          | 16/15845 [00:00<01:59, 132.05it/s]"
     ]
    },
    {
     "name": "stdout",
     "output_type": "stream",
     "text": [
      "Validation , loss 0.0105, recon_loss 0.0045, reg_loss 0.0060\n"
     ]
    },
    {
     "name": "stderr",
     "output_type": "stream",
     "text": [
      "Epoch 77, loss 0.0107, recon_loss 0.0046, reg_loss 0.0061: 100%|██████████| 15845/15845 [02:00<00:00, 131.49it/s]\n",
      "Epoch 78, loss 0.0086, recon_loss 0.0034, reg_loss 0.0052:   0%|          | 16/15845 [00:00<01:59, 132.30it/s]"
     ]
    },
    {
     "name": "stdout",
     "output_type": "stream",
     "text": [
      "Validation , loss 0.0103, recon_loss 0.0044, reg_loss 0.0059\n"
     ]
    },
    {
     "name": "stderr",
     "output_type": "stream",
     "text": [
      "Epoch 78, loss 0.0104, recon_loss 0.0045, reg_loss 0.0058: 100%|██████████| 15845/15845 [02:00<00:00, 131.82it/s]\n",
      "Epoch 79, loss 0.0111, recon_loss 0.0045, reg_loss 0.0065:   0%|          | 16/15845 [00:00<01:59, 132.39it/s]"
     ]
    },
    {
     "name": "stdout",
     "output_type": "stream",
     "text": [
      "Validation , loss 0.0103, recon_loss 0.0044, reg_loss 0.0059\n"
     ]
    },
    {
     "name": "stderr",
     "output_type": "stream",
     "text": [
      "Epoch 79, loss 0.0112, recon_loss 0.0048, reg_loss 0.0064: 100%|██████████| 15845/15845 [02:00<00:00, 131.78it/s]\n",
      "Epoch 80, loss 0.0091, recon_loss 0.0038, reg_loss 0.0053:   0%|          | 16/15845 [00:00<01:59, 132.28it/s]"
     ]
    },
    {
     "name": "stdout",
     "output_type": "stream",
     "text": [
      "Validation , loss 0.0100, recon_loss 0.0043, reg_loss 0.0057\n"
     ]
    },
    {
     "name": "stderr",
     "output_type": "stream",
     "text": [
      "Epoch 80, loss 0.0108, recon_loss 0.0047, reg_loss 0.0061: 100%|██████████| 15845/15845 [02:00<00:00, 131.64it/s]\n",
      "Epoch 81, loss 0.0126, recon_loss 0.0063, reg_loss 0.0063:   0%|          | 16/15845 [00:00<02:00, 131.90it/s]"
     ]
    },
    {
     "name": "stdout",
     "output_type": "stream",
     "text": [
      "Validation , loss 0.0105, recon_loss 0.0045, reg_loss 0.0060\n"
     ]
    },
    {
     "name": "stderr",
     "output_type": "stream",
     "text": [
      "Epoch 81, loss 0.0105, recon_loss 0.0046, reg_loss 0.0059: 100%|██████████| 15845/15845 [02:00<00:00, 131.70it/s]\n",
      "Epoch 82, loss 0.0113, recon_loss 0.0046, reg_loss 0.0067:   0%|          | 16/15845 [00:00<01:59, 132.51it/s]"
     ]
    },
    {
     "name": "stdout",
     "output_type": "stream",
     "text": [
      "Validation , loss 0.0102, recon_loss 0.0045, reg_loss 0.0057\n"
     ]
    },
    {
     "name": "stderr",
     "output_type": "stream",
     "text": [
      "Epoch 82, loss 0.0104, recon_loss 0.0045, reg_loss 0.0058: 100%|██████████| 15845/15845 [02:00<00:00, 131.99it/s]\n",
      "Epoch 83, loss 0.0078, recon_loss 0.0034, reg_loss 0.0044:   0%|          | 16/15845 [00:00<01:59, 132.65it/s]"
     ]
    },
    {
     "name": "stdout",
     "output_type": "stream",
     "text": [
      "Validation , loss 0.0098, recon_loss 0.0043, reg_loss 0.0055\n"
     ]
    },
    {
     "name": "stderr",
     "output_type": "stream",
     "text": [
      "Epoch 83, loss 0.0101, recon_loss 0.0044, reg_loss 0.0057: 100%|██████████| 15845/15845 [02:00<00:00, 131.64it/s]\n",
      "Epoch 84, loss 0.0095, recon_loss 0.0041, reg_loss 0.0055:   0%|          | 16/15845 [00:00<01:59, 132.28it/s]"
     ]
    },
    {
     "name": "stdout",
     "output_type": "stream",
     "text": [
      "Validation , loss 0.0099, recon_loss 0.0043, reg_loss 0.0056\n"
     ]
    },
    {
     "name": "stderr",
     "output_type": "stream",
     "text": [
      "Epoch 84, loss 0.0108, recon_loss 0.0046, reg_loss 0.0062: 100%|██████████| 15845/15845 [02:00<00:00, 131.74it/s]\n",
      "Epoch 85, loss 0.0094, recon_loss 0.0040, reg_loss 0.0054:   0%|          | 16/15845 [00:00<01:59, 132.30it/s]"
     ]
    },
    {
     "name": "stdout",
     "output_type": "stream",
     "text": [
      "Validation , loss 0.0100, recon_loss 0.0043, reg_loss 0.0057\n"
     ]
    },
    {
     "name": "stderr",
     "output_type": "stream",
     "text": [
      "Epoch 85, loss 0.0111, recon_loss 0.0046, reg_loss 0.0065: 100%|██████████| 15845/15845 [02:00<00:00, 131.80it/s]\n",
      "Epoch 86, loss 0.0101, recon_loss 0.0037, reg_loss 0.0064:   0%|          | 16/15845 [00:00<01:59, 132.41it/s]"
     ]
    },
    {
     "name": "stdout",
     "output_type": "stream",
     "text": [
      "Validation , loss 0.0120, recon_loss 0.0046, reg_loss 0.0074\n"
     ]
    },
    {
     "name": "stderr",
     "output_type": "stream",
     "text": [
      "Epoch 86, loss 0.0104, recon_loss 0.0044, reg_loss 0.0059: 100%|██████████| 15845/15845 [02:00<00:00, 131.96it/s]\n",
      "Epoch 87, loss 0.0092, recon_loss 0.0041, reg_loss 0.0052:   0%|          | 16/15845 [00:00<02:00, 131.63it/s]"
     ]
    },
    {
     "name": "stdout",
     "output_type": "stream",
     "text": [
      "Validation , loss 0.0100, recon_loss 0.0043, reg_loss 0.0056\n"
     ]
    },
    {
     "name": "stderr",
     "output_type": "stream",
     "text": [
      "Epoch 87, loss 0.0109, recon_loss 0.0046, reg_loss 0.0063: 100%|██████████| 15845/15845 [02:00<00:00, 131.57it/s]\n",
      "Epoch 88, loss 0.0093, recon_loss 0.0040, reg_loss 0.0052:   0%|          | 16/15845 [00:00<02:00, 131.71it/s]"
     ]
    },
    {
     "name": "stdout",
     "output_type": "stream",
     "text": [
      "Validation , loss 0.0102, recon_loss 0.0044, reg_loss 0.0058\n"
     ]
    },
    {
     "name": "stderr",
     "output_type": "stream",
     "text": [
      "Epoch 88, loss 0.0104, recon_loss 0.0046, reg_loss 0.0058: 100%|██████████| 15845/15845 [02:00<00:00, 131.84it/s]\n",
      "Epoch 89, loss 0.0090, recon_loss 0.0041, reg_loss 0.0049:   0%|          | 16/15845 [00:00<01:59, 132.38it/s]"
     ]
    },
    {
     "name": "stdout",
     "output_type": "stream",
     "text": [
      "Validation , loss 0.0100, recon_loss 0.0044, reg_loss 0.0057\n"
     ]
    },
    {
     "name": "stderr",
     "output_type": "stream",
     "text": [
      "Epoch 89, loss 0.0099, recon_loss 0.0042, reg_loss 0.0057: 100%|██████████| 15845/15845 [02:00<00:00, 131.67it/s]\n",
      "Epoch 90, loss 0.0095, recon_loss 0.0039, reg_loss 0.0056:   0%|          | 16/15845 [00:00<02:00, 131.28it/s]"
     ]
    },
    {
     "name": "stdout",
     "output_type": "stream",
     "text": [
      "Validation , loss 0.0097, recon_loss 0.0043, reg_loss 0.0054\n"
     ]
    },
    {
     "name": "stderr",
     "output_type": "stream",
     "text": [
      "Epoch 90, loss 0.0098, recon_loss 0.0043, reg_loss 0.0055: 100%|██████████| 15845/15845 [02:00<00:00, 131.94it/s]\n",
      "Epoch 91, loss 0.0094, recon_loss 0.0038, reg_loss 0.0055:   0%|          | 16/15845 [00:00<02:00, 131.30it/s]"
     ]
    },
    {
     "name": "stdout",
     "output_type": "stream",
     "text": [
      "Validation , loss 0.0097, recon_loss 0.0042, reg_loss 0.0055\n"
     ]
    },
    {
     "name": "stderr",
     "output_type": "stream",
     "text": [
      "Epoch 91, loss 0.0102, recon_loss 0.0044, reg_loss 0.0058: 100%|██████████| 15845/15845 [02:00<00:00, 131.48it/s]\n",
      "Epoch 92, loss 0.0090, recon_loss 0.0040, reg_loss 0.0050:   0%|          | 16/15845 [00:00<02:00, 131.84it/s]"
     ]
    },
    {
     "name": "stdout",
     "output_type": "stream",
     "text": [
      "Validation , loss 0.0103, recon_loss 0.0044, reg_loss 0.0058\n"
     ]
    },
    {
     "name": "stderr",
     "output_type": "stream",
     "text": [
      "Epoch 92, loss 0.0106, recon_loss 0.0045, reg_loss 0.0060: 100%|██████████| 15845/15845 [02:00<00:00, 131.76it/s]\n",
      "Epoch 93, loss 0.0091, recon_loss 0.0042, reg_loss 0.0049:   0%|          | 16/15845 [00:00<02:00, 131.80it/s]"
     ]
    },
    {
     "name": "stdout",
     "output_type": "stream",
     "text": [
      "Validation , loss 0.0103, recon_loss 0.0042, reg_loss 0.0060\n"
     ]
    },
    {
     "name": "stderr",
     "output_type": "stream",
     "text": [
      "Epoch 93, loss 0.0106, recon_loss 0.0046, reg_loss 0.0060: 100%|██████████| 15845/15845 [02:00<00:00, 131.55it/s]\n",
      "Epoch 94, loss 0.0113, recon_loss 0.0054, reg_loss 0.0059:   0%|          | 16/15845 [00:00<01:59, 132.63it/s]"
     ]
    },
    {
     "name": "stdout",
     "output_type": "stream",
     "text": [
      "Validation , loss 0.0097, recon_loss 0.0043, reg_loss 0.0054\n"
     ]
    },
    {
     "name": "stderr",
     "output_type": "stream",
     "text": [
      "Epoch 94, loss 0.0104, recon_loss 0.0046, reg_loss 0.0058: 100%|██████████| 15845/15845 [02:00<00:00, 132.02it/s]\n",
      "Epoch 95, loss 0.0102, recon_loss 0.0048, reg_loss 0.0054:   0%|          | 16/15845 [00:00<01:59, 132.84it/s]"
     ]
    },
    {
     "name": "stdout",
     "output_type": "stream",
     "text": [
      "Validation , loss 0.0104, recon_loss 0.0044, reg_loss 0.0060\n"
     ]
    },
    {
     "name": "stderr",
     "output_type": "stream",
     "text": [
      "Epoch 95, loss 0.0101, recon_loss 0.0045, reg_loss 0.0056: 100%|██████████| 15845/15845 [02:00<00:00, 131.76it/s]\n",
      "Epoch 96, loss 0.0107, recon_loss 0.0046, reg_loss 0.0061:   0%|          | 16/15845 [00:00<02:00, 131.39it/s]"
     ]
    },
    {
     "name": "stdout",
     "output_type": "stream",
     "text": [
      "Validation , loss 0.0105, recon_loss 0.0044, reg_loss 0.0061\n"
     ]
    },
    {
     "name": "stderr",
     "output_type": "stream",
     "text": [
      "Epoch 96, loss 0.0105, recon_loss 0.0044, reg_loss 0.0061: 100%|██████████| 15845/15845 [02:00<00:00, 131.47it/s]\n",
      "Epoch 97, loss 0.0093, recon_loss 0.0043, reg_loss 0.0050:   0%|          | 16/15845 [00:00<02:00, 131.37it/s]"
     ]
    },
    {
     "name": "stdout",
     "output_type": "stream",
     "text": [
      "Validation , loss 0.0096, recon_loss 0.0043, reg_loss 0.0053\n"
     ]
    },
    {
     "name": "stderr",
     "output_type": "stream",
     "text": [
      "Epoch 97, loss 0.0101, recon_loss 0.0045, reg_loss 0.0056: 100%|██████████| 15845/15845 [02:00<00:00, 131.76it/s]\n",
      "Epoch 98, loss 0.0092, recon_loss 0.0042, reg_loss 0.0051:   0%|          | 16/15845 [00:00<01:59, 132.37it/s]"
     ]
    },
    {
     "name": "stdout",
     "output_type": "stream",
     "text": [
      "Validation , loss 0.0095, recon_loss 0.0042, reg_loss 0.0052\n"
     ]
    },
    {
     "name": "stderr",
     "output_type": "stream",
     "text": [
      "Epoch 98, loss 0.0099, recon_loss 0.0043, reg_loss 0.0055: 100%|██████████| 15845/15845 [02:00<00:00, 131.94it/s]\n",
      "Epoch 99, loss 0.0087, recon_loss 0.0037, reg_loss 0.0050:   0%|          | 16/15845 [00:00<02:00, 131.75it/s]"
     ]
    },
    {
     "name": "stdout",
     "output_type": "stream",
     "text": [
      "Validation , loss 0.0095, recon_loss 0.0042, reg_loss 0.0053\n"
     ]
    },
    {
     "name": "stderr",
     "output_type": "stream",
     "text": [
      "Epoch 99, loss 0.0105, recon_loss 0.0046, reg_loss 0.0059: 100%|██████████| 15845/15845 [02:00<00:00, 131.69it/s]\n",
      "Epoch 100, loss 0.0093, recon_loss 0.0040, reg_loss 0.0053:   0%|          | 16/15845 [00:00<02:00, 131.76it/s]"
     ]
    },
    {
     "name": "stdout",
     "output_type": "stream",
     "text": [
      "Validation , loss 0.0100, recon_loss 0.0042, reg_loss 0.0058\n"
     ]
    },
    {
     "name": "stderr",
     "output_type": "stream",
     "text": [
      "Epoch 100, loss 0.0107, recon_loss 0.0054, reg_loss 0.0054: 100%|██████████| 15845/15845 [02:00<00:00, 131.59it/s]\n",
      "Epoch 101, loss 0.0107, recon_loss 0.0047, reg_loss 0.0060:   0%|          | 16/15845 [00:00<01:59, 132.04it/s]"
     ]
    },
    {
     "name": "stdout",
     "output_type": "stream",
     "text": [
      "Validation , loss 0.0101, recon_loss 0.0044, reg_loss 0.0057\n"
     ]
    },
    {
     "name": "stderr",
     "output_type": "stream",
     "text": [
      "Epoch 101, loss 0.0101, recon_loss 0.0043, reg_loss 0.0057: 100%|██████████| 15845/15845 [02:00<00:00, 131.61it/s]\n",
      "Epoch 102, loss 0.0092, recon_loss 0.0041, reg_loss 0.0051:   0%|          | 16/15845 [00:00<01:59, 132.57it/s]"
     ]
    },
    {
     "name": "stdout",
     "output_type": "stream",
     "text": [
      "Validation , loss 0.0100, recon_loss 0.0044, reg_loss 0.0056\n"
     ]
    },
    {
     "name": "stderr",
     "output_type": "stream",
     "text": [
      "Epoch 102, loss 0.0100, recon_loss 0.0042, reg_loss 0.0058: 100%|██████████| 15845/15845 [02:00<00:00, 131.76it/s]\n",
      "Epoch 103, loss 0.0089, recon_loss 0.0034, reg_loss 0.0055:   0%|          | 16/15845 [00:00<01:59, 132.13it/s]"
     ]
    },
    {
     "name": "stdout",
     "output_type": "stream",
     "text": [
      "Validation , loss 0.0098, recon_loss 0.0043, reg_loss 0.0056\n"
     ]
    },
    {
     "name": "stderr",
     "output_type": "stream",
     "text": [
      "Epoch 103, loss 0.0103, recon_loss 0.0046, reg_loss 0.0057: 100%|██████████| 15845/15845 [02:00<00:00, 131.72it/s]\n",
      "Epoch 104, loss 0.0130, recon_loss 0.0055, reg_loss 0.0075:   0%|          | 16/15845 [00:00<01:59, 132.58it/s]"
     ]
    },
    {
     "name": "stdout",
     "output_type": "stream",
     "text": [
      "Validation , loss 0.0102, recon_loss 0.0043, reg_loss 0.0058\n"
     ]
    },
    {
     "name": "stderr",
     "output_type": "stream",
     "text": [
      "Epoch 104, loss 0.0099, recon_loss 0.0043, reg_loss 0.0056: 100%|██████████| 15845/15845 [02:00<00:00, 131.49it/s]\n",
      "Epoch 105, loss 0.0090, recon_loss 0.0037, reg_loss 0.0052:   0%|          | 16/15845 [00:00<02:00, 131.53it/s]"
     ]
    },
    {
     "name": "stdout",
     "output_type": "stream",
     "text": [
      "Validation , loss 0.0097, recon_loss 0.0044, reg_loss 0.0053\n"
     ]
    },
    {
     "name": "stderr",
     "output_type": "stream",
     "text": [
      "Epoch 105, loss 0.0099, recon_loss 0.0044, reg_loss 0.0055: 100%|██████████| 15845/15845 [02:00<00:00, 131.55it/s]\n",
      "Epoch 106, loss 0.0100, recon_loss 0.0040, reg_loss 0.0060:   0%|          | 16/15845 [00:00<01:59, 132.22it/s]"
     ]
    },
    {
     "name": "stdout",
     "output_type": "stream",
     "text": [
      "Validation , loss 0.0103, recon_loss 0.0044, reg_loss 0.0059\n"
     ]
    },
    {
     "name": "stderr",
     "output_type": "stream",
     "text": [
      "Epoch 106, loss 0.0110, recon_loss 0.0048, reg_loss 0.0062: 100%|██████████| 15845/15845 [02:00<00:00, 131.87it/s]\n",
      "Epoch 107, loss 0.0100, recon_loss 0.0037, reg_loss 0.0063:   0%|          | 16/15845 [00:00<01:59, 132.64it/s]"
     ]
    },
    {
     "name": "stdout",
     "output_type": "stream",
     "text": [
      "Validation , loss 0.0107, recon_loss 0.0044, reg_loss 0.0063\n"
     ]
    },
    {
     "name": "stderr",
     "output_type": "stream",
     "text": [
      "Epoch 107, loss 0.0101, recon_loss 0.0043, reg_loss 0.0058: 100%|██████████| 15845/15845 [02:00<00:00, 131.64it/s]\n",
      "Epoch 108, loss 0.0142, recon_loss 0.0075, reg_loss 0.0067:   0%|          | 16/15845 [00:00<02:00, 131.33it/s]"
     ]
    },
    {
     "name": "stdout",
     "output_type": "stream",
     "text": [
      "Validation , loss 0.0096, recon_loss 0.0042, reg_loss 0.0055\n"
     ]
    },
    {
     "name": "stderr",
     "output_type": "stream",
     "text": [
      "Epoch 108, loss 0.0112, recon_loss 0.0056, reg_loss 0.0055: 100%|██████████| 15845/15845 [02:00<00:00, 131.68it/s]\n",
      "Epoch 109, loss 0.0094, recon_loss 0.0035, reg_loss 0.0059:   0%|          | 16/15845 [00:00<01:59, 132.53it/s]"
     ]
    },
    {
     "name": "stdout",
     "output_type": "stream",
     "text": [
      "Validation , loss 0.0108, recon_loss 0.0044, reg_loss 0.0064\n"
     ]
    },
    {
     "name": "stderr",
     "output_type": "stream",
     "text": [
      "Epoch 109, loss 0.0105, recon_loss 0.0045, reg_loss 0.0060: 100%|██████████| 15845/15845 [02:00<00:00, 131.68it/s]\n",
      "Epoch 110, loss 0.0121, recon_loss 0.0062, reg_loss 0.0059:   0%|          | 16/15845 [00:00<01:59, 132.35it/s]"
     ]
    },
    {
     "name": "stdout",
     "output_type": "stream",
     "text": [
      "Validation , loss 0.0102, recon_loss 0.0046, reg_loss 0.0056\n"
     ]
    },
    {
     "name": "stderr",
     "output_type": "stream",
     "text": [
      "Epoch 110, loss 0.0098, recon_loss 0.0042, reg_loss 0.0055: 100%|██████████| 15845/15845 [02:00<00:00, 131.96it/s]\n",
      "Epoch 111, loss 0.0109, recon_loss 0.0051, reg_loss 0.0058:   0%|          | 16/15845 [00:00<02:00, 131.83it/s]"
     ]
    },
    {
     "name": "stdout",
     "output_type": "stream",
     "text": [
      "Validation , loss 0.0098, recon_loss 0.0042, reg_loss 0.0056\n"
     ]
    },
    {
     "name": "stderr",
     "output_type": "stream",
     "text": [
      "Epoch 111, loss 0.0099, recon_loss 0.0044, reg_loss 0.0056: 100%|██████████| 15845/15845 [02:00<00:00, 131.96it/s]\n",
      "Epoch 112, loss 0.0109, recon_loss 0.0048, reg_loss 0.0062:   0%|          | 16/15845 [00:00<01:59, 132.22it/s]"
     ]
    },
    {
     "name": "stdout",
     "output_type": "stream",
     "text": [
      "Validation , loss 0.0095, recon_loss 0.0041, reg_loss 0.0054\n"
     ]
    },
    {
     "name": "stderr",
     "output_type": "stream",
     "text": [
      "Epoch 112, loss 0.0107, recon_loss 0.0045, reg_loss 0.0061: 100%|██████████| 15845/15845 [02:00<00:00, 131.99it/s]\n",
      "Epoch 113, loss 0.0087, recon_loss 0.0037, reg_loss 0.0051:   0%|          | 16/15845 [00:00<02:00, 131.55it/s]"
     ]
    },
    {
     "name": "stdout",
     "output_type": "stream",
     "text": [
      "Validation , loss 0.0096, recon_loss 0.0042, reg_loss 0.0054\n"
     ]
    },
    {
     "name": "stderr",
     "output_type": "stream",
     "text": [
      "Epoch 113, loss 0.0104, recon_loss 0.0044, reg_loss 0.0060: 100%|██████████| 15845/15845 [02:00<00:00, 131.62it/s]\n",
      "Epoch 114, loss 0.0121, recon_loss 0.0041, reg_loss 0.0080:   0%|          | 16/15845 [00:00<01:59, 132.28it/s]"
     ]
    },
    {
     "name": "stdout",
     "output_type": "stream",
     "text": [
      "Validation , loss 0.0097, recon_loss 0.0043, reg_loss 0.0054\n"
     ]
    },
    {
     "name": "stderr",
     "output_type": "stream",
     "text": [
      "Epoch 114, loss 0.0103, recon_loss 0.0043, reg_loss 0.0060: 100%|██████████| 15845/15845 [02:00<00:00, 131.87it/s]\n",
      "Epoch 115, loss 0.0143, recon_loss 0.0050, reg_loss 0.0093:   0%|          | 16/15845 [00:00<01:59, 132.23it/s]"
     ]
    },
    {
     "name": "stdout",
     "output_type": "stream",
     "text": [
      "Validation , loss 0.0097, recon_loss 0.0042, reg_loss 0.0054\n"
     ]
    },
    {
     "name": "stderr",
     "output_type": "stream",
     "text": [
      "Epoch 115, loss 0.0097, recon_loss 0.0043, reg_loss 0.0054: 100%|██████████| 15845/15845 [02:00<00:00, 132.01it/s]\n",
      "Epoch 116, loss 0.0091, recon_loss 0.0039, reg_loss 0.0052:   0%|          | 16/15845 [00:00<01:59, 132.04it/s]"
     ]
    },
    {
     "name": "stdout",
     "output_type": "stream",
     "text": [
      "Validation , loss 0.0098, recon_loss 0.0042, reg_loss 0.0056\n"
     ]
    },
    {
     "name": "stderr",
     "output_type": "stream",
     "text": [
      "Epoch 116, loss 0.0100, recon_loss 0.0045, reg_loss 0.0056: 100%|██████████| 15845/15845 [02:00<00:00, 131.61it/s]\n",
      "Epoch 117, loss 0.0090, recon_loss 0.0035, reg_loss 0.0055:   0%|          | 16/15845 [00:00<01:59, 132.10it/s]"
     ]
    },
    {
     "name": "stdout",
     "output_type": "stream",
     "text": [
      "Validation , loss 0.0102, recon_loss 0.0043, reg_loss 0.0059\n"
     ]
    },
    {
     "name": "stderr",
     "output_type": "stream",
     "text": [
      "Epoch 117, loss 0.0099, recon_loss 0.0043, reg_loss 0.0056: 100%|██████████| 15845/15845 [02:00<00:00, 131.93it/s]\n",
      "Epoch 118, loss 0.0116, recon_loss 0.0044, reg_loss 0.0073:   0%|          | 16/15845 [00:00<01:59, 132.07it/s]"
     ]
    },
    {
     "name": "stdout",
     "output_type": "stream",
     "text": [
      "Validation , loss 0.0094, recon_loss 0.0041, reg_loss 0.0053\n"
     ]
    },
    {
     "name": "stderr",
     "output_type": "stream",
     "text": [
      "Epoch 118, loss 0.0094, recon_loss 0.0042, reg_loss 0.0052: 100%|██████████| 15845/15845 [02:00<00:00, 131.51it/s]\n",
      "Epoch 119, loss 0.0077, recon_loss 0.0032, reg_loss 0.0045:   0%|          | 16/15845 [00:00<02:00, 131.47it/s]"
     ]
    },
    {
     "name": "stdout",
     "output_type": "stream",
     "text": [
      "Validation , loss 0.0093, recon_loss 0.0042, reg_loss 0.0051\n"
     ]
    },
    {
     "name": "stderr",
     "output_type": "stream",
     "text": [
      "Epoch 119, loss 0.0108, recon_loss 0.0045, reg_loss 0.0063: 100%|██████████| 15845/15845 [02:00<00:00, 131.67it/s]\n",
      "Epoch 120, loss 0.0109, recon_loss 0.0048, reg_loss 0.0061:   0%|          | 16/15845 [00:00<01:59, 132.06it/s]"
     ]
    },
    {
     "name": "stdout",
     "output_type": "stream",
     "text": [
      "Validation , loss 0.0095, recon_loss 0.0042, reg_loss 0.0054\n"
     ]
    },
    {
     "name": "stderr",
     "output_type": "stream",
     "text": [
      "Epoch 120, loss 0.0103, recon_loss 0.0046, reg_loss 0.0057: 100%|██████████| 15845/15845 [02:00<00:00, 131.80it/s]\n",
      "Epoch 121, loss 0.0085, recon_loss 0.0037, reg_loss 0.0049:   0%|          | 16/15845 [00:00<01:59, 132.09it/s]"
     ]
    },
    {
     "name": "stdout",
     "output_type": "stream",
     "text": [
      "Validation , loss 0.0097, recon_loss 0.0044, reg_loss 0.0053\n"
     ]
    },
    {
     "name": "stderr",
     "output_type": "stream",
     "text": [
      "Epoch 121, loss 0.0107, recon_loss 0.0052, reg_loss 0.0056: 100%|██████████| 15845/15845 [02:00<00:00, 131.50it/s]\n",
      "Epoch 122, loss 0.0106, recon_loss 0.0044, reg_loss 0.0062:   0%|          | 16/15845 [00:00<02:00, 131.87it/s]"
     ]
    },
    {
     "name": "stdout",
     "output_type": "stream",
     "text": [
      "Validation , loss 0.0103, recon_loss 0.0043, reg_loss 0.0060\n"
     ]
    },
    {
     "name": "stderr",
     "output_type": "stream",
     "text": [
      "Epoch 122, loss 0.0102, recon_loss 0.0044, reg_loss 0.0057: 100%|██████████| 15845/15845 [02:00<00:00, 131.62it/s]\n",
      "Epoch 123, loss 0.0091, recon_loss 0.0038, reg_loss 0.0053:   0%|          | 16/15845 [00:00<01:59, 131.98it/s]"
     ]
    },
    {
     "name": "stdout",
     "output_type": "stream",
     "text": [
      "Validation , loss 0.0093, recon_loss 0.0041, reg_loss 0.0052\n"
     ]
    },
    {
     "name": "stderr",
     "output_type": "stream",
     "text": [
      "Epoch 123, loss 0.0099, recon_loss 0.0043, reg_loss 0.0056: 100%|██████████| 15845/15845 [02:00<00:00, 131.88it/s]\n",
      "Epoch 124, loss 0.0099, recon_loss 0.0035, reg_loss 0.0063:   0%|          | 16/15845 [00:00<01:59, 132.59it/s]"
     ]
    },
    {
     "name": "stdout",
     "output_type": "stream",
     "text": [
      "Validation , loss 0.0097, recon_loss 0.0043, reg_loss 0.0054\n"
     ]
    },
    {
     "name": "stderr",
     "output_type": "stream",
     "text": [
      "Epoch 124, loss 0.0094, recon_loss 0.0041, reg_loss 0.0052: 100%|██████████| 15845/15845 [02:00<00:00, 131.60it/s]\n",
      "Epoch 125, loss 0.0075, recon_loss 0.0033, reg_loss 0.0042:   0%|          | 16/15845 [00:00<01:59, 132.41it/s]"
     ]
    },
    {
     "name": "stdout",
     "output_type": "stream",
     "text": [
      "Validation , loss 0.0092, recon_loss 0.0042, reg_loss 0.0050\n"
     ]
    },
    {
     "name": "stderr",
     "output_type": "stream",
     "text": [
      "Epoch 125, loss 0.0095, recon_loss 0.0042, reg_loss 0.0054: 100%|██████████| 15845/15845 [01:59<00:00, 132.11it/s]\n",
      "Epoch 126, loss 0.0101, recon_loss 0.0038, reg_loss 0.0063:   0%|          | 16/15845 [00:00<01:59, 132.47it/s]"
     ]
    },
    {
     "name": "stdout",
     "output_type": "stream",
     "text": [
      "Validation , loss 0.0094, recon_loss 0.0041, reg_loss 0.0054\n"
     ]
    },
    {
     "name": "stderr",
     "output_type": "stream",
     "text": [
      "Epoch 126, loss 0.0100, recon_loss 0.0045, reg_loss 0.0055: 100%|██████████| 15845/15845 [01:59<00:00, 132.09it/s]\n",
      "Epoch 127, loss 0.0100, recon_loss 0.0044, reg_loss 0.0056:   0%|          | 16/15845 [00:00<01:59, 132.51it/s]"
     ]
    },
    {
     "name": "stdout",
     "output_type": "stream",
     "text": [
      "Validation , loss 0.0095, recon_loss 0.0042, reg_loss 0.0053\n"
     ]
    },
    {
     "name": "stderr",
     "output_type": "stream",
     "text": [
      "Epoch 127, loss 0.0103, recon_loss 0.0044, reg_loss 0.0059: 100%|██████████| 15845/15845 [02:00<00:00, 131.87it/s]\n",
      "Epoch 128, loss 0.0122, recon_loss 0.0054, reg_loss 0.0068:   0%|          | 16/15845 [00:00<02:00, 131.82it/s]"
     ]
    },
    {
     "name": "stdout",
     "output_type": "stream",
     "text": [
      "Validation , loss 0.0098, recon_loss 0.0042, reg_loss 0.0056\n"
     ]
    },
    {
     "name": "stderr",
     "output_type": "stream",
     "text": [
      "Epoch 128, loss 0.0098, recon_loss 0.0041, reg_loss 0.0056: 100%|██████████| 15845/15845 [02:00<00:00, 132.01it/s]\n",
      "Epoch 129, loss 0.0101, recon_loss 0.0049, reg_loss 0.0052:   0%|          | 16/15845 [00:00<01:59, 132.47it/s]"
     ]
    },
    {
     "name": "stdout",
     "output_type": "stream",
     "text": [
      "Validation , loss 0.0092, recon_loss 0.0041, reg_loss 0.0051\n"
     ]
    },
    {
     "name": "stderr",
     "output_type": "stream",
     "text": [
      "Epoch 129, loss 0.0100, recon_loss 0.0040, reg_loss 0.0060: 100%|██████████| 15845/15845 [02:00<00:00, 131.87it/s]\n",
      "Epoch 130, loss 0.0115, recon_loss 0.0062, reg_loss 0.0053:   0%|          | 16/15845 [00:00<01:59, 132.44it/s]"
     ]
    },
    {
     "name": "stdout",
     "output_type": "stream",
     "text": [
      "Validation , loss 0.0095, recon_loss 0.0041, reg_loss 0.0054\n"
     ]
    },
    {
     "name": "stderr",
     "output_type": "stream",
     "text": [
      "Epoch 130, loss 0.0100, recon_loss 0.0044, reg_loss 0.0056: 100%|██████████| 15845/15845 [01:59<00:00, 132.13it/s]\n",
      "Epoch 131, loss 0.0099, recon_loss 0.0045, reg_loss 0.0055:   0%|          | 16/15845 [00:00<01:59, 132.34it/s]"
     ]
    },
    {
     "name": "stdout",
     "output_type": "stream",
     "text": [
      "Validation , loss 0.0094, recon_loss 0.0041, reg_loss 0.0053\n"
     ]
    },
    {
     "name": "stderr",
     "output_type": "stream",
     "text": [
      "Epoch 131, loss 0.0099, recon_loss 0.0042, reg_loss 0.0057: 100%|██████████| 15845/15845 [02:00<00:00, 131.74it/s]\n",
      "Epoch 132, loss 0.0110, recon_loss 0.0062, reg_loss 0.0047:   0%|          | 16/15845 [00:00<01:59, 132.38it/s]"
     ]
    },
    {
     "name": "stdout",
     "output_type": "stream",
     "text": [
      "Validation , loss 0.0093, recon_loss 0.0041, reg_loss 0.0051\n"
     ]
    },
    {
     "name": "stderr",
     "output_type": "stream",
     "text": [
      "Epoch 132, loss 0.0103, recon_loss 0.0049, reg_loss 0.0054: 100%|██████████| 15845/15845 [02:00<00:00, 131.81it/s]\n",
      "Epoch 133, loss 0.0105, recon_loss 0.0048, reg_loss 0.0056:   0%|          | 16/15845 [00:00<02:00, 131.16it/s]"
     ]
    },
    {
     "name": "stdout",
     "output_type": "stream",
     "text": [
      "Validation , loss 0.0103, recon_loss 0.0044, reg_loss 0.0059\n"
     ]
    },
    {
     "name": "stderr",
     "output_type": "stream",
     "text": [
      "Epoch 133, loss 0.0096, recon_loss 0.0041, reg_loss 0.0055: 100%|██████████| 15845/15845 [02:00<00:00, 131.62it/s]\n",
      "Epoch 134, loss 0.0111, recon_loss 0.0048, reg_loss 0.0063:   0%|          | 16/15845 [00:00<02:00, 131.88it/s]"
     ]
    },
    {
     "name": "stdout",
     "output_type": "stream",
     "text": [
      "Validation , loss 0.0093, recon_loss 0.0041, reg_loss 0.0052\n"
     ]
    },
    {
     "name": "stderr",
     "output_type": "stream",
     "text": [
      "Epoch 134, loss 0.0105, recon_loss 0.0046, reg_loss 0.0059: 100%|██████████| 15845/15845 [02:00<00:00, 131.60it/s]\n",
      "Epoch 135, loss 0.0102, recon_loss 0.0048, reg_loss 0.0054:   0%|          | 16/15845 [00:00<01:59, 132.51it/s]"
     ]
    },
    {
     "name": "stdout",
     "output_type": "stream",
     "text": [
      "Validation , loss 0.0093, recon_loss 0.0042, reg_loss 0.0052\n"
     ]
    },
    {
     "name": "stderr",
     "output_type": "stream",
     "text": [
      "Epoch 135, loss 0.0103, recon_loss 0.0045, reg_loss 0.0058: 100%|██████████| 15845/15845 [02:00<00:00, 132.02it/s]\n",
      "Epoch 136, loss 0.0103, recon_loss 0.0045, reg_loss 0.0058:   0%|          | 16/15845 [00:00<01:59, 132.23it/s]"
     ]
    },
    {
     "name": "stdout",
     "output_type": "stream",
     "text": [
      "Validation , loss 0.0093, recon_loss 0.0041, reg_loss 0.0052\n"
     ]
    },
    {
     "name": "stderr",
     "output_type": "stream",
     "text": [
      "Epoch 136, loss 0.0098, recon_loss 0.0042, reg_loss 0.0056: 100%|██████████| 15845/15845 [02:00<00:00, 131.68it/s]\n",
      "Epoch 137, loss 0.0139, recon_loss 0.0057, reg_loss 0.0083:   0%|          | 16/15845 [00:00<02:00, 131.30it/s]"
     ]
    },
    {
     "name": "stdout",
     "output_type": "stream",
     "text": [
      "Validation , loss 0.0093, recon_loss 0.0042, reg_loss 0.0051\n"
     ]
    },
    {
     "name": "stderr",
     "output_type": "stream",
     "text": [
      "Epoch 137, loss 0.0095, recon_loss 0.0043, reg_loss 0.0053: 100%|██████████| 15845/15845 [02:00<00:00, 131.70it/s]\n",
      "Epoch 138, loss 0.0123, recon_loss 0.0045, reg_loss 0.0079:   0%|          | 16/15845 [00:00<02:00, 131.50it/s]"
     ]
    },
    {
     "name": "stdout",
     "output_type": "stream",
     "text": [
      "Validation , loss 0.0094, recon_loss 0.0041, reg_loss 0.0053\n"
     ]
    },
    {
     "name": "stderr",
     "output_type": "stream",
     "text": [
      "Epoch 138, loss 0.0100, recon_loss 0.0043, reg_loss 0.0057: 100%|██████████| 15845/15845 [02:00<00:00, 131.96it/s]\n",
      "Epoch 139, loss 0.0083, recon_loss 0.0040, reg_loss 0.0043:   0%|          | 16/15845 [00:00<01:59, 132.51it/s]"
     ]
    },
    {
     "name": "stdout",
     "output_type": "stream",
     "text": [
      "Validation , loss 0.0092, recon_loss 0.0041, reg_loss 0.0051\n"
     ]
    },
    {
     "name": "stderr",
     "output_type": "stream",
     "text": [
      "Epoch 139, loss 0.0108, recon_loss 0.0045, reg_loss 0.0062: 100%|██████████| 15845/15845 [02:00<00:00, 131.72it/s]\n",
      "Epoch 140, loss 0.0090, recon_loss 0.0037, reg_loss 0.0053:   0%|          | 16/15845 [00:00<02:00, 131.64it/s]"
     ]
    },
    {
     "name": "stdout",
     "output_type": "stream",
     "text": [
      "Validation , loss 0.0102, recon_loss 0.0044, reg_loss 0.0058\n"
     ]
    },
    {
     "name": "stderr",
     "output_type": "stream",
     "text": [
      "Epoch 140, loss 0.0097, recon_loss 0.0042, reg_loss 0.0056: 100%|██████████| 15845/15845 [02:00<00:00, 131.80it/s]\n",
      "Epoch 141, loss 0.0102, recon_loss 0.0049, reg_loss 0.0054:   0%|          | 16/15845 [00:00<01:59, 131.94it/s]"
     ]
    },
    {
     "name": "stdout",
     "output_type": "stream",
     "text": [
      "Validation , loss 0.0092, recon_loss 0.0041, reg_loss 0.0051\n"
     ]
    },
    {
     "name": "stderr",
     "output_type": "stream",
     "text": [
      "Epoch 141, loss 0.0108, recon_loss 0.0044, reg_loss 0.0064: 100%|██████████| 15845/15845 [02:00<00:00, 131.73it/s]\n",
      "Epoch 142, loss 0.0111, recon_loss 0.0048, reg_loss 0.0063:   0%|          | 16/15845 [00:00<01:59, 132.29it/s]"
     ]
    },
    {
     "name": "stdout",
     "output_type": "stream",
     "text": [
      "Validation , loss 0.0107, recon_loss 0.0044, reg_loss 0.0063\n"
     ]
    },
    {
     "name": "stderr",
     "output_type": "stream",
     "text": [
      "Epoch 142, loss 0.0097, recon_loss 0.0042, reg_loss 0.0055: 100%|██████████| 15845/15845 [02:00<00:00, 131.86it/s]\n",
      "Epoch 143, loss 0.0093, recon_loss 0.0043, reg_loss 0.0050:   0%|          | 16/15845 [00:00<02:00, 131.45it/s]"
     ]
    },
    {
     "name": "stdout",
     "output_type": "stream",
     "text": [
      "Validation , loss 0.0094, recon_loss 0.0040, reg_loss 0.0053\n"
     ]
    },
    {
     "name": "stderr",
     "output_type": "stream",
     "text": [
      "Epoch 143, loss 0.0096, recon_loss 0.0042, reg_loss 0.0054: 100%|██████████| 15845/15845 [02:00<00:00, 131.83it/s]\n",
      "Epoch 144, loss 0.0084, recon_loss 0.0038, reg_loss 0.0046:   0%|          | 16/15845 [00:00<01:59, 132.31it/s]"
     ]
    },
    {
     "name": "stdout",
     "output_type": "stream",
     "text": [
      "Validation , loss 0.0094, recon_loss 0.0041, reg_loss 0.0053\n"
     ]
    },
    {
     "name": "stderr",
     "output_type": "stream",
     "text": [
      "Epoch 144, loss 0.0097, recon_loss 0.0042, reg_loss 0.0055: 100%|██████████| 15845/15845 [02:00<00:00, 131.87it/s]\n",
      "Epoch 145, loss 0.0099, recon_loss 0.0052, reg_loss 0.0047:   0%|          | 16/15845 [00:00<01:59, 132.36it/s]"
     ]
    },
    {
     "name": "stdout",
     "output_type": "stream",
     "text": [
      "Validation , loss 0.0090, recon_loss 0.0041, reg_loss 0.0049\n"
     ]
    },
    {
     "name": "stderr",
     "output_type": "stream",
     "text": [
      "Epoch 145, loss 0.0097, recon_loss 0.0043, reg_loss 0.0054: 100%|██████████| 15845/15845 [02:00<00:00, 131.75it/s]\n",
      "Epoch 146, loss 0.0116, recon_loss 0.0059, reg_loss 0.0057:   0%|          | 16/15845 [00:00<01:59, 132.45it/s]"
     ]
    },
    {
     "name": "stdout",
     "output_type": "stream",
     "text": [
      "Validation , loss 0.0092, recon_loss 0.0041, reg_loss 0.0051\n"
     ]
    },
    {
     "name": "stderr",
     "output_type": "stream",
     "text": [
      "Epoch 146, loss 0.0107, recon_loss 0.0048, reg_loss 0.0060: 100%|██████████| 15845/15845 [02:00<00:00, 131.37it/s]\n",
      "Epoch 147, loss 0.0115, recon_loss 0.0052, reg_loss 0.0063:   0%|          | 16/15845 [00:00<01:59, 132.41it/s]"
     ]
    },
    {
     "name": "stdout",
     "output_type": "stream",
     "text": [
      "Validation , loss 0.0103, recon_loss 0.0044, reg_loss 0.0059\n"
     ]
    },
    {
     "name": "stderr",
     "output_type": "stream",
     "text": [
      "Epoch 147, loss 0.0096, recon_loss 0.0043, reg_loss 0.0053: 100%|██████████| 15845/15845 [02:00<00:00, 132.04it/s]\n",
      "Epoch 148, loss 0.0094, recon_loss 0.0042, reg_loss 0.0053:   0%|          | 16/15845 [00:00<01:59, 132.29it/s]"
     ]
    },
    {
     "name": "stdout",
     "output_type": "stream",
     "text": [
      "Validation , loss 0.0094, recon_loss 0.0042, reg_loss 0.0052\n"
     ]
    },
    {
     "name": "stderr",
     "output_type": "stream",
     "text": [
      "Epoch 148, loss 0.0096, recon_loss 0.0041, reg_loss 0.0055: 100%|██████████| 15845/15845 [02:00<00:00, 131.84it/s]\n",
      "Epoch 149, loss 0.0107, recon_loss 0.0049, reg_loss 0.0058:   0%|          | 16/15845 [00:00<01:59, 132.44it/s]"
     ]
    },
    {
     "name": "stdout",
     "output_type": "stream",
     "text": [
      "Validation , loss 0.0095, recon_loss 0.0041, reg_loss 0.0054\n"
     ]
    },
    {
     "name": "stderr",
     "output_type": "stream",
     "text": [
      "Epoch 149, loss 0.0092, recon_loss 0.0040, reg_loss 0.0053: 100%|██████████| 15845/15845 [02:00<00:00, 131.71it/s]\n",
      "Epoch 150, loss 0.0077, recon_loss 0.0033, reg_loss 0.0044:   0%|          | 16/15845 [00:00<01:59, 131.98it/s]"
     ]
    },
    {
     "name": "stdout",
     "output_type": "stream",
     "text": [
      "Validation , loss 0.0092, recon_loss 0.0041, reg_loss 0.0051\n"
     ]
    },
    {
     "name": "stderr",
     "output_type": "stream",
     "text": [
      "Epoch 150, loss 0.0106, recon_loss 0.0045, reg_loss 0.0061: 100%|██████████| 15845/15845 [02:00<00:00, 131.89it/s]\n",
      "Epoch 151, loss 0.0097, recon_loss 0.0045, reg_loss 0.0053:   0%|          | 16/15845 [00:00<01:59, 132.39it/s]"
     ]
    },
    {
     "name": "stdout",
     "output_type": "stream",
     "text": [
      "Validation , loss 0.0096, recon_loss 0.0041, reg_loss 0.0054\n"
     ]
    },
    {
     "name": "stderr",
     "output_type": "stream",
     "text": [
      "Epoch 151, loss 0.0100, recon_loss 0.0044, reg_loss 0.0056: 100%|██████████| 15845/15845 [01:59<00:00, 132.08it/s]\n",
      "Epoch 152, loss 0.0091, recon_loss 0.0038, reg_loss 0.0053:   0%|          | 16/15845 [00:00<01:59, 132.07it/s]"
     ]
    },
    {
     "name": "stdout",
     "output_type": "stream",
     "text": [
      "Validation , loss 0.0097, recon_loss 0.0041, reg_loss 0.0055\n"
     ]
    },
    {
     "name": "stderr",
     "output_type": "stream",
     "text": [
      "Epoch 152, loss 0.0096, recon_loss 0.0043, reg_loss 0.0053: 100%|██████████| 15845/15845 [01:59<00:00, 132.19it/s]\n",
      "Epoch 153, loss 0.0116, recon_loss 0.0048, reg_loss 0.0069:   0%|          | 16/15845 [00:00<01:59, 131.99it/s]"
     ]
    },
    {
     "name": "stdout",
     "output_type": "stream",
     "text": [
      "Validation , loss 0.0091, recon_loss 0.0040, reg_loss 0.0051\n"
     ]
    },
    {
     "name": "stderr",
     "output_type": "stream",
     "text": [
      "Epoch 153, loss 0.0091, recon_loss 0.0040, reg_loss 0.0051: 100%|██████████| 15845/15845 [02:00<00:00, 131.72it/s]\n",
      "Epoch 154, loss 0.0087, recon_loss 0.0038, reg_loss 0.0049:   0%|          | 16/15845 [00:00<02:00, 131.57it/s]"
     ]
    },
    {
     "name": "stdout",
     "output_type": "stream",
     "text": [
      "Validation , loss 0.0091, recon_loss 0.0041, reg_loss 0.0050\n"
     ]
    },
    {
     "name": "stderr",
     "output_type": "stream",
     "text": [
      "Epoch 154, loss 0.0093, recon_loss 0.0041, reg_loss 0.0051: 100%|██████████| 15845/15845 [02:00<00:00, 131.71it/s]\n",
      "Epoch 155, loss 0.0102, recon_loss 0.0040, reg_loss 0.0062:   0%|          | 16/15845 [00:00<01:59, 132.05it/s]"
     ]
    },
    {
     "name": "stdout",
     "output_type": "stream",
     "text": [
      "Validation , loss 0.0091, recon_loss 0.0041, reg_loss 0.0050\n"
     ]
    },
    {
     "name": "stderr",
     "output_type": "stream",
     "text": [
      "Epoch 155, loss 0.0094, recon_loss 0.0042, reg_loss 0.0052: 100%|██████████| 15845/15845 [02:00<00:00, 131.69it/s]\n",
      "Epoch 156, loss 0.0105, recon_loss 0.0041, reg_loss 0.0063:   0%|          | 16/15845 [00:00<01:59, 132.05it/s]"
     ]
    },
    {
     "name": "stdout",
     "output_type": "stream",
     "text": [
      "Validation , loss 0.0094, recon_loss 0.0041, reg_loss 0.0053\n"
     ]
    },
    {
     "name": "stderr",
     "output_type": "stream",
     "text": [
      "Epoch 156, loss 0.0093, recon_loss 0.0041, reg_loss 0.0052: 100%|██████████| 15845/15845 [02:00<00:00, 131.66it/s]\n",
      "Epoch 157, loss 0.0112, recon_loss 0.0056, reg_loss 0.0056:   0%|          | 16/15845 [00:00<01:59, 132.01it/s]"
     ]
    },
    {
     "name": "stdout",
     "output_type": "stream",
     "text": [
      "Validation , loss 0.0092, recon_loss 0.0041, reg_loss 0.0052\n"
     ]
    },
    {
     "name": "stderr",
     "output_type": "stream",
     "text": [
      "Epoch 157, loss 0.0096, recon_loss 0.0043, reg_loss 0.0053: 100%|██████████| 15845/15845 [02:00<00:00, 131.95it/s]\n",
      "Epoch 158, loss 0.0086, recon_loss 0.0039, reg_loss 0.0047:   0%|          | 16/15845 [00:00<01:59, 131.97it/s]"
     ]
    },
    {
     "name": "stdout",
     "output_type": "stream",
     "text": [
      "Validation , loss 0.0092, recon_loss 0.0042, reg_loss 0.0051\n"
     ]
    },
    {
     "name": "stderr",
     "output_type": "stream",
     "text": [
      "Epoch 158, loss 0.0090, recon_loss 0.0038, reg_loss 0.0051: 100%|██████████| 15845/15845 [02:00<00:00, 131.83it/s]\n",
      "Epoch 159, loss 0.0106, recon_loss 0.0047, reg_loss 0.0059:   0%|          | 16/15845 [00:00<01:59, 132.31it/s]"
     ]
    },
    {
     "name": "stdout",
     "output_type": "stream",
     "text": [
      "Validation , loss 0.0094, recon_loss 0.0040, reg_loss 0.0054\n"
     ]
    },
    {
     "name": "stderr",
     "output_type": "stream",
     "text": [
      "Epoch 159, loss 0.0091, recon_loss 0.0040, reg_loss 0.0051: 100%|██████████| 15845/15845 [02:00<00:00, 131.73it/s]\n",
      "Epoch 160, loss 0.0093, recon_loss 0.0046, reg_loss 0.0046:   0%|          | 16/15845 [00:00<01:59, 132.86it/s]"
     ]
    },
    {
     "name": "stdout",
     "output_type": "stream",
     "text": [
      "Validation , loss 0.0090, recon_loss 0.0040, reg_loss 0.0050\n"
     ]
    },
    {
     "name": "stderr",
     "output_type": "stream",
     "text": [
      "Epoch 160, loss 0.0092, recon_loss 0.0041, reg_loss 0.0052: 100%|██████████| 15845/15845 [02:00<00:00, 131.70it/s]\n",
      "Epoch 161, loss 0.0105, recon_loss 0.0051, reg_loss 0.0054:   0%|          | 16/15845 [00:00<02:00, 131.61it/s]"
     ]
    },
    {
     "name": "stdout",
     "output_type": "stream",
     "text": [
      "Validation , loss 0.0092, recon_loss 0.0041, reg_loss 0.0051\n"
     ]
    },
    {
     "name": "stderr",
     "output_type": "stream",
     "text": [
      "Epoch 161, loss 0.0095, recon_loss 0.0040, reg_loss 0.0055: 100%|██████████| 15845/15845 [02:00<00:00, 131.69it/s]\n",
      "Epoch 162, loss 0.0124, recon_loss 0.0046, reg_loss 0.0078:   0%|          | 16/15845 [00:00<01:59, 132.26it/s]"
     ]
    },
    {
     "name": "stdout",
     "output_type": "stream",
     "text": [
      "Validation , loss 0.0091, recon_loss 0.0041, reg_loss 0.0050\n"
     ]
    },
    {
     "name": "stderr",
     "output_type": "stream",
     "text": [
      "Epoch 162, loss 0.0090, recon_loss 0.0039, reg_loss 0.0051: 100%|██████████| 15845/15845 [02:00<00:00, 131.67it/s]\n",
      "Epoch 163, loss 0.0117, recon_loss 0.0053, reg_loss 0.0064:   0%|          | 16/15845 [00:00<01:59, 132.33it/s]"
     ]
    },
    {
     "name": "stdout",
     "output_type": "stream",
     "text": [
      "Validation , loss 0.0091, recon_loss 0.0040, reg_loss 0.0051\n"
     ]
    },
    {
     "name": "stderr",
     "output_type": "stream",
     "text": [
      "Epoch 163, loss 0.0105, recon_loss 0.0045, reg_loss 0.0061: 100%|██████████| 15845/15845 [02:00<00:00, 131.58it/s]\n",
      "Epoch 164, loss 0.0091, recon_loss 0.0041, reg_loss 0.0050:   0%|          | 16/15845 [00:00<02:00, 131.84it/s]"
     ]
    },
    {
     "name": "stdout",
     "output_type": "stream",
     "text": [
      "Validation , loss 0.0093, recon_loss 0.0042, reg_loss 0.0051\n"
     ]
    },
    {
     "name": "stderr",
     "output_type": "stream",
     "text": [
      "Epoch 164, loss 0.0092, recon_loss 0.0041, reg_loss 0.0051: 100%|██████████| 15845/15845 [02:00<00:00, 131.83it/s]\n",
      "Epoch 165, loss 0.0102, recon_loss 0.0049, reg_loss 0.0052:   0%|          | 16/15845 [00:00<01:59, 132.03it/s]"
     ]
    },
    {
     "name": "stdout",
     "output_type": "stream",
     "text": [
      "Validation , loss 0.0093, recon_loss 0.0042, reg_loss 0.0051\n"
     ]
    },
    {
     "name": "stderr",
     "output_type": "stream",
     "text": [
      "Epoch 165, loss 0.0095, recon_loss 0.0042, reg_loss 0.0053: 100%|██████████| 15845/15845 [02:00<00:00, 131.89it/s]\n",
      "Epoch 166, loss 0.0106, recon_loss 0.0048, reg_loss 0.0058:   0%|          | 16/15845 [00:00<01:59, 132.14it/s]"
     ]
    },
    {
     "name": "stdout",
     "output_type": "stream",
     "text": [
      "Validation , loss 0.0090, recon_loss 0.0040, reg_loss 0.0050\n"
     ]
    },
    {
     "name": "stderr",
     "output_type": "stream",
     "text": [
      "Epoch 166, loss 0.0090, recon_loss 0.0040, reg_loss 0.0050: 100%|██████████| 15845/15845 [02:00<00:00, 131.51it/s]\n",
      "Epoch 167, loss 0.0098, recon_loss 0.0041, reg_loss 0.0057:   0%|          | 16/15845 [00:00<02:00, 131.56it/s]"
     ]
    },
    {
     "name": "stdout",
     "output_type": "stream",
     "text": [
      "Validation , loss 0.0089, recon_loss 0.0040, reg_loss 0.0049\n"
     ]
    },
    {
     "name": "stderr",
     "output_type": "stream",
     "text": [
      "Epoch 167, loss 0.0092, recon_loss 0.0041, reg_loss 0.0051: 100%|██████████| 15845/15845 [02:00<00:00, 131.76it/s]\n",
      "Epoch 168, loss 0.0100, recon_loss 0.0041, reg_loss 0.0059:   0%|          | 16/15845 [00:00<01:59, 132.29it/s]"
     ]
    },
    {
     "name": "stdout",
     "output_type": "stream",
     "text": [
      "Validation , loss 0.0094, recon_loss 0.0041, reg_loss 0.0053\n"
     ]
    },
    {
     "name": "stderr",
     "output_type": "stream",
     "text": [
      "Epoch 168, loss 0.0100, recon_loss 0.0047, reg_loss 0.0053: 100%|██████████| 15845/15845 [02:00<00:00, 131.66it/s]\n",
      "Epoch 169, loss 0.0087, recon_loss 0.0040, reg_loss 0.0047:   0%|          | 16/15845 [00:00<01:59, 132.53it/s]"
     ]
    },
    {
     "name": "stdout",
     "output_type": "stream",
     "text": [
      "Validation , loss 0.0104, recon_loss 0.0045, reg_loss 0.0059\n"
     ]
    },
    {
     "name": "stderr",
     "output_type": "stream",
     "text": [
      "Epoch 169, loss 0.0087, recon_loss 0.0039, reg_loss 0.0048: 100%|██████████| 15845/15845 [02:00<00:00, 131.68it/s]\n",
      "Epoch 170, loss 0.0124, recon_loss 0.0055, reg_loss 0.0070:   0%|          | 16/15845 [00:00<02:00, 131.89it/s]"
     ]
    },
    {
     "name": "stdout",
     "output_type": "stream",
     "text": [
      "Validation , loss 0.0091, recon_loss 0.0040, reg_loss 0.0051\n"
     ]
    },
    {
     "name": "stderr",
     "output_type": "stream",
     "text": [
      "Epoch 170, loss 0.0099, recon_loss 0.0045, reg_loss 0.0054: 100%|██████████| 15845/15845 [02:00<00:00, 131.44it/s]\n",
      "Epoch 171, loss 0.0079, recon_loss 0.0033, reg_loss 0.0047:   0%|          | 16/15845 [00:00<01:59, 132.37it/s]"
     ]
    },
    {
     "name": "stdout",
     "output_type": "stream",
     "text": [
      "Validation , loss 0.0100, recon_loss 0.0047, reg_loss 0.0053\n"
     ]
    },
    {
     "name": "stderr",
     "output_type": "stream",
     "text": [
      "Epoch 171, loss 0.0089, recon_loss 0.0040, reg_loss 0.0049: 100%|██████████| 15845/15845 [02:00<00:00, 131.96it/s]\n",
      "Epoch 172, loss 0.0102, recon_loss 0.0049, reg_loss 0.0053:   0%|          | 16/15845 [00:00<02:00, 131.88it/s]"
     ]
    },
    {
     "name": "stdout",
     "output_type": "stream",
     "text": [
      "Validation , loss 0.0090, recon_loss 0.0040, reg_loss 0.0050\n"
     ]
    },
    {
     "name": "stderr",
     "output_type": "stream",
     "text": [
      "Epoch 172, loss 0.0094, recon_loss 0.0042, reg_loss 0.0052: 100%|██████████| 15845/15845 [02:00<00:00, 131.66it/s]\n",
      "Epoch 173, loss 0.0081, recon_loss 0.0034, reg_loss 0.0048:   0%|          | 16/15845 [00:00<02:00, 131.73it/s]"
     ]
    },
    {
     "name": "stdout",
     "output_type": "stream",
     "text": [
      "Validation , loss 0.0093, recon_loss 0.0041, reg_loss 0.0052\n"
     ]
    },
    {
     "name": "stderr",
     "output_type": "stream",
     "text": [
      "Epoch 173, loss 0.0091, recon_loss 0.0040, reg_loss 0.0051: 100%|██████████| 15845/15845 [02:00<00:00, 131.61it/s]\n",
      "Epoch 174, loss 0.0104, recon_loss 0.0054, reg_loss 0.0051:   0%|          | 16/15845 [00:00<02:00, 131.79it/s]"
     ]
    },
    {
     "name": "stdout",
     "output_type": "stream",
     "text": [
      "Validation , loss 0.0087, recon_loss 0.0039, reg_loss 0.0048\n"
     ]
    },
    {
     "name": "stderr",
     "output_type": "stream",
     "text": [
      "Epoch 174, loss 0.0092, recon_loss 0.0041, reg_loss 0.0051: 100%|██████████| 15845/15845 [02:00<00:00, 131.63it/s]\n",
      "Epoch 175, loss 0.0078, recon_loss 0.0034, reg_loss 0.0045:   0%|          | 16/15845 [00:00<02:00, 131.87it/s]"
     ]
    },
    {
     "name": "stdout",
     "output_type": "stream",
     "text": [
      "Validation , loss 0.0093, recon_loss 0.0040, reg_loss 0.0053\n"
     ]
    },
    {
     "name": "stderr",
     "output_type": "stream",
     "text": [
      "Epoch 175, loss 0.0092, recon_loss 0.0040, reg_loss 0.0052: 100%|██████████| 15845/15845 [02:00<00:00, 131.91it/s]\n",
      "Epoch 176, loss 0.0082, recon_loss 0.0035, reg_loss 0.0047:   0%|          | 16/15845 [00:00<01:59, 132.80it/s]"
     ]
    },
    {
     "name": "stdout",
     "output_type": "stream",
     "text": [
      "Validation , loss 0.0092, recon_loss 0.0040, reg_loss 0.0051\n"
     ]
    },
    {
     "name": "stderr",
     "output_type": "stream",
     "text": [
      "Epoch 176, loss 0.0089, recon_loss 0.0039, reg_loss 0.0050: 100%|██████████| 15845/15845 [02:00<00:00, 131.64it/s]\n",
      "Epoch 177, loss 0.0090, recon_loss 0.0037, reg_loss 0.0053:   0%|          | 16/15845 [00:00<01:59, 132.43it/s]"
     ]
    },
    {
     "name": "stdout",
     "output_type": "stream",
     "text": [
      "Validation , loss 0.0088, recon_loss 0.0039, reg_loss 0.0048\n"
     ]
    },
    {
     "name": "stderr",
     "output_type": "stream",
     "text": [
      "Epoch 177, loss 0.0087, recon_loss 0.0039, reg_loss 0.0048: 100%|██████████| 15845/15845 [02:00<00:00, 131.85it/s]\n",
      "Epoch 178, loss 0.0092, recon_loss 0.0036, reg_loss 0.0055:   0%|          | 16/15845 [00:00<01:59, 132.34it/s]"
     ]
    },
    {
     "name": "stdout",
     "output_type": "stream",
     "text": [
      "Validation , loss 0.0090, recon_loss 0.0041, reg_loss 0.0049\n"
     ]
    },
    {
     "name": "stderr",
     "output_type": "stream",
     "text": [
      "Epoch 178, loss 0.0089, recon_loss 0.0040, reg_loss 0.0049: 100%|██████████| 15845/15845 [02:00<00:00, 131.70it/s]\n",
      "Epoch 179, loss 0.0103, recon_loss 0.0052, reg_loss 0.0050:   0%|          | 16/15845 [00:00<02:00, 131.89it/s]"
     ]
    },
    {
     "name": "stdout",
     "output_type": "stream",
     "text": [
      "Validation , loss 0.0087, recon_loss 0.0040, reg_loss 0.0047\n"
     ]
    },
    {
     "name": "stderr",
     "output_type": "stream",
     "text": [
      "Epoch 179, loss 0.0094, recon_loss 0.0042, reg_loss 0.0051: 100%|██████████| 15845/15845 [02:00<00:00, 131.79it/s]\n",
      "Epoch 180, loss 0.0091, recon_loss 0.0043, reg_loss 0.0048:   0%|          | 16/15845 [00:00<01:59, 132.11it/s]"
     ]
    },
    {
     "name": "stdout",
     "output_type": "stream",
     "text": [
      "Validation , loss 0.0091, recon_loss 0.0040, reg_loss 0.0051\n"
     ]
    },
    {
     "name": "stderr",
     "output_type": "stream",
     "text": [
      "Epoch 180, loss 0.0091, recon_loss 0.0039, reg_loss 0.0051: 100%|██████████| 15845/15845 [02:00<00:00, 131.71it/s]\n",
      "Epoch 181, loss 0.0110, recon_loss 0.0043, reg_loss 0.0068:   0%|          | 16/15845 [00:00<02:00, 131.66it/s]"
     ]
    },
    {
     "name": "stdout",
     "output_type": "stream",
     "text": [
      "Validation , loss 0.0091, recon_loss 0.0040, reg_loss 0.0050\n"
     ]
    },
    {
     "name": "stderr",
     "output_type": "stream",
     "text": [
      "Epoch 181, loss 0.0090, recon_loss 0.0040, reg_loss 0.0050: 100%|██████████| 15845/15845 [02:00<00:00, 131.29it/s]\n",
      "Epoch 182, loss 0.0080, recon_loss 0.0040, reg_loss 0.0040:   0%|          | 16/15845 [00:00<01:59, 131.94it/s]"
     ]
    },
    {
     "name": "stdout",
     "output_type": "stream",
     "text": [
      "Validation , loss 0.0088, recon_loss 0.0039, reg_loss 0.0049\n"
     ]
    },
    {
     "name": "stderr",
     "output_type": "stream",
     "text": [
      "Epoch 182, loss 0.0092, recon_loss 0.0041, reg_loss 0.0051: 100%|██████████| 15845/15845 [02:00<00:00, 131.73it/s]\n",
      "Epoch 183, loss 0.0081, recon_loss 0.0035, reg_loss 0.0046:   0%|          | 16/15845 [00:00<01:59, 132.32it/s]"
     ]
    },
    {
     "name": "stdout",
     "output_type": "stream",
     "text": [
      "Validation , loss 0.0091, recon_loss 0.0040, reg_loss 0.0051\n"
     ]
    },
    {
     "name": "stderr",
     "output_type": "stream",
     "text": [
      "Epoch 183, loss 0.0094, recon_loss 0.0041, reg_loss 0.0053: 100%|██████████| 15845/15845 [02:00<00:00, 131.63it/s]\n",
      "Epoch 184, loss 0.0098, recon_loss 0.0041, reg_loss 0.0057:   0%|          | 16/15845 [00:00<01:59, 131.95it/s]"
     ]
    },
    {
     "name": "stdout",
     "output_type": "stream",
     "text": [
      "Validation , loss 0.0089, recon_loss 0.0040, reg_loss 0.0049\n"
     ]
    },
    {
     "name": "stderr",
     "output_type": "stream",
     "text": [
      "Epoch 184, loss 0.0092, recon_loss 0.0040, reg_loss 0.0051: 100%|██████████| 15845/15845 [02:00<00:00, 131.80it/s]\n",
      "Epoch 185, loss 0.0077, recon_loss 0.0035, reg_loss 0.0042:   0%|          | 16/15845 [00:00<01:59, 132.61it/s]"
     ]
    },
    {
     "name": "stdout",
     "output_type": "stream",
     "text": [
      "Validation , loss 0.0090, recon_loss 0.0041, reg_loss 0.0049\n"
     ]
    },
    {
     "name": "stderr",
     "output_type": "stream",
     "text": [
      "Epoch 185, loss 0.0086, recon_loss 0.0038, reg_loss 0.0048: 100%|██████████| 15845/15845 [02:00<00:00, 131.96it/s]\n",
      "Epoch 186, loss 0.0124, recon_loss 0.0044, reg_loss 0.0080:   0%|          | 16/15845 [00:00<01:59, 132.07it/s]"
     ]
    },
    {
     "name": "stdout",
     "output_type": "stream",
     "text": [
      "Validation , loss 0.0088, recon_loss 0.0040, reg_loss 0.0049\n"
     ]
    },
    {
     "name": "stderr",
     "output_type": "stream",
     "text": [
      "Epoch 186, loss 0.0090, recon_loss 0.0039, reg_loss 0.0051: 100%|██████████| 15845/15845 [02:00<00:00, 131.95it/s]\n",
      "Epoch 187, loss 0.0096, recon_loss 0.0045, reg_loss 0.0051:   0%|          | 16/15845 [00:00<01:59, 132.07it/s]"
     ]
    },
    {
     "name": "stdout",
     "output_type": "stream",
     "text": [
      "Validation , loss 0.0088, recon_loss 0.0040, reg_loss 0.0048\n"
     ]
    },
    {
     "name": "stderr",
     "output_type": "stream",
     "text": [
      "Epoch 187, loss 0.0089, recon_loss 0.0039, reg_loss 0.0049: 100%|██████████| 15845/15845 [02:00<00:00, 131.73it/s]\n",
      "Epoch 188, loss 0.0096, recon_loss 0.0046, reg_loss 0.0050:   0%|          | 16/15845 [00:00<01:59, 132.00it/s]"
     ]
    },
    {
     "name": "stdout",
     "output_type": "stream",
     "text": [
      "Validation , loss 0.0093, recon_loss 0.0041, reg_loss 0.0053\n"
     ]
    },
    {
     "name": "stderr",
     "output_type": "stream",
     "text": [
      "Epoch 188, loss 0.0101, recon_loss 0.0043, reg_loss 0.0058: 100%|██████████| 15845/15845 [02:00<00:00, 132.01it/s]\n",
      "Epoch 189, loss 0.0100, recon_loss 0.0043, reg_loss 0.0057:   0%|          | 16/15845 [00:00<01:59, 132.52it/s]"
     ]
    },
    {
     "name": "stdout",
     "output_type": "stream",
     "text": [
      "Validation , loss 0.0103, recon_loss 0.0044, reg_loss 0.0059\n"
     ]
    },
    {
     "name": "stderr",
     "output_type": "stream",
     "text": [
      "Epoch 189, loss 0.0090, recon_loss 0.0041, reg_loss 0.0049: 100%|██████████| 15845/15845 [02:00<00:00, 131.65it/s]\n",
      "Epoch 190, loss 0.0074, recon_loss 0.0032, reg_loss 0.0041:   0%|          | 16/15845 [00:00<01:59, 131.92it/s]"
     ]
    },
    {
     "name": "stdout",
     "output_type": "stream",
     "text": [
      "Validation , loss 0.0090, recon_loss 0.0040, reg_loss 0.0050\n"
     ]
    },
    {
     "name": "stderr",
     "output_type": "stream",
     "text": [
      "Epoch 190, loss 0.0090, recon_loss 0.0039, reg_loss 0.0051: 100%|██████████| 15845/15845 [02:00<00:00, 131.78it/s]\n",
      "Epoch 191, loss 0.0076, recon_loss 0.0032, reg_loss 0.0043:   0%|          | 16/15845 [00:00<01:59, 132.36it/s]"
     ]
    },
    {
     "name": "stdout",
     "output_type": "stream",
     "text": [
      "Validation , loss 0.0090, recon_loss 0.0040, reg_loss 0.0050\n"
     ]
    },
    {
     "name": "stderr",
     "output_type": "stream",
     "text": [
      "Epoch 191, loss 0.0088, recon_loss 0.0039, reg_loss 0.0049: 100%|██████████| 15845/15845 [02:00<00:00, 131.86it/s]\n",
      "Epoch 192, loss 0.0098, recon_loss 0.0042, reg_loss 0.0055:   0%|          | 16/15845 [00:00<01:59, 132.60it/s]"
     ]
    },
    {
     "name": "stdout",
     "output_type": "stream",
     "text": [
      "Validation , loss 0.0087, recon_loss 0.0039, reg_loss 0.0048\n"
     ]
    },
    {
     "name": "stderr",
     "output_type": "stream",
     "text": [
      "Epoch 192, loss 0.0089, recon_loss 0.0040, reg_loss 0.0049: 100%|██████████| 15845/15845 [02:00<00:00, 131.39it/s]\n",
      "Epoch 193, loss 0.0112, recon_loss 0.0048, reg_loss 0.0064:   0%|          | 16/15845 [00:00<01:59, 132.43it/s]"
     ]
    },
    {
     "name": "stdout",
     "output_type": "stream",
     "text": [
      "Validation , loss 0.0088, recon_loss 0.0040, reg_loss 0.0048\n"
     ]
    },
    {
     "name": "stderr",
     "output_type": "stream",
     "text": [
      "Epoch 193, loss 0.0091, recon_loss 0.0040, reg_loss 0.0051: 100%|██████████| 15845/15845 [02:00<00:00, 131.92it/s]\n",
      "Epoch 194, loss 0.0092, recon_loss 0.0041, reg_loss 0.0051:   0%|          | 16/15845 [00:00<01:59, 132.14it/s]"
     ]
    },
    {
     "name": "stdout",
     "output_type": "stream",
     "text": [
      "Validation , loss 0.0089, recon_loss 0.0041, reg_loss 0.0048\n"
     ]
    },
    {
     "name": "stderr",
     "output_type": "stream",
     "text": [
      "Epoch 194, loss 0.0093, recon_loss 0.0041, reg_loss 0.0052: 100%|██████████| 15845/15845 [02:00<00:00, 131.65it/s]\n",
      "Epoch 195, loss 0.0076, recon_loss 0.0034, reg_loss 0.0043:   0%|          | 16/15845 [00:00<01:59, 132.25it/s]"
     ]
    },
    {
     "name": "stdout",
     "output_type": "stream",
     "text": [
      "Validation , loss 0.0089, recon_loss 0.0040, reg_loss 0.0049\n"
     ]
    },
    {
     "name": "stderr",
     "output_type": "stream",
     "text": [
      "Epoch 195, loss 0.0092, recon_loss 0.0041, reg_loss 0.0052: 100%|██████████| 15845/15845 [02:00<00:00, 131.48it/s]\n",
      "Epoch 196, loss 0.0087, recon_loss 0.0035, reg_loss 0.0052:   0%|          | 16/15845 [00:00<01:59, 132.26it/s]"
     ]
    },
    {
     "name": "stdout",
     "output_type": "stream",
     "text": [
      "Validation , loss 0.0103, recon_loss 0.0041, reg_loss 0.0062\n"
     ]
    },
    {
     "name": "stderr",
     "output_type": "stream",
     "text": [
      "Epoch 196, loss 0.0088, recon_loss 0.0040, reg_loss 0.0049: 100%|██████████| 15845/15845 [01:59<00:00, 132.16it/s]\n",
      "Epoch 197, loss 0.0079, recon_loss 0.0038, reg_loss 0.0040:   0%|          | 16/15845 [00:00<01:59, 132.67it/s]"
     ]
    },
    {
     "name": "stdout",
     "output_type": "stream",
     "text": [
      "Validation , loss 0.0087, recon_loss 0.0040, reg_loss 0.0048\n"
     ]
    },
    {
     "name": "stderr",
     "output_type": "stream",
     "text": [
      "Epoch 197, loss 0.0086, recon_loss 0.0038, reg_loss 0.0048: 100%|██████████| 15845/15845 [01:59<00:00, 132.12it/s]\n",
      "Epoch 198, loss 0.0090, recon_loss 0.0037, reg_loss 0.0052:   0%|          | 16/15845 [00:00<02:00, 131.24it/s]"
     ]
    },
    {
     "name": "stdout",
     "output_type": "stream",
     "text": [
      "Validation , loss 0.0088, recon_loss 0.0040, reg_loss 0.0048\n"
     ]
    },
    {
     "name": "stderr",
     "output_type": "stream",
     "text": [
      "Epoch 198, loss 0.0090, recon_loss 0.0039, reg_loss 0.0051: 100%|██████████| 15845/15845 [02:00<00:00, 131.82it/s]\n",
      "Epoch 199, loss 0.0118, recon_loss 0.0062, reg_loss 0.0056:   0%|          | 16/15845 [00:00<02:00, 131.87it/s]"
     ]
    },
    {
     "name": "stdout",
     "output_type": "stream",
     "text": [
      "Validation , loss 0.0091, recon_loss 0.0040, reg_loss 0.0051\n"
     ]
    },
    {
     "name": "stderr",
     "output_type": "stream",
     "text": [
      "Epoch 199, loss 0.0095, recon_loss 0.0042, reg_loss 0.0054: 100%|██████████| 15845/15845 [02:00<00:00, 131.74it/s]\n",
      "Epoch 200, loss 0.0086, recon_loss 0.0039, reg_loss 0.0047:   0%|          | 16/15845 [00:00<01:59, 132.01it/s]"
     ]
    },
    {
     "name": "stdout",
     "output_type": "stream",
     "text": [
      "Validation , loss 0.0089, recon_loss 0.0040, reg_loss 0.0048\n"
     ]
    },
    {
     "name": "stderr",
     "output_type": "stream",
     "text": [
      "Epoch 200, loss 0.0087, recon_loss 0.0039, reg_loss 0.0048: 100%|██████████| 15845/15845 [02:00<00:00, 131.70it/s]\n",
      "Epoch 201, loss 0.0079, recon_loss 0.0038, reg_loss 0.0041:   0%|          | 16/15845 [00:00<01:59, 132.40it/s]"
     ]
    },
    {
     "name": "stdout",
     "output_type": "stream",
     "text": [
      "Validation , loss 0.0086, recon_loss 0.0039, reg_loss 0.0047\n"
     ]
    },
    {
     "name": "stderr",
     "output_type": "stream",
     "text": [
      "Epoch 201, loss 0.0087, recon_loss 0.0040, reg_loss 0.0047: 100%|██████████| 15845/15845 [02:00<00:00, 131.87it/s]\n",
      "Epoch 202, loss 0.0091, recon_loss 0.0040, reg_loss 0.0052:   0%|          | 16/15845 [00:00<01:59, 132.71it/s]"
     ]
    },
    {
     "name": "stdout",
     "output_type": "stream",
     "text": [
      "Validation , loss 0.0087, recon_loss 0.0040, reg_loss 0.0047\n"
     ]
    },
    {
     "name": "stderr",
     "output_type": "stream",
     "text": [
      "Epoch 202, loss 0.0088, recon_loss 0.0039, reg_loss 0.0048: 100%|██████████| 15845/15845 [02:00<00:00, 131.83it/s]\n",
      "Epoch 203, loss 0.0087, recon_loss 0.0042, reg_loss 0.0046:   0%|          | 16/15845 [00:00<02:00, 131.60it/s]"
     ]
    },
    {
     "name": "stdout",
     "output_type": "stream",
     "text": [
      "Validation , loss 0.0085, recon_loss 0.0039, reg_loss 0.0046\n"
     ]
    },
    {
     "name": "stderr",
     "output_type": "stream",
     "text": [
      "Epoch 203, loss 0.0085, recon_loss 0.0038, reg_loss 0.0047: 100%|██████████| 15845/15845 [02:00<00:00, 131.77it/s]\n",
      "Epoch 204, loss 0.0112, recon_loss 0.0053, reg_loss 0.0059:   0%|          | 16/15845 [00:00<01:59, 132.44it/s]"
     ]
    },
    {
     "name": "stdout",
     "output_type": "stream",
     "text": [
      "Validation , loss 0.0089, recon_loss 0.0040, reg_loss 0.0049\n"
     ]
    },
    {
     "name": "stderr",
     "output_type": "stream",
     "text": [
      "Epoch 204, loss 0.0086, recon_loss 0.0039, reg_loss 0.0047: 100%|██████████| 15845/15845 [02:00<00:00, 131.62it/s]\n",
      "Epoch 205, loss 0.0069, recon_loss 0.0028, reg_loss 0.0040:   0%|          | 16/15845 [00:00<02:00, 131.80it/s]"
     ]
    },
    {
     "name": "stdout",
     "output_type": "stream",
     "text": [
      "Validation , loss 0.0085, recon_loss 0.0039, reg_loss 0.0046\n"
     ]
    },
    {
     "name": "stderr",
     "output_type": "stream",
     "text": [
      "Epoch 205, loss 0.0091, recon_loss 0.0041, reg_loss 0.0051: 100%|██████████| 15845/15845 [02:00<00:00, 131.88it/s]\n",
      "Epoch 206, loss 0.0095, recon_loss 0.0043, reg_loss 0.0052:   0%|          | 16/15845 [00:00<01:59, 132.42it/s]"
     ]
    },
    {
     "name": "stdout",
     "output_type": "stream",
     "text": [
      "Validation , loss 0.0089, recon_loss 0.0042, reg_loss 0.0047\n"
     ]
    },
    {
     "name": "stderr",
     "output_type": "stream",
     "text": [
      "Epoch 206, loss 0.0087, recon_loss 0.0040, reg_loss 0.0047: 100%|██████████| 15845/15845 [02:00<00:00, 131.83it/s]\n",
      "Epoch 207, loss 0.0139, recon_loss 0.0048, reg_loss 0.0091:   0%|          | 16/15845 [00:00<01:59, 132.57it/s]"
     ]
    },
    {
     "name": "stdout",
     "output_type": "stream",
     "text": [
      "Validation , loss 0.0091, recon_loss 0.0041, reg_loss 0.0050\n"
     ]
    },
    {
     "name": "stderr",
     "output_type": "stream",
     "text": [
      "Epoch 207, loss 0.0096, recon_loss 0.0041, reg_loss 0.0055: 100%|██████████| 15845/15845 [02:00<00:00, 132.04it/s]\n",
      "Epoch 208, loss 0.0080, recon_loss 0.0033, reg_loss 0.0047:   0%|          | 16/15845 [00:00<02:00, 131.71it/s]"
     ]
    },
    {
     "name": "stdout",
     "output_type": "stream",
     "text": [
      "Validation , loss 0.0091, recon_loss 0.0040, reg_loss 0.0051\n"
     ]
    },
    {
     "name": "stderr",
     "output_type": "stream",
     "text": [
      "Epoch 208, loss 0.0091, recon_loss 0.0041, reg_loss 0.0051: 100%|██████████| 15845/15845 [02:00<00:00, 131.57it/s]\n",
      "Epoch 209, loss 0.0077, recon_loss 0.0034, reg_loss 0.0043:   0%|          | 16/15845 [00:00<01:59, 132.27it/s]"
     ]
    },
    {
     "name": "stdout",
     "output_type": "stream",
     "text": [
      "Validation , loss 0.0086, recon_loss 0.0039, reg_loss 0.0047\n"
     ]
    },
    {
     "name": "stderr",
     "output_type": "stream",
     "text": [
      "Epoch 209, loss 0.0087, recon_loss 0.0039, reg_loss 0.0048: 100%|██████████| 15845/15845 [02:00<00:00, 131.93it/s]\n",
      "Epoch 210, loss 0.0076, recon_loss 0.0036, reg_loss 0.0040:   0%|          | 16/15845 [00:00<01:59, 132.36it/s]"
     ]
    },
    {
     "name": "stdout",
     "output_type": "stream",
     "text": [
      "Validation , loss 0.0087, recon_loss 0.0039, reg_loss 0.0048\n"
     ]
    },
    {
     "name": "stderr",
     "output_type": "stream",
     "text": [
      "Epoch 210, loss 0.0085, recon_loss 0.0038, reg_loss 0.0047: 100%|██████████| 15845/15845 [02:00<00:00, 131.61it/s]\n",
      "Epoch 211, loss 0.0067, recon_loss 0.0029, reg_loss 0.0039:   0%|          | 16/15845 [00:00<01:59, 132.05it/s]"
     ]
    },
    {
     "name": "stdout",
     "output_type": "stream",
     "text": [
      "Validation , loss 0.0086, recon_loss 0.0039, reg_loss 0.0047\n"
     ]
    },
    {
     "name": "stderr",
     "output_type": "stream",
     "text": [
      "Epoch 211, loss 0.0089, recon_loss 0.0040, reg_loss 0.0048: 100%|██████████| 15845/15845 [02:00<00:00, 131.81it/s]\n",
      "Epoch 212, loss 0.0101, recon_loss 0.0043, reg_loss 0.0058:   0%|          | 16/15845 [00:00<01:59, 132.13it/s]"
     ]
    },
    {
     "name": "stdout",
     "output_type": "stream",
     "text": [
      "Validation , loss 0.0106, recon_loss 0.0044, reg_loss 0.0062\n"
     ]
    },
    {
     "name": "stderr",
     "output_type": "stream",
     "text": [
      "Epoch 212, loss 0.0089, recon_loss 0.0040, reg_loss 0.0049: 100%|██████████| 15845/15845 [02:00<00:00, 131.73it/s]\n",
      "Epoch 213, loss 0.0080, recon_loss 0.0037, reg_loss 0.0043:   0%|          | 16/15845 [00:00<01:59, 132.02it/s]"
     ]
    },
    {
     "name": "stdout",
     "output_type": "stream",
     "text": [
      "Validation , loss 0.0085, recon_loss 0.0040, reg_loss 0.0046\n"
     ]
    },
    {
     "name": "stderr",
     "output_type": "stream",
     "text": [
      "Epoch 213, loss 0.0087, recon_loss 0.0040, reg_loss 0.0048: 100%|██████████| 15845/15845 [02:00<00:00, 131.95it/s]\n",
      "Epoch 214, loss 0.0074, recon_loss 0.0033, reg_loss 0.0042:   0%|          | 16/15845 [00:00<01:59, 132.28it/s]"
     ]
    },
    {
     "name": "stdout",
     "output_type": "stream",
     "text": [
      "Validation , loss 0.0085, recon_loss 0.0040, reg_loss 0.0045\n"
     ]
    },
    {
     "name": "stderr",
     "output_type": "stream",
     "text": [
      "Epoch 214, loss 0.0087, recon_loss 0.0039, reg_loss 0.0048: 100%|██████████| 15845/15845 [02:00<00:00, 131.57it/s]\n",
      "Epoch 215, loss 0.0077, recon_loss 0.0036, reg_loss 0.0041:   0%|          | 16/15845 [00:00<01:59, 132.11it/s]"
     ]
    },
    {
     "name": "stdout",
     "output_type": "stream",
     "text": [
      "Validation , loss 0.0088, recon_loss 0.0040, reg_loss 0.0048\n"
     ]
    },
    {
     "name": "stderr",
     "output_type": "stream",
     "text": [
      "Epoch 215, loss 0.0083, recon_loss 0.0037, reg_loss 0.0046: 100%|██████████| 15845/15845 [02:00<00:00, 131.55it/s]\n",
      "Epoch 216, loss 0.0095, recon_loss 0.0035, reg_loss 0.0060:   0%|          | 16/15845 [00:00<01:59, 132.13it/s]"
     ]
    },
    {
     "name": "stdout",
     "output_type": "stream",
     "text": [
      "Validation , loss 0.0086, recon_loss 0.0039, reg_loss 0.0047\n"
     ]
    },
    {
     "name": "stderr",
     "output_type": "stream",
     "text": [
      "Epoch 216, loss 0.0083, recon_loss 0.0038, reg_loss 0.0045: 100%|██████████| 15845/15845 [02:00<00:00, 131.55it/s]\n",
      "Epoch 217, loss 0.0083, recon_loss 0.0040, reg_loss 0.0043:   0%|          | 16/15845 [00:00<01:59, 132.87it/s]"
     ]
    },
    {
     "name": "stdout",
     "output_type": "stream",
     "text": [
      "Validation , loss 0.0086, recon_loss 0.0040, reg_loss 0.0046\n"
     ]
    },
    {
     "name": "stderr",
     "output_type": "stream",
     "text": [
      "Epoch 217, loss 0.0091, recon_loss 0.0042, reg_loss 0.0049: 100%|██████████| 15845/15845 [02:00<00:00, 131.71it/s]\n",
      "Epoch 218, loss 0.0074, recon_loss 0.0034, reg_loss 0.0040:   0%|          | 16/15845 [00:00<02:00, 131.47it/s]"
     ]
    },
    {
     "name": "stdout",
     "output_type": "stream",
     "text": [
      "Validation , loss 0.0090, recon_loss 0.0040, reg_loss 0.0050\n"
     ]
    },
    {
     "name": "stderr",
     "output_type": "stream",
     "text": [
      "Epoch 218, loss 0.0088, recon_loss 0.0038, reg_loss 0.0050: 100%|██████████| 15845/15845 [02:00<00:00, 131.83it/s]\n",
      "Epoch 219, loss 0.0080, recon_loss 0.0031, reg_loss 0.0048:   0%|          | 16/15845 [00:00<01:59, 132.32it/s]"
     ]
    },
    {
     "name": "stdout",
     "output_type": "stream",
     "text": [
      "Validation , loss 0.0090, recon_loss 0.0039, reg_loss 0.0051\n"
     ]
    },
    {
     "name": "stderr",
     "output_type": "stream",
     "text": [
      "Epoch 219, loss 0.0084, recon_loss 0.0038, reg_loss 0.0046: 100%|██████████| 15845/15845 [02:00<00:00, 131.75it/s]\n",
      "Epoch 220, loss 0.0081, recon_loss 0.0034, reg_loss 0.0047:   0%|          | 16/15845 [00:00<01:59, 132.46it/s]"
     ]
    },
    {
     "name": "stdout",
     "output_type": "stream",
     "text": [
      "Validation , loss 0.0087, recon_loss 0.0040, reg_loss 0.0047\n"
     ]
    },
    {
     "name": "stderr",
     "output_type": "stream",
     "text": [
      "Epoch 220, loss 0.0088, recon_loss 0.0041, reg_loss 0.0047: 100%|██████████| 15845/15845 [02:00<00:00, 131.85it/s]\n",
      "Epoch 221, loss 0.0085, recon_loss 0.0040, reg_loss 0.0045:   0%|          | 16/15845 [00:00<02:00, 131.85it/s]"
     ]
    },
    {
     "name": "stdout",
     "output_type": "stream",
     "text": [
      "Validation , loss 0.0087, recon_loss 0.0041, reg_loss 0.0046\n"
     ]
    },
    {
     "name": "stderr",
     "output_type": "stream",
     "text": [
      "Epoch 221, loss 0.0095, recon_loss 0.0042, reg_loss 0.0053: 100%|██████████| 15845/15845 [02:00<00:00, 131.90it/s]\n",
      "Epoch 222, loss 0.0104, recon_loss 0.0048, reg_loss 0.0056:   0%|          | 16/15845 [00:00<01:59, 132.28it/s]"
     ]
    },
    {
     "name": "stdout",
     "output_type": "stream",
     "text": [
      "Validation , loss 0.0091, recon_loss 0.0041, reg_loss 0.0050\n"
     ]
    },
    {
     "name": "stderr",
     "output_type": "stream",
     "text": [
      "Epoch 222, loss 0.0087, recon_loss 0.0039, reg_loss 0.0048: 100%|██████████| 15845/15845 [02:00<00:00, 131.63it/s]\n",
      "Epoch 223, loss 0.0073, recon_loss 0.0034, reg_loss 0.0038:   0%|          | 16/15845 [00:00<02:00, 131.20it/s]"
     ]
    },
    {
     "name": "stdout",
     "output_type": "stream",
     "text": [
      "Validation , loss 0.0088, recon_loss 0.0039, reg_loss 0.0049\n"
     ]
    },
    {
     "name": "stderr",
     "output_type": "stream",
     "text": [
      "Epoch 223, loss 0.0085, recon_loss 0.0038, reg_loss 0.0047: 100%|██████████| 15845/15845 [02:00<00:00, 131.43it/s]\n",
      "Epoch 224, loss 0.0084, recon_loss 0.0033, reg_loss 0.0051:   0%|          | 16/15845 [00:00<01:59, 132.14it/s]"
     ]
    },
    {
     "name": "stdout",
     "output_type": "stream",
     "text": [
      "Validation , loss 0.0086, recon_loss 0.0040, reg_loss 0.0046\n"
     ]
    },
    {
     "name": "stderr",
     "output_type": "stream",
     "text": [
      "Epoch 224, loss 0.0087, recon_loss 0.0039, reg_loss 0.0049: 100%|██████████| 15845/15845 [02:00<00:00, 131.76it/s]\n",
      "Epoch 225, loss 0.0091, recon_loss 0.0041, reg_loss 0.0050:   0%|          | 16/15845 [00:00<01:59, 132.17it/s]"
     ]
    },
    {
     "name": "stdout",
     "output_type": "stream",
     "text": [
      "Validation , loss 0.0091, recon_loss 0.0042, reg_loss 0.0049\n"
     ]
    },
    {
     "name": "stderr",
     "output_type": "stream",
     "text": [
      "Epoch 225, loss 0.0088, recon_loss 0.0038, reg_loss 0.0050: 100%|██████████| 15845/15845 [02:00<00:00, 131.63it/s]\n",
      "Epoch 226, loss 0.0089, recon_loss 0.0041, reg_loss 0.0048:   0%|          | 16/15845 [00:00<02:00, 131.71it/s]"
     ]
    },
    {
     "name": "stdout",
     "output_type": "stream",
     "text": [
      "Validation , loss 0.0085, recon_loss 0.0039, reg_loss 0.0046\n"
     ]
    },
    {
     "name": "stderr",
     "output_type": "stream",
     "text": [
      "Epoch 226, loss 0.0085, recon_loss 0.0039, reg_loss 0.0046: 100%|██████████| 15845/15845 [02:00<00:00, 131.65it/s]\n",
      "Epoch 227, loss 0.0095, recon_loss 0.0038, reg_loss 0.0056:   0%|          | 16/15845 [00:00<02:00, 131.08it/s]"
     ]
    },
    {
     "name": "stdout",
     "output_type": "stream",
     "text": [
      "Validation , loss 0.0086, recon_loss 0.0040, reg_loss 0.0046\n"
     ]
    },
    {
     "name": "stderr",
     "output_type": "stream",
     "text": [
      "Epoch 227, loss 0.0089, recon_loss 0.0040, reg_loss 0.0048: 100%|██████████| 15845/15845 [02:00<00:00, 131.32it/s]\n",
      "Epoch 228, loss 0.0115, recon_loss 0.0039, reg_loss 0.0075:   0%|          | 16/15845 [00:00<02:00, 131.78it/s]"
     ]
    },
    {
     "name": "stdout",
     "output_type": "stream",
     "text": [
      "Validation , loss 0.0085, recon_loss 0.0039, reg_loss 0.0046\n"
     ]
    },
    {
     "name": "stderr",
     "output_type": "stream",
     "text": [
      "Epoch 228, loss 0.0090, recon_loss 0.0039, reg_loss 0.0051: 100%|██████████| 15845/15845 [02:00<00:00, 131.66it/s]\n",
      "Epoch 229, loss 0.0073, recon_loss 0.0032, reg_loss 0.0041:   0%|          | 16/15845 [00:00<02:00, 131.88it/s]"
     ]
    },
    {
     "name": "stdout",
     "output_type": "stream",
     "text": [
      "Validation , loss 0.0089, recon_loss 0.0040, reg_loss 0.0048\n"
     ]
    },
    {
     "name": "stderr",
     "output_type": "stream",
     "text": [
      "Epoch 229, loss 0.0089, recon_loss 0.0039, reg_loss 0.0049: 100%|██████████| 15845/15845 [02:00<00:00, 131.86it/s]\n",
      "Epoch 230, loss 0.0091, recon_loss 0.0044, reg_loss 0.0047:   0%|          | 16/15845 [00:00<01:59, 132.03it/s]"
     ]
    },
    {
     "name": "stdout",
     "output_type": "stream",
     "text": [
      "Validation , loss 0.0084, recon_loss 0.0039, reg_loss 0.0044\n"
     ]
    },
    {
     "name": "stderr",
     "output_type": "stream",
     "text": [
      "Epoch 230, loss 0.0087, recon_loss 0.0039, reg_loss 0.0048: 100%|██████████| 15845/15845 [02:01<00:00, 130.55it/s]\n",
      "Epoch 231, loss 0.0082, recon_loss 0.0034, reg_loss 0.0048:   0%|          | 16/15845 [00:00<01:59, 132.17it/s]"
     ]
    },
    {
     "name": "stdout",
     "output_type": "stream",
     "text": [
      "Validation , loss 0.0087, recon_loss 0.0041, reg_loss 0.0046\n"
     ]
    },
    {
     "name": "stderr",
     "output_type": "stream",
     "text": [
      "Epoch 231, loss 0.0089, recon_loss 0.0039, reg_loss 0.0049: 100%|██████████| 15845/15845 [02:00<00:00, 131.26it/s]\n",
      "Epoch 232, loss 0.0085, recon_loss 0.0037, reg_loss 0.0048:   0%|          | 16/15845 [00:00<01:59, 132.14it/s]"
     ]
    },
    {
     "name": "stdout",
     "output_type": "stream",
     "text": [
      "Validation , loss 0.0087, recon_loss 0.0040, reg_loss 0.0048\n"
     ]
    },
    {
     "name": "stderr",
     "output_type": "stream",
     "text": [
      "Epoch 232, loss 0.0086, recon_loss 0.0038, reg_loss 0.0047: 100%|██████████| 15845/15845 [02:00<00:00, 131.72it/s]\n",
      "Epoch 233, loss 0.0100, recon_loss 0.0053, reg_loss 0.0047:   0%|          | 16/15845 [00:00<01:59, 132.36it/s]"
     ]
    },
    {
     "name": "stdout",
     "output_type": "stream",
     "text": [
      "Validation , loss 0.0085, recon_loss 0.0039, reg_loss 0.0046\n"
     ]
    },
    {
     "name": "stderr",
     "output_type": "stream",
     "text": [
      "Epoch 233, loss 0.0085, recon_loss 0.0038, reg_loss 0.0047: 100%|██████████| 15845/15845 [02:00<00:00, 131.35it/s]\n",
      "Epoch 234, loss 0.0087, recon_loss 0.0037, reg_loss 0.0049:   0%|          | 16/15845 [00:00<02:01, 130.67it/s]"
     ]
    },
    {
     "name": "stdout",
     "output_type": "stream",
     "text": [
      "Validation , loss 0.0087, recon_loss 0.0040, reg_loss 0.0048\n"
     ]
    },
    {
     "name": "stderr",
     "output_type": "stream",
     "text": [
      "Epoch 234, loss 0.0086, recon_loss 0.0038, reg_loss 0.0048: 100%|██████████| 15845/15845 [02:00<00:00, 131.72it/s]\n",
      "Epoch 235, loss 0.0091, recon_loss 0.0041, reg_loss 0.0050:   0%|          | 16/15845 [00:00<01:59, 132.13it/s]"
     ]
    },
    {
     "name": "stdout",
     "output_type": "stream",
     "text": [
      "Validation , loss 0.0086, recon_loss 0.0039, reg_loss 0.0047\n"
     ]
    },
    {
     "name": "stderr",
     "output_type": "stream",
     "text": [
      "Epoch 235, loss 0.0088, recon_loss 0.0040, reg_loss 0.0048: 100%|██████████| 15845/15845 [02:00<00:00, 131.43it/s]\n",
      "Epoch 236, loss 0.0110, recon_loss 0.0055, reg_loss 0.0055:   0%|          | 16/15845 [00:00<01:59, 132.48it/s]"
     ]
    },
    {
     "name": "stdout",
     "output_type": "stream",
     "text": [
      "Validation , loss 0.0084, recon_loss 0.0040, reg_loss 0.0044\n"
     ]
    },
    {
     "name": "stderr",
     "output_type": "stream",
     "text": [
      "Epoch 236, loss 0.0088, recon_loss 0.0039, reg_loss 0.0049: 100%|██████████| 15845/15845 [02:00<00:00, 131.61it/s]\n",
      "Epoch 237, loss 0.0091, recon_loss 0.0038, reg_loss 0.0053:   0%|          | 16/15845 [00:00<02:00, 131.50it/s]"
     ]
    },
    {
     "name": "stdout",
     "output_type": "stream",
     "text": [
      "Validation , loss 0.0084, recon_loss 0.0040, reg_loss 0.0044\n"
     ]
    },
    {
     "name": "stderr",
     "output_type": "stream",
     "text": [
      "Epoch 237, loss 0.0086, recon_loss 0.0038, reg_loss 0.0048: 100%|██████████| 15845/15845 [02:00<00:00, 131.57it/s]\n",
      "Epoch 238, loss 0.0082, recon_loss 0.0039, reg_loss 0.0043:   0%|          | 16/15845 [00:00<01:59, 132.17it/s]"
     ]
    },
    {
     "name": "stdout",
     "output_type": "stream",
     "text": [
      "Validation , loss 0.0085, recon_loss 0.0040, reg_loss 0.0046\n"
     ]
    },
    {
     "name": "stderr",
     "output_type": "stream",
     "text": [
      "Epoch 238, loss 0.0092, recon_loss 0.0040, reg_loss 0.0052: 100%|██████████| 15845/15845 [02:00<00:00, 131.54it/s]\n",
      "Epoch 239, loss 0.0066, recon_loss 0.0030, reg_loss 0.0035:   0%|          | 16/15845 [00:00<01:59, 132.23it/s]"
     ]
    },
    {
     "name": "stdout",
     "output_type": "stream",
     "text": [
      "Validation , loss 0.0085, recon_loss 0.0039, reg_loss 0.0046\n"
     ]
    },
    {
     "name": "stderr",
     "output_type": "stream",
     "text": [
      "Epoch 239, loss 0.0084, recon_loss 0.0037, reg_loss 0.0046: 100%|██████████| 15845/15845 [02:00<00:00, 131.44it/s]\n",
      "Epoch 240, loss 0.0092, recon_loss 0.0033, reg_loss 0.0058:   0%|          | 16/15845 [00:00<01:59, 132.48it/s]"
     ]
    },
    {
     "name": "stdout",
     "output_type": "stream",
     "text": [
      "Validation , loss 0.0085, recon_loss 0.0039, reg_loss 0.0046\n"
     ]
    },
    {
     "name": "stderr",
     "output_type": "stream",
     "text": [
      "Epoch 240, loss 0.0087, recon_loss 0.0040, reg_loss 0.0047: 100%|██████████| 15845/15845 [02:00<00:00, 131.30it/s]\n",
      "Epoch 241, loss 0.0097, recon_loss 0.0047, reg_loss 0.0050:   0%|          | 16/15845 [00:00<02:00, 131.74it/s]"
     ]
    },
    {
     "name": "stdout",
     "output_type": "stream",
     "text": [
      "Validation , loss 0.0099, recon_loss 0.0043, reg_loss 0.0056\n"
     ]
    },
    {
     "name": "stderr",
     "output_type": "stream",
     "text": [
      "Epoch 241, loss 0.0086, recon_loss 0.0042, reg_loss 0.0044: 100%|██████████| 15845/15845 [02:00<00:00, 131.76it/s]\n",
      "Epoch 242, loss 0.0100, recon_loss 0.0045, reg_loss 0.0054:   0%|          | 16/15845 [00:00<01:59, 132.26it/s]"
     ]
    },
    {
     "name": "stdout",
     "output_type": "stream",
     "text": [
      "Validation , loss 0.0088, recon_loss 0.0042, reg_loss 0.0046\n"
     ]
    },
    {
     "name": "stderr",
     "output_type": "stream",
     "text": [
      "Epoch 242, loss 0.0086, recon_loss 0.0039, reg_loss 0.0047: 100%|██████████| 15845/15845 [02:00<00:00, 131.61it/s]\n",
      "Epoch 243, loss 0.0083, recon_loss 0.0038, reg_loss 0.0044:   0%|          | 16/15845 [00:00<01:59, 132.19it/s]"
     ]
    },
    {
     "name": "stdout",
     "output_type": "stream",
     "text": [
      "Validation , loss 0.0087, recon_loss 0.0039, reg_loss 0.0047\n"
     ]
    },
    {
     "name": "stderr",
     "output_type": "stream",
     "text": [
      "Epoch 243, loss 0.0084, recon_loss 0.0037, reg_loss 0.0047: 100%|██████████| 15845/15845 [02:00<00:00, 131.67it/s]\n",
      "Epoch 244, loss 0.0079, recon_loss 0.0037, reg_loss 0.0042:   0%|          | 16/15845 [00:00<02:00, 131.88it/s]"
     ]
    },
    {
     "name": "stdout",
     "output_type": "stream",
     "text": [
      "Validation , loss 0.0085, recon_loss 0.0039, reg_loss 0.0046\n"
     ]
    },
    {
     "name": "stderr",
     "output_type": "stream",
     "text": [
      "Epoch 244, loss 0.0085, recon_loss 0.0039, reg_loss 0.0046: 100%|██████████| 15845/15845 [02:00<00:00, 131.68it/s]\n",
      "Epoch 245, loss 0.0094, recon_loss 0.0042, reg_loss 0.0052:   0%|          | 16/15845 [00:00<01:59, 132.41it/s]"
     ]
    },
    {
     "name": "stdout",
     "output_type": "stream",
     "text": [
      "Validation , loss 0.0084, recon_loss 0.0041, reg_loss 0.0043\n"
     ]
    },
    {
     "name": "stderr",
     "output_type": "stream",
     "text": [
      "Epoch 245, loss 0.0086, recon_loss 0.0039, reg_loss 0.0047: 100%|██████████| 15845/15845 [02:00<00:00, 131.55it/s]\n",
      "Epoch 246, loss 0.0107, recon_loss 0.0034, reg_loss 0.0073:   0%|          | 16/15845 [00:00<02:00, 131.40it/s]"
     ]
    },
    {
     "name": "stdout",
     "output_type": "stream",
     "text": [
      "Validation , loss 0.0089, recon_loss 0.0042, reg_loss 0.0047\n"
     ]
    },
    {
     "name": "stderr",
     "output_type": "stream",
     "text": [
      "Epoch 246, loss 0.0085, recon_loss 0.0038, reg_loss 0.0047: 100%|██████████| 15845/15845 [02:00<00:00, 131.58it/s]\n",
      "Epoch 247, loss 0.0081, recon_loss 0.0038, reg_loss 0.0043:   0%|          | 16/15845 [00:00<01:59, 132.35it/s]"
     ]
    },
    {
     "name": "stdout",
     "output_type": "stream",
     "text": [
      "Validation , loss 0.0086, recon_loss 0.0041, reg_loss 0.0046\n"
     ]
    },
    {
     "name": "stderr",
     "output_type": "stream",
     "text": [
      "Epoch 247, loss 0.0088, recon_loss 0.0040, reg_loss 0.0048: 100%|██████████| 15845/15845 [02:00<00:00, 131.56it/s]\n",
      "Epoch 248, loss 0.0076, recon_loss 0.0034, reg_loss 0.0041:   0%|          | 16/15845 [00:00<01:59, 132.35it/s]"
     ]
    },
    {
     "name": "stdout",
     "output_type": "stream",
     "text": [
      "Validation , loss 0.0082, recon_loss 0.0039, reg_loss 0.0044\n"
     ]
    },
    {
     "name": "stderr",
     "output_type": "stream",
     "text": [
      "Epoch 248, loss 0.0082, recon_loss 0.0038, reg_loss 0.0044: 100%|██████████| 15845/15845 [02:00<00:00, 131.60it/s]\n",
      "Epoch 249, loss 0.0093, recon_loss 0.0041, reg_loss 0.0052:   0%|          | 16/15845 [00:00<01:59, 132.25it/s]"
     ]
    },
    {
     "name": "stdout",
     "output_type": "stream",
     "text": [
      "Validation , loss 0.0084, recon_loss 0.0039, reg_loss 0.0045\n"
     ]
    },
    {
     "name": "stderr",
     "output_type": "stream",
     "text": [
      "Epoch 249, loss 0.0081, recon_loss 0.0036, reg_loss 0.0044: 100%|██████████| 15845/15845 [02:00<00:00, 131.71it/s]\n",
      "Epoch 250, loss 0.0080, recon_loss 0.0035, reg_loss 0.0045:   0%|          | 16/15845 [00:00<02:00, 131.69it/s]"
     ]
    },
    {
     "name": "stdout",
     "output_type": "stream",
     "text": [
      "Validation , loss 0.0085, recon_loss 0.0039, reg_loss 0.0046\n"
     ]
    },
    {
     "name": "stderr",
     "output_type": "stream",
     "text": [
      "Epoch 250, loss 0.0090, recon_loss 0.0042, reg_loss 0.0049: 100%|██████████| 15845/15845 [02:00<00:00, 131.66it/s]\n",
      "Epoch 251, loss 0.0078, recon_loss 0.0038, reg_loss 0.0039:   0%|          | 16/15845 [00:00<02:00, 131.75it/s]"
     ]
    },
    {
     "name": "stdout",
     "output_type": "stream",
     "text": [
      "Validation , loss 0.0083, recon_loss 0.0039, reg_loss 0.0045\n"
     ]
    },
    {
     "name": "stderr",
     "output_type": "stream",
     "text": [
      "Epoch 251, loss 0.0089, recon_loss 0.0043, reg_loss 0.0047: 100%|██████████| 15845/15845 [02:00<00:00, 131.68it/s]\n",
      "Epoch 252, loss 0.0088, recon_loss 0.0038, reg_loss 0.0050:   0%|          | 16/15845 [00:00<01:59, 132.21it/s]"
     ]
    },
    {
     "name": "stdout",
     "output_type": "stream",
     "text": [
      "Validation , loss 0.0083, recon_loss 0.0039, reg_loss 0.0044\n"
     ]
    },
    {
     "name": "stderr",
     "output_type": "stream",
     "text": [
      "Epoch 252, loss 0.0082, recon_loss 0.0037, reg_loss 0.0046: 100%|██████████| 15845/15845 [02:00<00:00, 131.47it/s]\n",
      "Epoch 253, loss 0.0077, recon_loss 0.0036, reg_loss 0.0041:   0%|          | 16/15845 [00:00<01:59, 132.40it/s]"
     ]
    },
    {
     "name": "stdout",
     "output_type": "stream",
     "text": [
      "Validation , loss 0.0087, recon_loss 0.0040, reg_loss 0.0047\n"
     ]
    },
    {
     "name": "stderr",
     "output_type": "stream",
     "text": [
      "Epoch 253, loss 0.0083, recon_loss 0.0038, reg_loss 0.0045: 100%|██████████| 15845/15845 [02:00<00:00, 131.62it/s]\n",
      "Epoch 254, loss 0.0062, recon_loss 0.0027, reg_loss 0.0035:   0%|          | 16/15845 [00:00<01:59, 132.49it/s]"
     ]
    },
    {
     "name": "stdout",
     "output_type": "stream",
     "text": [
      "Validation , loss 0.0082, recon_loss 0.0038, reg_loss 0.0043\n"
     ]
    },
    {
     "name": "stderr",
     "output_type": "stream",
     "text": [
      "Epoch 254, loss 0.0085, recon_loss 0.0038, reg_loss 0.0048: 100%|██████████| 15845/15845 [02:00<00:00, 131.51it/s]\n",
      "Epoch 255, loss 0.0065, recon_loss 0.0028, reg_loss 0.0037:   0%|          | 16/15845 [00:00<01:59, 132.01it/s]"
     ]
    },
    {
     "name": "stdout",
     "output_type": "stream",
     "text": [
      "Validation , loss 0.0084, recon_loss 0.0040, reg_loss 0.0043\n"
     ]
    },
    {
     "name": "stderr",
     "output_type": "stream",
     "text": [
      "Epoch 255, loss 0.0085, recon_loss 0.0037, reg_loss 0.0048: 100%|██████████| 15845/15845 [02:00<00:00, 131.44it/s]\n",
      "Epoch 256, loss 0.0068, recon_loss 0.0031, reg_loss 0.0037:   0%|          | 16/15845 [00:00<02:00, 131.74it/s]"
     ]
    },
    {
     "name": "stdout",
     "output_type": "stream",
     "text": [
      "Validation , loss 0.0083, recon_loss 0.0040, reg_loss 0.0044\n"
     ]
    },
    {
     "name": "stderr",
     "output_type": "stream",
     "text": [
      "Epoch 256, loss 0.0087, recon_loss 0.0039, reg_loss 0.0048: 100%|██████████| 15845/15845 [02:00<00:00, 131.41it/s]\n",
      "Epoch 257, loss 0.0088, recon_loss 0.0042, reg_loss 0.0046:   0%|          | 16/15845 [00:00<01:59, 132.66it/s]"
     ]
    },
    {
     "name": "stdout",
     "output_type": "stream",
     "text": [
      "Validation , loss 0.0082, recon_loss 0.0039, reg_loss 0.0043\n"
     ]
    },
    {
     "name": "stderr",
     "output_type": "stream",
     "text": [
      "Epoch 257, loss 0.0085, recon_loss 0.0037, reg_loss 0.0047: 100%|██████████| 15845/15845 [02:00<00:00, 131.54it/s]\n",
      "Epoch 258, loss 0.0071, recon_loss 0.0028, reg_loss 0.0043:   0%|          | 16/15845 [00:00<01:59, 132.18it/s]"
     ]
    },
    {
     "name": "stdout",
     "output_type": "stream",
     "text": [
      "Validation , loss 0.0085, recon_loss 0.0039, reg_loss 0.0045\n"
     ]
    },
    {
     "name": "stderr",
     "output_type": "stream",
     "text": [
      "Epoch 258, loss 0.0088, recon_loss 0.0039, reg_loss 0.0049: 100%|██████████| 15845/15845 [02:00<00:00, 131.70it/s]\n",
      "Epoch 259, loss 0.0083, recon_loss 0.0039, reg_loss 0.0044:   0%|          | 16/15845 [00:00<02:00, 131.91it/s]"
     ]
    },
    {
     "name": "stdout",
     "output_type": "stream",
     "text": [
      "Validation , loss 0.0087, recon_loss 0.0040, reg_loss 0.0047\n"
     ]
    },
    {
     "name": "stderr",
     "output_type": "stream",
     "text": [
      "Epoch 259, loss 0.0085, recon_loss 0.0039, reg_loss 0.0046: 100%|██████████| 15845/15845 [02:00<00:00, 131.44it/s]\n",
      "Epoch 260, loss 0.0093, recon_loss 0.0047, reg_loss 0.0046:   0%|          | 16/15845 [00:00<01:59, 132.44it/s]"
     ]
    },
    {
     "name": "stdout",
     "output_type": "stream",
     "text": [
      "Validation , loss 0.0085, recon_loss 0.0039, reg_loss 0.0046\n"
     ]
    },
    {
     "name": "stderr",
     "output_type": "stream",
     "text": [
      "Epoch 260, loss 0.0095, recon_loss 0.0045, reg_loss 0.0051: 100%|██████████| 15845/15845 [02:00<00:00, 131.42it/s]\n",
      "Epoch 261, loss 0.0115, recon_loss 0.0066, reg_loss 0.0049:   0%|          | 16/15845 [00:00<02:00, 131.55it/s]"
     ]
    },
    {
     "name": "stdout",
     "output_type": "stream",
     "text": [
      "Validation , loss 0.0089, recon_loss 0.0041, reg_loss 0.0048\n"
     ]
    },
    {
     "name": "stderr",
     "output_type": "stream",
     "text": [
      "Epoch 261, loss 0.0081, recon_loss 0.0036, reg_loss 0.0044: 100%|██████████| 15845/15845 [02:00<00:00, 131.61it/s]\n",
      "Epoch 262, loss 0.0086, recon_loss 0.0041, reg_loss 0.0045:   0%|          | 16/15845 [00:00<02:00, 131.81it/s]"
     ]
    },
    {
     "name": "stdout",
     "output_type": "stream",
     "text": [
      "Validation , loss 0.0086, recon_loss 0.0039, reg_loss 0.0047\n"
     ]
    },
    {
     "name": "stderr",
     "output_type": "stream",
     "text": [
      "Epoch 262, loss 0.0086, recon_loss 0.0038, reg_loss 0.0047: 100%|██████████| 15845/15845 [02:00<00:00, 131.72it/s]\n",
      "Epoch 263, loss 0.0092, recon_loss 0.0042, reg_loss 0.0050:   0%|          | 16/15845 [00:00<02:01, 130.19it/s]"
     ]
    },
    {
     "name": "stdout",
     "output_type": "stream",
     "text": [
      "Validation , loss 0.0084, recon_loss 0.0039, reg_loss 0.0046\n"
     ]
    },
    {
     "name": "stderr",
     "output_type": "stream",
     "text": [
      "Epoch 263, loss 0.0082, recon_loss 0.0038, reg_loss 0.0044: 100%|██████████| 15845/15845 [02:00<00:00, 131.69it/s]\n",
      "Epoch 264, loss 0.0062, recon_loss 0.0025, reg_loss 0.0036:   0%|          | 16/15845 [00:00<01:59, 132.11it/s]"
     ]
    },
    {
     "name": "stdout",
     "output_type": "stream",
     "text": [
      "Validation , loss 0.0082, recon_loss 0.0039, reg_loss 0.0044\n"
     ]
    },
    {
     "name": "stderr",
     "output_type": "stream",
     "text": [
      "Epoch 264, loss 0.0082, recon_loss 0.0036, reg_loss 0.0046: 100%|██████████| 15845/15845 [02:00<00:00, 131.52it/s]\n",
      "Epoch 265, loss 0.0104, recon_loss 0.0041, reg_loss 0.0063:   0%|          | 16/15845 [00:00<02:00, 131.14it/s]"
     ]
    },
    {
     "name": "stdout",
     "output_type": "stream",
     "text": [
      "Validation , loss 0.0086, recon_loss 0.0040, reg_loss 0.0047\n"
     ]
    },
    {
     "name": "stderr",
     "output_type": "stream",
     "text": [
      "Epoch 265, loss 0.0085, recon_loss 0.0038, reg_loss 0.0047: 100%|██████████| 15845/15845 [02:00<00:00, 131.66it/s]\n",
      "Epoch 266, loss 0.0080, recon_loss 0.0033, reg_loss 0.0047:   0%|          | 16/15845 [00:00<01:59, 132.02it/s]"
     ]
    },
    {
     "name": "stdout",
     "output_type": "stream",
     "text": [
      "Validation , loss 0.0087, recon_loss 0.0040, reg_loss 0.0047\n"
     ]
    },
    {
     "name": "stderr",
     "output_type": "stream",
     "text": [
      "Epoch 266, loss 0.0111, recon_loss 0.0049, reg_loss 0.0062: 100%|██████████| 15845/15845 [02:00<00:00, 131.72it/s]\n",
      "Epoch 267, loss 0.0089, recon_loss 0.0035, reg_loss 0.0054:   0%|          | 16/15845 [00:00<01:59, 132.34it/s]"
     ]
    },
    {
     "name": "stdout",
     "output_type": "stream",
     "text": [
      "Validation , loss 0.0114, recon_loss 0.0048, reg_loss 0.0066\n"
     ]
    },
    {
     "name": "stderr",
     "output_type": "stream",
     "text": [
      "Epoch 267, loss 0.0083, recon_loss 0.0038, reg_loss 0.0045: 100%|██████████| 15845/15845 [02:00<00:00, 131.62it/s]\n",
      "Epoch 268, loss 0.0101, recon_loss 0.0049, reg_loss 0.0052:   0%|          | 16/15845 [00:00<01:59, 132.54it/s]"
     ]
    },
    {
     "name": "stdout",
     "output_type": "stream",
     "text": [
      "Validation , loss 0.0082, recon_loss 0.0038, reg_loss 0.0043\n"
     ]
    },
    {
     "name": "stderr",
     "output_type": "stream",
     "text": [
      "Epoch 268, loss 0.0085, recon_loss 0.0039, reg_loss 0.0046: 100%|██████████| 15845/15845 [02:00<00:00, 131.75it/s]\n",
      "Epoch 269, loss 0.0074, recon_loss 0.0030, reg_loss 0.0044:   0%|          | 16/15845 [00:00<01:59, 131.98it/s]"
     ]
    },
    {
     "name": "stdout",
     "output_type": "stream",
     "text": [
      "Validation , loss 0.0087, recon_loss 0.0039, reg_loss 0.0047\n"
     ]
    },
    {
     "name": "stderr",
     "output_type": "stream",
     "text": [
      "Epoch 269, loss 0.0082, recon_loss 0.0037, reg_loss 0.0044: 100%|██████████| 15845/15845 [02:00<00:00, 131.41it/s]\n",
      "Epoch 270, loss 0.0104, recon_loss 0.0052, reg_loss 0.0052:   0%|          | 16/15845 [00:00<02:00, 131.36it/s]"
     ]
    },
    {
     "name": "stdout",
     "output_type": "stream",
     "text": [
      "Validation , loss 0.0084, recon_loss 0.0040, reg_loss 0.0045\n"
     ]
    },
    {
     "name": "stderr",
     "output_type": "stream",
     "text": [
      "Epoch 270, loss 0.0091, recon_loss 0.0040, reg_loss 0.0052: 100%|██████████| 15845/15845 [02:00<00:00, 131.51it/s]\n",
      "Epoch 271, loss 0.0071, recon_loss 0.0032, reg_loss 0.0039:   0%|          | 16/15845 [00:00<02:00, 131.85it/s]"
     ]
    },
    {
     "name": "stdout",
     "output_type": "stream",
     "text": [
      "Validation , loss 0.0083, recon_loss 0.0039, reg_loss 0.0045\n"
     ]
    },
    {
     "name": "stderr",
     "output_type": "stream",
     "text": [
      "Epoch 271, loss 0.0083, recon_loss 0.0038, reg_loss 0.0046: 100%|██████████| 15845/15845 [02:00<00:00, 131.79it/s]\n",
      "Epoch 272, loss 0.0079, recon_loss 0.0037, reg_loss 0.0042:   0%|          | 16/15845 [00:00<01:59, 132.50it/s]"
     ]
    },
    {
     "name": "stdout",
     "output_type": "stream",
     "text": [
      "Validation , loss 0.0084, recon_loss 0.0039, reg_loss 0.0045\n"
     ]
    },
    {
     "name": "stderr",
     "output_type": "stream",
     "text": [
      "Epoch 272, loss 0.0084, recon_loss 0.0039, reg_loss 0.0046: 100%|██████████| 15845/15845 [02:00<00:00, 131.62it/s]\n",
      "Epoch 273, loss 0.0089, recon_loss 0.0040, reg_loss 0.0049:   0%|          | 16/15845 [00:00<01:59, 132.18it/s]"
     ]
    },
    {
     "name": "stdout",
     "output_type": "stream",
     "text": [
      "Validation , loss 0.0081, recon_loss 0.0039, reg_loss 0.0041\n"
     ]
    },
    {
     "name": "stderr",
     "output_type": "stream",
     "text": [
      "Epoch 273, loss 0.0091, recon_loss 0.0040, reg_loss 0.0050: 100%|██████████| 15845/15845 [02:00<00:00, 131.81it/s]\n",
      "Epoch 274, loss 0.0077, recon_loss 0.0034, reg_loss 0.0043:   0%|          | 16/15845 [00:00<02:00, 131.12it/s]"
     ]
    },
    {
     "name": "stdout",
     "output_type": "stream",
     "text": [
      "Validation , loss 0.0086, recon_loss 0.0041, reg_loss 0.0046\n"
     ]
    },
    {
     "name": "stderr",
     "output_type": "stream",
     "text": [
      "Epoch 274, loss 0.0084, recon_loss 0.0037, reg_loss 0.0047: 100%|██████████| 15845/15845 [02:00<00:00, 131.75it/s]\n",
      "Epoch 275, loss 0.0072, recon_loss 0.0031, reg_loss 0.0041:   0%|          | 16/15845 [00:00<01:59, 132.30it/s]"
     ]
    },
    {
     "name": "stdout",
     "output_type": "stream",
     "text": [
      "Validation , loss 0.0083, recon_loss 0.0038, reg_loss 0.0044\n"
     ]
    },
    {
     "name": "stderr",
     "output_type": "stream",
     "text": [
      "Epoch 275, loss 0.0082, recon_loss 0.0037, reg_loss 0.0045: 100%|██████████| 15845/15845 [02:00<00:00, 131.64it/s]\n",
      "Epoch 276, loss 0.0081, recon_loss 0.0038, reg_loss 0.0043:   0%|          | 16/15845 [00:00<01:59, 132.90it/s]"
     ]
    },
    {
     "name": "stdout",
     "output_type": "stream",
     "text": [
      "Validation , loss 0.0084, recon_loss 0.0038, reg_loss 0.0046\n"
     ]
    },
    {
     "name": "stderr",
     "output_type": "stream",
     "text": [
      "Epoch 276, loss 0.0085, recon_loss 0.0038, reg_loss 0.0047: 100%|██████████| 15845/15845 [02:00<00:00, 131.82it/s]\n",
      "Epoch 277, loss 0.0102, recon_loss 0.0050, reg_loss 0.0052:   0%|          | 16/15845 [00:00<01:59, 132.54it/s]"
     ]
    },
    {
     "name": "stdout",
     "output_type": "stream",
     "text": [
      "Validation , loss 0.0085, recon_loss 0.0039, reg_loss 0.0045\n"
     ]
    },
    {
     "name": "stderr",
     "output_type": "stream",
     "text": [
      "Epoch 277, loss 0.0080, recon_loss 0.0035, reg_loss 0.0045: 100%|██████████| 15845/15845 [02:00<00:00, 131.54it/s]\n",
      "Epoch 278, loss 0.0071, recon_loss 0.0032, reg_loss 0.0039:   0%|          | 16/15845 [00:00<02:00, 130.83it/s]"
     ]
    },
    {
     "name": "stdout",
     "output_type": "stream",
     "text": [
      "Validation , loss 0.0084, recon_loss 0.0039, reg_loss 0.0045\n"
     ]
    },
    {
     "name": "stderr",
     "output_type": "stream",
     "text": [
      "Epoch 278, loss 0.0081, recon_loss 0.0036, reg_loss 0.0044: 100%|██████████| 15845/15845 [02:00<00:00, 131.53it/s]\n",
      "Epoch 279, loss 0.0085, recon_loss 0.0043, reg_loss 0.0042:   0%|          | 16/15845 [00:00<01:59, 132.35it/s]"
     ]
    },
    {
     "name": "stdout",
     "output_type": "stream",
     "text": [
      "Validation , loss 0.0083, recon_loss 0.0039, reg_loss 0.0044\n"
     ]
    },
    {
     "name": "stderr",
     "output_type": "stream",
     "text": [
      "Epoch 279, loss 0.0086, recon_loss 0.0038, reg_loss 0.0048: 100%|██████████| 15845/15845 [02:00<00:00, 131.62it/s]\n",
      "Epoch 280, loss 0.0106, recon_loss 0.0060, reg_loss 0.0046:   0%|          | 16/15845 [00:00<01:59, 132.11it/s]"
     ]
    },
    {
     "name": "stdout",
     "output_type": "stream",
     "text": [
      "Validation , loss 0.0084, recon_loss 0.0040, reg_loss 0.0044\n"
     ]
    },
    {
     "name": "stderr",
     "output_type": "stream",
     "text": [
      "Epoch 280, loss 0.0085, recon_loss 0.0038, reg_loss 0.0047: 100%|██████████| 15845/15845 [02:00<00:00, 131.35it/s]\n",
      "Epoch 281, loss 0.0095, recon_loss 0.0047, reg_loss 0.0048:   0%|          | 16/15845 [00:00<02:00, 131.76it/s]"
     ]
    },
    {
     "name": "stdout",
     "output_type": "stream",
     "text": [
      "Validation , loss 0.0082, recon_loss 0.0040, reg_loss 0.0043\n"
     ]
    },
    {
     "name": "stderr",
     "output_type": "stream",
     "text": [
      "Epoch 281, loss 0.0089, recon_loss 0.0040, reg_loss 0.0049: 100%|██████████| 15845/15845 [02:00<00:00, 131.62it/s]\n",
      "Epoch 282, loss 0.0079, recon_loss 0.0037, reg_loss 0.0042:   0%|          | 16/15845 [00:00<02:00, 131.73it/s]"
     ]
    },
    {
     "name": "stdout",
     "output_type": "stream",
     "text": [
      "Validation , loss 0.0084, recon_loss 0.0039, reg_loss 0.0045\n"
     ]
    },
    {
     "name": "stderr",
     "output_type": "stream",
     "text": [
      "Epoch 282, loss 0.0082, recon_loss 0.0038, reg_loss 0.0044: 100%|██████████| 15845/15845 [02:00<00:00, 131.49it/s]\n",
      "Epoch 283, loss 0.0066, recon_loss 0.0029, reg_loss 0.0036:   0%|          | 16/15845 [00:00<01:59, 132.15it/s]"
     ]
    },
    {
     "name": "stdout",
     "output_type": "stream",
     "text": [
      "Validation , loss 0.0084, recon_loss 0.0039, reg_loss 0.0045\n"
     ]
    },
    {
     "name": "stderr",
     "output_type": "stream",
     "text": [
      "Epoch 283, loss 0.0082, recon_loss 0.0036, reg_loss 0.0046: 100%|██████████| 15845/15845 [02:00<00:00, 131.87it/s]\n",
      "Epoch 284, loss 0.0074, recon_loss 0.0034, reg_loss 0.0040:   0%|          | 16/15845 [00:00<01:59, 132.15it/s]"
     ]
    },
    {
     "name": "stdout",
     "output_type": "stream",
     "text": [
      "Validation , loss 0.0085, recon_loss 0.0038, reg_loss 0.0047\n"
     ]
    },
    {
     "name": "stderr",
     "output_type": "stream",
     "text": [
      "Epoch 284, loss 0.0087, recon_loss 0.0041, reg_loss 0.0046: 100%|██████████| 15845/15845 [02:00<00:00, 131.57it/s]\n",
      "Epoch 285, loss 0.0080, recon_loss 0.0036, reg_loss 0.0044:   0%|          | 16/15845 [00:00<02:00, 131.80it/s]"
     ]
    },
    {
     "name": "stdout",
     "output_type": "stream",
     "text": [
      "Validation , loss 0.0084, recon_loss 0.0041, reg_loss 0.0043\n"
     ]
    },
    {
     "name": "stderr",
     "output_type": "stream",
     "text": [
      "Epoch 285, loss 0.0082, recon_loss 0.0037, reg_loss 0.0045: 100%|██████████| 15845/15845 [02:00<00:00, 131.71it/s]\n",
      "Epoch 286, loss 0.0079, recon_loss 0.0031, reg_loss 0.0048:   0%|          | 16/15845 [00:00<01:59, 132.15it/s]"
     ]
    },
    {
     "name": "stdout",
     "output_type": "stream",
     "text": [
      "Validation , loss 0.0087, recon_loss 0.0039, reg_loss 0.0048\n"
     ]
    },
    {
     "name": "stderr",
     "output_type": "stream",
     "text": [
      "Epoch 286, loss 0.0084, recon_loss 0.0038, reg_loss 0.0046: 100%|██████████| 15845/15845 [02:00<00:00, 131.62it/s]\n",
      "Epoch 287, loss 0.0087, recon_loss 0.0040, reg_loss 0.0047:   0%|          | 16/15845 [00:00<01:59, 132.06it/s]"
     ]
    },
    {
     "name": "stdout",
     "output_type": "stream",
     "text": [
      "Validation , loss 0.0082, recon_loss 0.0039, reg_loss 0.0043\n"
     ]
    },
    {
     "name": "stderr",
     "output_type": "stream",
     "text": [
      "Epoch 287, loss 0.0082, recon_loss 0.0037, reg_loss 0.0045: 100%|██████████| 15845/15845 [02:00<00:00, 131.54it/s]\n",
      "Epoch 288, loss 0.0086, recon_loss 0.0039, reg_loss 0.0047:   0%|          | 16/15845 [00:00<02:00, 131.79it/s]"
     ]
    },
    {
     "name": "stdout",
     "output_type": "stream",
     "text": [
      "Validation , loss 0.0085, recon_loss 0.0040, reg_loss 0.0046\n"
     ]
    },
    {
     "name": "stderr",
     "output_type": "stream",
     "text": [
      "Epoch 288, loss 0.0084, recon_loss 0.0038, reg_loss 0.0046: 100%|██████████| 15845/15845 [02:00<00:00, 131.73it/s]\n",
      "Epoch 289, loss 0.0085, recon_loss 0.0039, reg_loss 0.0046:   0%|          | 16/15845 [00:00<02:00, 131.38it/s]"
     ]
    },
    {
     "name": "stdout",
     "output_type": "stream",
     "text": [
      "Validation , loss 0.0085, recon_loss 0.0039, reg_loss 0.0045\n"
     ]
    },
    {
     "name": "stderr",
     "output_type": "stream",
     "text": [
      "Epoch 289, loss 0.0082, recon_loss 0.0037, reg_loss 0.0045: 100%|██████████| 15845/15845 [02:00<00:00, 131.47it/s]\n",
      "Epoch 290, loss 0.0072, recon_loss 0.0034, reg_loss 0.0038:   0%|          | 16/15845 [00:00<01:59, 132.26it/s]"
     ]
    },
    {
     "name": "stdout",
     "output_type": "stream",
     "text": [
      "Validation , loss 0.0082, recon_loss 0.0039, reg_loss 0.0043\n"
     ]
    },
    {
     "name": "stderr",
     "output_type": "stream",
     "text": [
      "Epoch 290, loss 0.0082, recon_loss 0.0037, reg_loss 0.0045: 100%|██████████| 15845/15845 [02:00<00:00, 131.53it/s]\n",
      "Epoch 291, loss 0.0119, recon_loss 0.0052, reg_loss 0.0067:   0%|          | 16/15845 [00:00<01:59, 132.39it/s]"
     ]
    },
    {
     "name": "stdout",
     "output_type": "stream",
     "text": [
      "Validation , loss 0.0080, recon_loss 0.0038, reg_loss 0.0042\n"
     ]
    },
    {
     "name": "stderr",
     "output_type": "stream",
     "text": [
      "Epoch 291, loss 0.0084, recon_loss 0.0038, reg_loss 0.0046: 100%|██████████| 15845/15845 [02:00<00:00, 131.66it/s]\n",
      "Epoch 292, loss 0.0096, recon_loss 0.0043, reg_loss 0.0053:   0%|          | 16/15845 [00:00<01:59, 131.92it/s]"
     ]
    },
    {
     "name": "stdout",
     "output_type": "stream",
     "text": [
      "Validation , loss 0.0079, recon_loss 0.0038, reg_loss 0.0041\n"
     ]
    },
    {
     "name": "stderr",
     "output_type": "stream",
     "text": [
      "Epoch 292, loss 0.0084, recon_loss 0.0039, reg_loss 0.0046: 100%|██████████| 15845/15845 [02:00<00:00, 131.68it/s]\n",
      "Epoch 293, loss 0.0090, recon_loss 0.0032, reg_loss 0.0059:   0%|          | 16/15845 [00:00<02:00, 131.84it/s]"
     ]
    },
    {
     "name": "stdout",
     "output_type": "stream",
     "text": [
      "Validation , loss 0.0083, recon_loss 0.0040, reg_loss 0.0043\n"
     ]
    },
    {
     "name": "stderr",
     "output_type": "stream",
     "text": [
      "Epoch 293, loss 0.0083, recon_loss 0.0039, reg_loss 0.0045: 100%|██████████| 15845/15845 [02:00<00:00, 131.82it/s]\n",
      "Epoch 294, loss 0.0069, recon_loss 0.0031, reg_loss 0.0038:   0%|          | 16/15845 [00:00<01:59, 132.12it/s]"
     ]
    },
    {
     "name": "stdout",
     "output_type": "stream",
     "text": [
      "Validation , loss 0.0084, recon_loss 0.0039, reg_loss 0.0045\n"
     ]
    },
    {
     "name": "stderr",
     "output_type": "stream",
     "text": [
      "Epoch 294, loss 0.0086, recon_loss 0.0039, reg_loss 0.0047: 100%|██████████| 15845/15845 [02:00<00:00, 131.63it/s]\n",
      "Epoch 295, loss 0.0070, recon_loss 0.0034, reg_loss 0.0037:   0%|          | 16/15845 [00:00<01:59, 131.96it/s]"
     ]
    },
    {
     "name": "stdout",
     "output_type": "stream",
     "text": [
      "Validation , loss 0.0086, recon_loss 0.0039, reg_loss 0.0047\n"
     ]
    },
    {
     "name": "stderr",
     "output_type": "stream",
     "text": [
      "Epoch 295, loss 0.0083, recon_loss 0.0038, reg_loss 0.0045: 100%|██████████| 15845/15845 [02:00<00:00, 131.81it/s]\n",
      "Epoch 296, loss 0.0068, recon_loss 0.0029, reg_loss 0.0040:   0%|          | 16/15845 [00:00<01:59, 132.25it/s]"
     ]
    },
    {
     "name": "stdout",
     "output_type": "stream",
     "text": [
      "Validation , loss 0.0086, recon_loss 0.0039, reg_loss 0.0047\n"
     ]
    },
    {
     "name": "stderr",
     "output_type": "stream",
     "text": [
      "Epoch 296, loss 0.0086, recon_loss 0.0038, reg_loss 0.0048: 100%|██████████| 15845/15845 [02:00<00:00, 131.86it/s]\n",
      "Epoch 297, loss 0.0071, recon_loss 0.0032, reg_loss 0.0039:   0%|          | 16/15845 [00:00<02:00, 131.57it/s]"
     ]
    },
    {
     "name": "stdout",
     "output_type": "stream",
     "text": [
      "Validation , loss 0.0084, recon_loss 0.0039, reg_loss 0.0045\n"
     ]
    },
    {
     "name": "stderr",
     "output_type": "stream",
     "text": [
      "Epoch 297, loss 0.0082, recon_loss 0.0037, reg_loss 0.0045: 100%|██████████| 15845/15845 [02:00<00:00, 131.57it/s]\n",
      "Epoch 298, loss 0.0085, recon_loss 0.0041, reg_loss 0.0044:   0%|          | 16/15845 [00:00<01:59, 132.66it/s]"
     ]
    },
    {
     "name": "stdout",
     "output_type": "stream",
     "text": [
      "Validation , loss 0.0087, recon_loss 0.0039, reg_loss 0.0048\n"
     ]
    },
    {
     "name": "stderr",
     "output_type": "stream",
     "text": [
      "Epoch 298, loss 0.0090, recon_loss 0.0042, reg_loss 0.0048: 100%|██████████| 15845/15845 [02:00<00:00, 131.42it/s]\n",
      "Epoch 299, loss 0.0090, recon_loss 0.0048, reg_loss 0.0042:   0%|          | 16/15845 [00:00<01:59, 131.96it/s]"
     ]
    },
    {
     "name": "stdout",
     "output_type": "stream",
     "text": [
      "Validation , loss 0.0086, recon_loss 0.0043, reg_loss 0.0044\n"
     ]
    },
    {
     "name": "stderr",
     "output_type": "stream",
     "text": [
      "Epoch 299, loss 0.0083, recon_loss 0.0037, reg_loss 0.0046: 100%|██████████| 15845/15845 [02:00<00:00, 131.43it/s]\n",
      "Epoch 300, loss 0.0089, recon_loss 0.0047, reg_loss 0.0042:   0%|          | 16/15845 [00:00<02:00, 131.71it/s]"
     ]
    },
    {
     "name": "stdout",
     "output_type": "stream",
     "text": [
      "Validation , loss 0.0081, recon_loss 0.0038, reg_loss 0.0043\n"
     ]
    },
    {
     "name": "stderr",
     "output_type": "stream",
     "text": [
      "Epoch 300, loss 0.0086, recon_loss 0.0040, reg_loss 0.0046: 100%|██████████| 15845/15845 [02:00<00:00, 131.42it/s]\n",
      "Epoch 301, loss 0.0083, recon_loss 0.0038, reg_loss 0.0045:   0%|          | 16/15845 [00:00<02:00, 131.52it/s]"
     ]
    },
    {
     "name": "stdout",
     "output_type": "stream",
     "text": [
      "Validation , loss 0.0082, recon_loss 0.0038, reg_loss 0.0044\n"
     ]
    },
    {
     "name": "stderr",
     "output_type": "stream",
     "text": [
      "Epoch 301, loss 0.0086, recon_loss 0.0038, reg_loss 0.0047: 100%|██████████| 15845/15845 [02:00<00:00, 131.66it/s]\n",
      "Epoch 302, loss 0.0102, recon_loss 0.0054, reg_loss 0.0048:   0%|          | 16/15845 [00:00<02:00, 131.75it/s]"
     ]
    },
    {
     "name": "stdout",
     "output_type": "stream",
     "text": [
      "Validation , loss 0.0086, recon_loss 0.0039, reg_loss 0.0047\n"
     ]
    },
    {
     "name": "stderr",
     "output_type": "stream",
     "text": [
      "Epoch 302, loss 0.0087, recon_loss 0.0039, reg_loss 0.0048: 100%|██████████| 15845/15845 [02:00<00:00, 131.61it/s]\n",
      "Epoch 303, loss 0.0067, recon_loss 0.0030, reg_loss 0.0037:   0%|          | 16/15845 [00:00<01:59, 132.26it/s]"
     ]
    },
    {
     "name": "stdout",
     "output_type": "stream",
     "text": [
      "Validation , loss 0.0083, recon_loss 0.0039, reg_loss 0.0044\n"
     ]
    },
    {
     "name": "stderr",
     "output_type": "stream",
     "text": [
      "Epoch 303, loss 0.0081, recon_loss 0.0036, reg_loss 0.0045: 100%|██████████| 15845/15845 [02:00<00:00, 131.56it/s]\n",
      "Epoch 304, loss 0.0068, recon_loss 0.0032, reg_loss 0.0036:   0%|          | 16/15845 [00:00<01:59, 132.12it/s]"
     ]
    },
    {
     "name": "stdout",
     "output_type": "stream",
     "text": [
      "Validation , loss 0.0084, recon_loss 0.0039, reg_loss 0.0044\n"
     ]
    },
    {
     "name": "stderr",
     "output_type": "stream",
     "text": [
      "Epoch 304, loss 0.0082, recon_loss 0.0036, reg_loss 0.0045: 100%|██████████| 15845/15845 [02:00<00:00, 131.43it/s]\n",
      "Epoch 305, loss 0.0072, recon_loss 0.0032, reg_loss 0.0040:   0%|          | 16/15845 [00:00<01:59, 132.30it/s]"
     ]
    },
    {
     "name": "stdout",
     "output_type": "stream",
     "text": [
      "Validation , loss 0.0084, recon_loss 0.0038, reg_loss 0.0045\n"
     ]
    },
    {
     "name": "stderr",
     "output_type": "stream",
     "text": [
      "Epoch 305, loss 0.0084, recon_loss 0.0037, reg_loss 0.0046: 100%|██████████| 15845/15845 [02:00<00:00, 131.87it/s]\n",
      "Epoch 306, loss 0.0140, recon_loss 0.0053, reg_loss 0.0086:   0%|          | 16/15845 [00:00<01:59, 132.31it/s]"
     ]
    },
    {
     "name": "stdout",
     "output_type": "stream",
     "text": [
      "Validation , loss 0.0083, recon_loss 0.0039, reg_loss 0.0044\n"
     ]
    },
    {
     "name": "stderr",
     "output_type": "stream",
     "text": [
      "Epoch 306, loss 0.0082, recon_loss 0.0037, reg_loss 0.0045: 100%|██████████| 15845/15845 [02:00<00:00, 131.78it/s]\n",
      "Epoch 307, loss 0.0070, recon_loss 0.0031, reg_loss 0.0039:   0%|          | 16/15845 [00:00<01:59, 131.94it/s]"
     ]
    },
    {
     "name": "stdout",
     "output_type": "stream",
     "text": [
      "Validation , loss 0.0082, recon_loss 0.0038, reg_loss 0.0044\n"
     ]
    },
    {
     "name": "stderr",
     "output_type": "stream",
     "text": [
      "Epoch 307, loss 0.0081, recon_loss 0.0037, reg_loss 0.0044: 100%|██████████| 15845/15845 [02:00<00:00, 131.64it/s]\n",
      "Epoch 308, loss 0.0079, recon_loss 0.0034, reg_loss 0.0045:   0%|          | 16/15845 [00:00<01:59, 132.14it/s]"
     ]
    },
    {
     "name": "stdout",
     "output_type": "stream",
     "text": [
      "Validation , loss 0.0082, recon_loss 0.0038, reg_loss 0.0044\n"
     ]
    },
    {
     "name": "stderr",
     "output_type": "stream",
     "text": [
      "Epoch 308, loss 0.0083, recon_loss 0.0036, reg_loss 0.0046: 100%|██████████| 15845/15845 [02:00<00:00, 131.61it/s]\n",
      "Epoch 309, loss 0.0115, recon_loss 0.0047, reg_loss 0.0068:   0%|          | 16/15845 [00:00<01:59, 132.45it/s]"
     ]
    },
    {
     "name": "stdout",
     "output_type": "stream",
     "text": [
      "Validation , loss 0.0083, recon_loss 0.0038, reg_loss 0.0045\n"
     ]
    },
    {
     "name": "stderr",
     "output_type": "stream",
     "text": [
      "Epoch 309, loss 0.0084, recon_loss 0.0037, reg_loss 0.0047: 100%|██████████| 15845/15845 [02:00<00:00, 131.35it/s]\n",
      "Epoch 310, loss 0.0084, recon_loss 0.0039, reg_loss 0.0045:   0%|          | 16/15845 [00:00<01:59, 131.96it/s]"
     ]
    },
    {
     "name": "stdout",
     "output_type": "stream",
     "text": [
      "Validation , loss 0.0087, recon_loss 0.0039, reg_loss 0.0048\n"
     ]
    },
    {
     "name": "stderr",
     "output_type": "stream",
     "text": [
      "Epoch 310, loss 0.0085, recon_loss 0.0039, reg_loss 0.0046: 100%|██████████| 15845/15845 [02:00<00:00, 131.52it/s]\n",
      "Epoch 311, loss 0.0096, recon_loss 0.0040, reg_loss 0.0056:   0%|          | 16/15845 [00:00<01:59, 132.26it/s]"
     ]
    },
    {
     "name": "stdout",
     "output_type": "stream",
     "text": [
      "Validation , loss 0.0098, recon_loss 0.0045, reg_loss 0.0053\n"
     ]
    },
    {
     "name": "stderr",
     "output_type": "stream",
     "text": [
      "Epoch 311, loss 0.0084, recon_loss 0.0037, reg_loss 0.0047: 100%|██████████| 15845/15845 [02:00<00:00, 131.66it/s]\n",
      "Epoch 312, loss 0.0082, recon_loss 0.0038, reg_loss 0.0044:   0%|          | 16/15845 [00:00<01:59, 132.05it/s]"
     ]
    },
    {
     "name": "stdout",
     "output_type": "stream",
     "text": [
      "Validation , loss 0.0082, recon_loss 0.0039, reg_loss 0.0043\n"
     ]
    },
    {
     "name": "stderr",
     "output_type": "stream",
     "text": [
      "Epoch 312, loss 0.0083, recon_loss 0.0038, reg_loss 0.0045: 100%|██████████| 15845/15845 [02:00<00:00, 131.49it/s]\n",
      "Epoch 313, loss 0.0077, recon_loss 0.0036, reg_loss 0.0041:   0%|          | 16/15845 [00:00<01:59, 132.20it/s]"
     ]
    },
    {
     "name": "stdout",
     "output_type": "stream",
     "text": [
      "Validation , loss 0.0083, recon_loss 0.0039, reg_loss 0.0043\n"
     ]
    },
    {
     "name": "stderr",
     "output_type": "stream",
     "text": [
      "Epoch 313, loss 0.0089, recon_loss 0.0039, reg_loss 0.0050: 100%|██████████| 15845/15845 [02:00<00:00, 131.85it/s]\n",
      "Epoch 314, loss 0.0080, recon_loss 0.0032, reg_loss 0.0048:   0%|          | 16/15845 [00:00<02:00, 131.67it/s]"
     ]
    },
    {
     "name": "stdout",
     "output_type": "stream",
     "text": [
      "Validation , loss 0.0083, recon_loss 0.0039, reg_loss 0.0044\n"
     ]
    },
    {
     "name": "stderr",
     "output_type": "stream",
     "text": [
      "Epoch 314, loss 0.0081, recon_loss 0.0037, reg_loss 0.0044: 100%|██████████| 15845/15845 [02:00<00:00, 131.56it/s]\n",
      "Epoch 315, loss 0.0081, recon_loss 0.0037, reg_loss 0.0044:   0%|          | 16/15845 [00:00<02:00, 131.88it/s]"
     ]
    },
    {
     "name": "stdout",
     "output_type": "stream",
     "text": [
      "Validation , loss 0.0082, recon_loss 0.0039, reg_loss 0.0043\n"
     ]
    },
    {
     "name": "stderr",
     "output_type": "stream",
     "text": [
      "Epoch 315, loss 0.0085, recon_loss 0.0038, reg_loss 0.0046: 100%|██████████| 15845/15845 [02:00<00:00, 131.74it/s]\n",
      "Epoch 316, loss 0.0071, recon_loss 0.0029, reg_loss 0.0042:   0%|          | 16/15845 [00:00<01:59, 131.93it/s]"
     ]
    },
    {
     "name": "stdout",
     "output_type": "stream",
     "text": [
      "Validation , loss 0.0085, recon_loss 0.0040, reg_loss 0.0045\n"
     ]
    },
    {
     "name": "stderr",
     "output_type": "stream",
     "text": [
      "Epoch 316, loss 0.0084, recon_loss 0.0037, reg_loss 0.0047: 100%|██████████| 15845/15845 [02:00<00:00, 131.72it/s]\n",
      "Epoch 317, loss 0.0086, recon_loss 0.0041, reg_loss 0.0045:   0%|          | 16/15845 [00:00<01:59, 132.32it/s]"
     ]
    },
    {
     "name": "stdout",
     "output_type": "stream",
     "text": [
      "Validation , loss 0.0083, recon_loss 0.0038, reg_loss 0.0044\n"
     ]
    },
    {
     "name": "stderr",
     "output_type": "stream",
     "text": [
      "Epoch 317, loss 0.0083, recon_loss 0.0037, reg_loss 0.0045: 100%|██████████| 15845/15845 [02:00<00:00, 131.64it/s]\n",
      "Epoch 318, loss 0.0082, recon_loss 0.0041, reg_loss 0.0041:   0%|          | 16/15845 [00:00<02:00, 131.39it/s]"
     ]
    },
    {
     "name": "stdout",
     "output_type": "stream",
     "text": [
      "Validation , loss 0.0085, recon_loss 0.0039, reg_loss 0.0046\n"
     ]
    },
    {
     "name": "stderr",
     "output_type": "stream",
     "text": [
      "Epoch 318, loss 0.0083, recon_loss 0.0037, reg_loss 0.0046: 100%|██████████| 15845/15845 [02:00<00:00, 131.63it/s]\n",
      "Epoch 319, loss 0.0084, recon_loss 0.0038, reg_loss 0.0046:   0%|          | 16/15845 [00:00<02:00, 130.91it/s]"
     ]
    },
    {
     "name": "stdout",
     "output_type": "stream",
     "text": [
      "Validation , loss 0.0081, recon_loss 0.0038, reg_loss 0.0043\n"
     ]
    },
    {
     "name": "stderr",
     "output_type": "stream",
     "text": [
      "Epoch 319, loss 0.0084, recon_loss 0.0037, reg_loss 0.0047: 100%|██████████| 15845/15845 [02:00<00:00, 131.41it/s]\n",
      "Epoch 320, loss 0.0085, recon_loss 0.0038, reg_loss 0.0047:   0%|          | 16/15845 [00:00<01:59, 132.04it/s]"
     ]
    },
    {
     "name": "stdout",
     "output_type": "stream",
     "text": [
      "Validation , loss 0.0083, recon_loss 0.0039, reg_loss 0.0044\n"
     ]
    },
    {
     "name": "stderr",
     "output_type": "stream",
     "text": [
      "Epoch 320, loss 0.0084, recon_loss 0.0038, reg_loss 0.0046: 100%|██████████| 15845/15845 [02:00<00:00, 131.47it/s]\n",
      "Epoch 321, loss 0.0073, recon_loss 0.0035, reg_loss 0.0038:   0%|          | 16/15845 [00:00<02:00, 131.66it/s]"
     ]
    },
    {
     "name": "stdout",
     "output_type": "stream",
     "text": [
      "Validation , loss 0.0081, recon_loss 0.0038, reg_loss 0.0043\n"
     ]
    },
    {
     "name": "stderr",
     "output_type": "stream",
     "text": [
      "Epoch 321, loss 0.0082, recon_loss 0.0036, reg_loss 0.0045: 100%|██████████| 15845/15845 [02:00<00:00, 131.74it/s]\n",
      "Epoch 322, loss 0.0071, recon_loss 0.0030, reg_loss 0.0042:   0%|          | 16/15845 [00:00<01:59, 132.30it/s]"
     ]
    },
    {
     "name": "stdout",
     "output_type": "stream",
     "text": [
      "Validation , loss 0.0083, recon_loss 0.0038, reg_loss 0.0044\n"
     ]
    },
    {
     "name": "stderr",
     "output_type": "stream",
     "text": [
      "Epoch 322, loss 0.0082, recon_loss 0.0037, reg_loss 0.0045: 100%|██████████| 15845/15845 [02:00<00:00, 131.68it/s]\n",
      "Epoch 323, loss 0.0062, recon_loss 0.0025, reg_loss 0.0037:   0%|          | 16/15845 [00:00<01:59, 132.73it/s]"
     ]
    },
    {
     "name": "stdout",
     "output_type": "stream",
     "text": [
      "Validation , loss 0.0084, recon_loss 0.0038, reg_loss 0.0046\n"
     ]
    },
    {
     "name": "stderr",
     "output_type": "stream",
     "text": [
      "Epoch 323, loss 0.0081, recon_loss 0.0036, reg_loss 0.0045: 100%|██████████| 15845/15845 [02:00<00:00, 131.65it/s]\n",
      "Epoch 324, loss 0.0067, recon_loss 0.0031, reg_loss 0.0036:   0%|          | 16/15845 [00:00<02:00, 131.77it/s]"
     ]
    },
    {
     "name": "stdout",
     "output_type": "stream",
     "text": [
      "Validation , loss 0.0082, recon_loss 0.0038, reg_loss 0.0044\n"
     ]
    },
    {
     "name": "stderr",
     "output_type": "stream",
     "text": [
      "Epoch 324, loss 0.0082, recon_loss 0.0037, reg_loss 0.0046: 100%|██████████| 15845/15845 [02:00<00:00, 131.81it/s]\n",
      "Epoch 325, loss 0.0083, recon_loss 0.0038, reg_loss 0.0045:   0%|          | 16/15845 [00:00<02:00, 131.79it/s]"
     ]
    },
    {
     "name": "stdout",
     "output_type": "stream",
     "text": [
      "Validation , loss 0.0081, recon_loss 0.0038, reg_loss 0.0043\n"
     ]
    },
    {
     "name": "stderr",
     "output_type": "stream",
     "text": [
      "Epoch 325, loss 0.0094, recon_loss 0.0048, reg_loss 0.0045: 100%|██████████| 15845/15845 [02:00<00:00, 131.45it/s]\n",
      "Epoch 326, loss 0.0076, recon_loss 0.0033, reg_loss 0.0043:   0%|          | 16/15845 [00:00<01:59, 132.17it/s]"
     ]
    },
    {
     "name": "stdout",
     "output_type": "stream",
     "text": [
      "Validation , loss 0.0087, recon_loss 0.0039, reg_loss 0.0048\n"
     ]
    },
    {
     "name": "stderr",
     "output_type": "stream",
     "text": [
      "Epoch 326, loss 0.0085, recon_loss 0.0039, reg_loss 0.0046: 100%|██████████| 15845/15845 [02:00<00:00, 131.69it/s]\n",
      "Epoch 327, loss 0.0066, recon_loss 0.0028, reg_loss 0.0038:   0%|          | 16/15845 [00:00<01:59, 132.39it/s]"
     ]
    },
    {
     "name": "stdout",
     "output_type": "stream",
     "text": [
      "Validation , loss 0.0084, recon_loss 0.0040, reg_loss 0.0044\n"
     ]
    },
    {
     "name": "stderr",
     "output_type": "stream",
     "text": [
      "Epoch 327, loss 0.0081, recon_loss 0.0036, reg_loss 0.0045: 100%|██████████| 15845/15845 [02:00<00:00, 131.69it/s]\n",
      "Epoch 328, loss 0.0056, recon_loss 0.0021, reg_loss 0.0034:   0%|          | 16/15845 [00:00<01:59, 132.11it/s]"
     ]
    },
    {
     "name": "stdout",
     "output_type": "stream",
     "text": [
      "Validation , loss 0.0085, recon_loss 0.0039, reg_loss 0.0046\n"
     ]
    },
    {
     "name": "stderr",
     "output_type": "stream",
     "text": [
      "Epoch 328, loss 0.0079, recon_loss 0.0034, reg_loss 0.0045: 100%|██████████| 15845/15845 [02:00<00:00, 131.56it/s]\n",
      "Epoch 329, loss 0.0078, recon_loss 0.0031, reg_loss 0.0047:   0%|          | 16/15845 [00:00<01:59, 132.61it/s]"
     ]
    },
    {
     "name": "stdout",
     "output_type": "stream",
     "text": [
      "Validation , loss 0.0083, recon_loss 0.0038, reg_loss 0.0045\n"
     ]
    },
    {
     "name": "stderr",
     "output_type": "stream",
     "text": [
      "Epoch 329, loss 0.0084, recon_loss 0.0038, reg_loss 0.0046: 100%|██████████| 15845/15845 [02:00<00:00, 131.66it/s]\n",
      "Epoch 330, loss 0.0077, recon_loss 0.0036, reg_loss 0.0041:   0%|          | 16/15845 [00:00<01:59, 132.34it/s]"
     ]
    },
    {
     "name": "stdout",
     "output_type": "stream",
     "text": [
      "Validation , loss 0.0081, recon_loss 0.0038, reg_loss 0.0043\n"
     ]
    },
    {
     "name": "stderr",
     "output_type": "stream",
     "text": [
      "Epoch 330, loss 0.0080, recon_loss 0.0036, reg_loss 0.0044: 100%|██████████| 15845/15845 [02:00<00:00, 131.92it/s]\n",
      "Epoch 331, loss 0.0068, recon_loss 0.0032, reg_loss 0.0036:   0%|          | 16/15845 [00:00<01:59, 132.51it/s]"
     ]
    },
    {
     "name": "stdout",
     "output_type": "stream",
     "text": [
      "Validation , loss 0.0083, recon_loss 0.0038, reg_loss 0.0044\n"
     ]
    },
    {
     "name": "stderr",
     "output_type": "stream",
     "text": [
      "Epoch 331, loss 0.0082, recon_loss 0.0036, reg_loss 0.0046: 100%|██████████| 15845/15845 [02:00<00:00, 131.54it/s]\n",
      "Epoch 332, loss 0.0072, recon_loss 0.0034, reg_loss 0.0038:   0%|          | 16/15845 [00:00<01:59, 132.19it/s]"
     ]
    },
    {
     "name": "stdout",
     "output_type": "stream",
     "text": [
      "Validation , loss 0.0083, recon_loss 0.0039, reg_loss 0.0044\n"
     ]
    },
    {
     "name": "stderr",
     "output_type": "stream",
     "text": [
      "Epoch 332, loss 0.0085, recon_loss 0.0039, reg_loss 0.0046: 100%|██████████| 15845/15845 [02:00<00:00, 131.69it/s]\n",
      "Epoch 333, loss 0.0118, recon_loss 0.0054, reg_loss 0.0064:   0%|          | 16/15845 [00:00<01:59, 132.00it/s]"
     ]
    },
    {
     "name": "stdout",
     "output_type": "stream",
     "text": [
      "Validation , loss 0.0089, recon_loss 0.0044, reg_loss 0.0045\n"
     ]
    },
    {
     "name": "stderr",
     "output_type": "stream",
     "text": [
      "Epoch 333, loss 0.0082, recon_loss 0.0038, reg_loss 0.0045: 100%|██████████| 15845/15845 [02:00<00:00, 131.56it/s]\n",
      "Epoch 334, loss 0.0123, recon_loss 0.0029, reg_loss 0.0094:   0%|          | 16/15845 [00:00<02:00, 131.74it/s]"
     ]
    },
    {
     "name": "stdout",
     "output_type": "stream",
     "text": [
      "Validation , loss 0.0084, recon_loss 0.0038, reg_loss 0.0046\n"
     ]
    },
    {
     "name": "stderr",
     "output_type": "stream",
     "text": [
      "Epoch 334, loss 0.0081, recon_loss 0.0037, reg_loss 0.0045: 100%|██████████| 15845/15845 [02:00<00:00, 131.51it/s]\n",
      "Epoch 335, loss 0.0074, recon_loss 0.0036, reg_loss 0.0038:   0%|          | 16/15845 [00:00<01:59, 132.18it/s]"
     ]
    },
    {
     "name": "stdout",
     "output_type": "stream",
     "text": [
      "Validation , loss 0.0081, recon_loss 0.0038, reg_loss 0.0043\n"
     ]
    },
    {
     "name": "stderr",
     "output_type": "stream",
     "text": [
      "Epoch 335, loss 0.0083, recon_loss 0.0038, reg_loss 0.0045: 100%|██████████| 15845/15845 [02:00<00:00, 131.82it/s]\n",
      "Epoch 336, loss 0.0082, recon_loss 0.0038, reg_loss 0.0044:   0%|          | 16/15845 [00:00<02:02, 129.47it/s]"
     ]
    },
    {
     "name": "stdout",
     "output_type": "stream",
     "text": [
      "Validation , loss 0.0084, recon_loss 0.0039, reg_loss 0.0045\n"
     ]
    },
    {
     "name": "stderr",
     "output_type": "stream",
     "text": [
      "Epoch 336, loss 0.0083, recon_loss 0.0037, reg_loss 0.0047: 100%|██████████| 15845/15845 [02:00<00:00, 131.39it/s]\n",
      "Epoch 337, loss 0.0091, recon_loss 0.0028, reg_loss 0.0063:   0%|          | 16/15845 [00:00<02:00, 131.08it/s]"
     ]
    },
    {
     "name": "stdout",
     "output_type": "stream",
     "text": [
      "Validation , loss 0.0080, recon_loss 0.0038, reg_loss 0.0042\n"
     ]
    },
    {
     "name": "stderr",
     "output_type": "stream",
     "text": [
      "Epoch 337, loss 0.0083, recon_loss 0.0037, reg_loss 0.0046: 100%|██████████| 15845/15845 [02:00<00:00, 131.83it/s]\n",
      "Epoch 338, loss 0.0089, recon_loss 0.0034, reg_loss 0.0055:   0%|          | 16/15845 [00:00<02:00, 131.67it/s]"
     ]
    },
    {
     "name": "stdout",
     "output_type": "stream",
     "text": [
      "Validation , loss 0.0084, recon_loss 0.0040, reg_loss 0.0045\n"
     ]
    },
    {
     "name": "stderr",
     "output_type": "stream",
     "text": [
      "Epoch 338, loss 0.0084, recon_loss 0.0037, reg_loss 0.0046: 100%|██████████| 15845/15845 [02:00<00:00, 131.56it/s]\n",
      "Epoch 339, loss 0.0078, recon_loss 0.0033, reg_loss 0.0045:   0%|          | 16/15845 [00:00<01:59, 132.30it/s]"
     ]
    },
    {
     "name": "stdout",
     "output_type": "stream",
     "text": [
      "Validation , loss 0.0086, recon_loss 0.0039, reg_loss 0.0047\n"
     ]
    },
    {
     "name": "stderr",
     "output_type": "stream",
     "text": [
      "Epoch 339, loss 0.0083, recon_loss 0.0036, reg_loss 0.0047: 100%|██████████| 15845/15845 [02:00<00:00, 131.62it/s]\n",
      "Epoch 340, loss 0.0091, recon_loss 0.0048, reg_loss 0.0043:   0%|          | 16/15845 [00:00<02:00, 131.52it/s]"
     ]
    },
    {
     "name": "stdout",
     "output_type": "stream",
     "text": [
      "Validation , loss 0.0086, recon_loss 0.0040, reg_loss 0.0045\n"
     ]
    },
    {
     "name": "stderr",
     "output_type": "stream",
     "text": [
      "Epoch 340, loss 0.0081, recon_loss 0.0036, reg_loss 0.0044: 100%|██████████| 15845/15845 [02:00<00:00, 131.55it/s]\n",
      "Epoch 341, loss 0.0083, recon_loss 0.0039, reg_loss 0.0045:   0%|          | 16/15845 [00:00<02:00, 131.78it/s]"
     ]
    },
    {
     "name": "stdout",
     "output_type": "stream",
     "text": [
      "Validation , loss 0.0082, recon_loss 0.0038, reg_loss 0.0043\n"
     ]
    },
    {
     "name": "stderr",
     "output_type": "stream",
     "text": [
      "Epoch 341, loss 0.0085, recon_loss 0.0037, reg_loss 0.0048: 100%|██████████| 15845/15845 [02:00<00:00, 131.54it/s]\n",
      "Epoch 342, loss 0.0078, recon_loss 0.0033, reg_loss 0.0045:   0%|          | 16/15845 [00:00<02:00, 131.52it/s]"
     ]
    },
    {
     "name": "stdout",
     "output_type": "stream",
     "text": [
      "Validation , loss 0.0080, recon_loss 0.0039, reg_loss 0.0041\n"
     ]
    },
    {
     "name": "stderr",
     "output_type": "stream",
     "text": [
      "Epoch 342, loss 0.0081, recon_loss 0.0035, reg_loss 0.0046: 100%|██████████| 15845/15845 [02:00<00:00, 131.46it/s]\n",
      "Epoch 343, loss 0.0071, recon_loss 0.0034, reg_loss 0.0036:   0%|          | 16/15845 [00:00<01:59, 132.23it/s]"
     ]
    },
    {
     "name": "stdout",
     "output_type": "stream",
     "text": [
      "Validation , loss 0.0081, recon_loss 0.0038, reg_loss 0.0043\n"
     ]
    },
    {
     "name": "stderr",
     "output_type": "stream",
     "text": [
      "Epoch 343, loss 0.0084, recon_loss 0.0036, reg_loss 0.0048: 100%|██████████| 15845/15845 [02:00<00:00, 131.76it/s]\n",
      "Epoch 344, loss 0.0095, recon_loss 0.0045, reg_loss 0.0050:   0%|          | 16/15845 [00:00<02:00, 131.07it/s]"
     ]
    },
    {
     "name": "stdout",
     "output_type": "stream",
     "text": [
      "Validation , loss 0.0081, recon_loss 0.0039, reg_loss 0.0042\n"
     ]
    },
    {
     "name": "stderr",
     "output_type": "stream",
     "text": [
      "Epoch 344, loss 0.0083, recon_loss 0.0036, reg_loss 0.0046: 100%|██████████| 15845/15845 [02:00<00:00, 131.52it/s]\n",
      "Epoch 345, loss 0.0083, recon_loss 0.0040, reg_loss 0.0043:   0%|          | 16/15845 [00:00<01:59, 132.51it/s]"
     ]
    },
    {
     "name": "stdout",
     "output_type": "stream",
     "text": [
      "Validation , loss 0.0085, recon_loss 0.0038, reg_loss 0.0047\n"
     ]
    },
    {
     "name": "stderr",
     "output_type": "stream",
     "text": [
      "Epoch 345, loss 0.0079, recon_loss 0.0035, reg_loss 0.0043: 100%|██████████| 15845/15845 [02:00<00:00, 131.81it/s]\n",
      "Epoch 346, loss 0.0073, recon_loss 0.0033, reg_loss 0.0040:   0%|          | 16/15845 [00:00<01:59, 131.93it/s]"
     ]
    },
    {
     "name": "stdout",
     "output_type": "stream",
     "text": [
      "Validation , loss 0.0082, recon_loss 0.0038, reg_loss 0.0044\n"
     ]
    },
    {
     "name": "stderr",
     "output_type": "stream",
     "text": [
      "Epoch 346, loss 0.0082, recon_loss 0.0037, reg_loss 0.0045: 100%|██████████| 15845/15845 [02:00<00:00, 131.67it/s]\n",
      "Epoch 347, loss 0.0066, recon_loss 0.0029, reg_loss 0.0036:   0%|          | 16/15845 [00:00<01:59, 132.14it/s]"
     ]
    },
    {
     "name": "stdout",
     "output_type": "stream",
     "text": [
      "Validation , loss 0.0083, recon_loss 0.0039, reg_loss 0.0044\n"
     ]
    },
    {
     "name": "stderr",
     "output_type": "stream",
     "text": [
      "Epoch 347, loss 0.0081, recon_loss 0.0035, reg_loss 0.0046: 100%|██████████| 15845/15845 [02:00<00:00, 131.40it/s]\n",
      "Epoch 348, loss 0.0090, recon_loss 0.0041, reg_loss 0.0049:   0%|          | 16/15845 [00:00<01:59, 132.56it/s]"
     ]
    },
    {
     "name": "stdout",
     "output_type": "stream",
     "text": [
      "Validation , loss 0.0081, recon_loss 0.0038, reg_loss 0.0043\n"
     ]
    },
    {
     "name": "stderr",
     "output_type": "stream",
     "text": [
      "Epoch 348, loss 0.0081, recon_loss 0.0036, reg_loss 0.0045: 100%|██████████| 15845/15845 [02:00<00:00, 131.79it/s]\n",
      "Epoch 349, loss 0.0106, recon_loss 0.0050, reg_loss 0.0056:   0%|          | 16/15845 [00:00<01:59, 132.10it/s]"
     ]
    },
    {
     "name": "stdout",
     "output_type": "stream",
     "text": [
      "Validation , loss 0.0082, recon_loss 0.0038, reg_loss 0.0045\n"
     ]
    },
    {
     "name": "stderr",
     "output_type": "stream",
     "text": [
      "Epoch 349, loss 0.0080, recon_loss 0.0035, reg_loss 0.0045: 100%|██████████| 15845/15845 [02:00<00:00, 131.45it/s]\n",
      "Epoch 350, loss 0.0097, recon_loss 0.0047, reg_loss 0.0050:   0%|          | 16/15845 [00:00<02:00, 131.15it/s]"
     ]
    },
    {
     "name": "stdout",
     "output_type": "stream",
     "text": [
      "Validation , loss 0.0083, recon_loss 0.0039, reg_loss 0.0044\n"
     ]
    },
    {
     "name": "stderr",
     "output_type": "stream",
     "text": [
      "Epoch 350, loss 0.0080, recon_loss 0.0036, reg_loss 0.0044: 100%|██████████| 15845/15845 [02:01<00:00, 129.93it/s]\n",
      "Epoch 351, loss 0.0073, recon_loss 0.0032, reg_loss 0.0041:   0%|          | 16/15845 [00:00<02:00, 130.88it/s]"
     ]
    },
    {
     "name": "stdout",
     "output_type": "stream",
     "text": [
      "Validation , loss 0.0084, recon_loss 0.0039, reg_loss 0.0045\n"
     ]
    },
    {
     "name": "stderr",
     "output_type": "stream",
     "text": [
      "Epoch 351, loss 0.0085, recon_loss 0.0037, reg_loss 0.0048: 100%|██████████| 15845/15845 [02:00<00:00, 131.22it/s]\n",
      "Epoch 352, loss 0.0074, recon_loss 0.0033, reg_loss 0.0041:   0%|          | 16/15845 [00:00<02:00, 131.42it/s]"
     ]
    },
    {
     "name": "stdout",
     "output_type": "stream",
     "text": [
      "Validation , loss 0.0082, recon_loss 0.0039, reg_loss 0.0044\n"
     ]
    },
    {
     "name": "stderr",
     "output_type": "stream",
     "text": [
      "Epoch 352, loss 0.0081, recon_loss 0.0036, reg_loss 0.0045: 100%|██████████| 15845/15845 [02:00<00:00, 131.19it/s]\n",
      "Epoch 353, loss 0.0110, recon_loss 0.0055, reg_loss 0.0055:   0%|          | 16/15845 [00:00<02:00, 131.62it/s]"
     ]
    },
    {
     "name": "stdout",
     "output_type": "stream",
     "text": [
      "Validation , loss 0.0080, recon_loss 0.0038, reg_loss 0.0042\n"
     ]
    },
    {
     "name": "stderr",
     "output_type": "stream",
     "text": [
      "Epoch 353, loss 0.0081, recon_loss 0.0035, reg_loss 0.0045: 100%|██████████| 15845/15845 [02:00<00:00, 131.31it/s]\n",
      "Epoch 354, loss 0.0094, recon_loss 0.0041, reg_loss 0.0053:   0%|          | 16/15845 [00:00<01:59, 132.00it/s]"
     ]
    },
    {
     "name": "stdout",
     "output_type": "stream",
     "text": [
      "Validation , loss 0.0083, recon_loss 0.0039, reg_loss 0.0044\n"
     ]
    },
    {
     "name": "stderr",
     "output_type": "stream",
     "text": [
      "Epoch 354, loss 0.0083, recon_loss 0.0036, reg_loss 0.0047: 100%|██████████| 15845/15845 [02:00<00:00, 131.43it/s]\n",
      "Epoch 355, loss 0.0094, recon_loss 0.0040, reg_loss 0.0054:   0%|          | 16/15845 [00:00<02:00, 131.77it/s]"
     ]
    },
    {
     "name": "stdout",
     "output_type": "stream",
     "text": [
      "Validation , loss 0.0085, recon_loss 0.0038, reg_loss 0.0047\n"
     ]
    },
    {
     "name": "stderr",
     "output_type": "stream",
     "text": [
      "Epoch 355, loss 0.0082, recon_loss 0.0036, reg_loss 0.0045: 100%|██████████| 15845/15845 [02:00<00:00, 131.38it/s]\n",
      "Epoch 356, loss 0.0084, recon_loss 0.0044, reg_loss 0.0040:   0%|          | 16/15845 [00:00<01:59, 132.12it/s]"
     ]
    },
    {
     "name": "stdout",
     "output_type": "stream",
     "text": [
      "Validation , loss 0.0084, recon_loss 0.0038, reg_loss 0.0046\n"
     ]
    },
    {
     "name": "stderr",
     "output_type": "stream",
     "text": [
      "Epoch 356, loss 0.0085, recon_loss 0.0037, reg_loss 0.0048: 100%|██████████| 15845/15845 [02:00<00:00, 131.61it/s]\n",
      "Epoch 357, loss 0.0063, recon_loss 0.0028, reg_loss 0.0035:   0%|          | 16/15845 [00:00<02:00, 131.37it/s]"
     ]
    },
    {
     "name": "stdout",
     "output_type": "stream",
     "text": [
      "Validation , loss 0.0083, recon_loss 0.0039, reg_loss 0.0044\n"
     ]
    },
    {
     "name": "stderr",
     "output_type": "stream",
     "text": [
      "Epoch 357, loss 0.0086, recon_loss 0.0036, reg_loss 0.0049: 100%|██████████| 15845/15845 [02:00<00:00, 131.45it/s]\n",
      "Epoch 358, loss 0.0059, recon_loss 0.0024, reg_loss 0.0035:   0%|          | 16/15845 [00:00<02:00, 131.59it/s]"
     ]
    },
    {
     "name": "stdout",
     "output_type": "stream",
     "text": [
      "Validation , loss 0.0081, recon_loss 0.0038, reg_loss 0.0042\n"
     ]
    },
    {
     "name": "stderr",
     "output_type": "stream",
     "text": [
      "Epoch 358, loss 0.0085, recon_loss 0.0037, reg_loss 0.0048: 100%|██████████| 15845/15845 [02:00<00:00, 131.28it/s]\n",
      "Epoch 359, loss 0.0071, recon_loss 0.0031, reg_loss 0.0040:   0%|          | 16/15845 [00:00<01:59, 131.99it/s]"
     ]
    },
    {
     "name": "stdout",
     "output_type": "stream",
     "text": [
      "Validation , loss 0.0080, recon_loss 0.0038, reg_loss 0.0042\n"
     ]
    },
    {
     "name": "stderr",
     "output_type": "stream",
     "text": [
      "Epoch 359, loss 0.0083, recon_loss 0.0038, reg_loss 0.0045: 100%|██████████| 15845/15845 [02:00<00:00, 131.39it/s]\n",
      "Epoch 360, loss 0.0070, recon_loss 0.0034, reg_loss 0.0037:   0%|          | 16/15845 [00:00<02:00, 131.37it/s]"
     ]
    },
    {
     "name": "stdout",
     "output_type": "stream",
     "text": [
      "Validation , loss 0.0084, recon_loss 0.0039, reg_loss 0.0045\n"
     ]
    },
    {
     "name": "stderr",
     "output_type": "stream",
     "text": [
      "Epoch 360, loss 0.0081, recon_loss 0.0036, reg_loss 0.0045:  14%|█▍        | 2272/15845 [00:17<01:43, 131.16it/s]"
     ]
    },
    {
     "ename": "KeyboardInterrupt",
     "evalue": "",
     "output_type": "error",
     "traceback": [
      "\u001b[0;31m---------------------------------------------------------------------------\u001b[0m",
      "\u001b[0;31mKeyboardInterrupt\u001b[0m                         Traceback (most recent call last)",
      "\u001b[0;32m<ipython-input-14-d75e42e500d1>\u001b[0m in \u001b[0;36m<module>\u001b[0;34m\u001b[0m\n\u001b[1;32m      6\u001b[0m \u001b[0mwriter\u001b[0m\u001b[0;34m.\u001b[0m\u001b[0madd_graph\u001b[0m\u001b[0;34m(\u001b[0m\u001b[0mvqvae\u001b[0m\u001b[0;34m,\u001b[0m \u001b[0mtrain_dataset\u001b[0m\u001b[0;34m[\u001b[0m\u001b[0;36m0\u001b[0m\u001b[0;34m]\u001b[0m\u001b[0;34m.\u001b[0m\u001b[0munsqueeze\u001b[0m\u001b[0;34m(\u001b[0m\u001b[0;36m0\u001b[0m\u001b[0;34m)\u001b[0m\u001b[0;34m.\u001b[0m\u001b[0mcuda\u001b[0m\u001b[0;34m(\u001b[0m\u001b[0;34m)\u001b[0m\u001b[0;34m)\u001b[0m\u001b[0;34m\u001b[0m\u001b[0;34m\u001b[0m\u001b[0m\n\u001b[1;32m      7\u001b[0m train_epochs(vqvae, train_dataloader, val_dataloader, \\\n\u001b[0;32m----> 8\u001b[0;31m              dict(epochs=500, lr=1e-4, grad_clip=1), writer, quiet=False)\n\u001b[0m\u001b[1;32m      9\u001b[0m \u001b[0mwriter\u001b[0m\u001b[0;34m.\u001b[0m\u001b[0mclose\u001b[0m\u001b[0;34m(\u001b[0m\u001b[0;34m)\u001b[0m\u001b[0;34m\u001b[0m\u001b[0;34m\u001b[0m\u001b[0m\n",
      "\u001b[0;32m<ipython-input-6-f3f3f817dc4b>\u001b[0m in \u001b[0;36mtrain_epochs\u001b[0;34m(model, train_loader, val_loader, train_args, tb_writer, quiet)\u001b[0m\n\u001b[1;32m     58\u001b[0m     \u001b[0;32mfor\u001b[0m \u001b[0mepoch\u001b[0m \u001b[0;32min\u001b[0m \u001b[0mrange\u001b[0m\u001b[0;34m(\u001b[0m\u001b[0mepochs\u001b[0m\u001b[0;34m)\u001b[0m\u001b[0;34m:\u001b[0m\u001b[0;34m\u001b[0m\u001b[0;34m\u001b[0m\u001b[0m\n\u001b[1;32m     59\u001b[0m         \u001b[0mmodel\u001b[0m\u001b[0;34m.\u001b[0m\u001b[0mtrain\u001b[0m\u001b[0;34m(\u001b[0m\u001b[0;34m)\u001b[0m\u001b[0;34m\u001b[0m\u001b[0;34m\u001b[0m\u001b[0m\n\u001b[0;32m---> 60\u001b[0;31m         \u001b[0mtrain_loss\u001b[0m \u001b[0;34m=\u001b[0m \u001b[0mtrain\u001b[0m\u001b[0;34m(\u001b[0m\u001b[0mmodel\u001b[0m\u001b[0;34m,\u001b[0m \u001b[0mtrain_loader\u001b[0m\u001b[0;34m,\u001b[0m \u001b[0moptimizer\u001b[0m\u001b[0;34m,\u001b[0m \u001b[0mepoch\u001b[0m\u001b[0;34m,\u001b[0m \u001b[0mquiet\u001b[0m\u001b[0;34m,\u001b[0m \u001b[0mgrad_clip\u001b[0m\u001b[0;34m)\u001b[0m\u001b[0;34m\u001b[0m\u001b[0;34m\u001b[0m\u001b[0m\n\u001b[0m\u001b[1;32m     61\u001b[0m         \u001b[0mval_loss\u001b[0m \u001b[0;34m=\u001b[0m \u001b[0meval_loss\u001b[0m\u001b[0;34m(\u001b[0m\u001b[0mmodel\u001b[0m\u001b[0;34m,\u001b[0m \u001b[0mval_loader\u001b[0m\u001b[0;34m,\u001b[0m \u001b[0mquiet\u001b[0m\u001b[0;34m)\u001b[0m\u001b[0;34m\u001b[0m\u001b[0;34m\u001b[0m\u001b[0m\n\u001b[1;32m     62\u001b[0m \u001b[0;34m\u001b[0m\u001b[0m\n",
      "\u001b[0;32m<ipython-input-6-f3f3f817dc4b>\u001b[0m in \u001b[0;36mtrain\u001b[0;34m(model, train_loader, optimizer, epoch, quiet, grad_clip)\u001b[0m\n\u001b[1;32m     11\u001b[0m         \u001b[0mout\u001b[0m \u001b[0;34m=\u001b[0m \u001b[0mmodel\u001b[0m\u001b[0;34m.\u001b[0m\u001b[0mloss\u001b[0m\u001b[0;34m(\u001b[0m\u001b[0mx\u001b[0m\u001b[0;34m)\u001b[0m\u001b[0;34m\u001b[0m\u001b[0;34m\u001b[0m\u001b[0m\n\u001b[1;32m     12\u001b[0m         \u001b[0moptimizer\u001b[0m\u001b[0;34m.\u001b[0m\u001b[0mzero_grad\u001b[0m\u001b[0;34m(\u001b[0m\u001b[0;34m)\u001b[0m\u001b[0;34m\u001b[0m\u001b[0;34m\u001b[0m\u001b[0m\n\u001b[0;32m---> 13\u001b[0;31m         \u001b[0mout\u001b[0m\u001b[0;34m[\u001b[0m\u001b[0;34m'loss'\u001b[0m\u001b[0;34m]\u001b[0m\u001b[0;34m.\u001b[0m\u001b[0mbackward\u001b[0m\u001b[0;34m(\u001b[0m\u001b[0;34m)\u001b[0m\u001b[0;34m\u001b[0m\u001b[0;34m\u001b[0m\u001b[0m\n\u001b[0m\u001b[1;32m     14\u001b[0m         \u001b[0;32mif\u001b[0m \u001b[0mgrad_clip\u001b[0m\u001b[0;34m:\u001b[0m\u001b[0;34m\u001b[0m\u001b[0;34m\u001b[0m\u001b[0m\n\u001b[1;32m     15\u001b[0m             \u001b[0mtorch\u001b[0m\u001b[0;34m.\u001b[0m\u001b[0mnn\u001b[0m\u001b[0;34m.\u001b[0m\u001b[0mutils\u001b[0m\u001b[0;34m.\u001b[0m\u001b[0mclip_grad_norm_\u001b[0m\u001b[0;34m(\u001b[0m\u001b[0mmodel\u001b[0m\u001b[0;34m.\u001b[0m\u001b[0mparameters\u001b[0m\u001b[0;34m(\u001b[0m\u001b[0;34m)\u001b[0m\u001b[0;34m,\u001b[0m \u001b[0mgrad_clip\u001b[0m\u001b[0;34m)\u001b[0m\u001b[0;34m\u001b[0m\u001b[0;34m\u001b[0m\u001b[0m\n",
      "\u001b[0;32m/usr/local/lib/python3.6/dist-packages/torch/tensor.py\u001b[0m in \u001b[0;36mbackward\u001b[0;34m(self, gradient, retain_graph, create_graph)\u001b[0m\n\u001b[1;32m    219\u001b[0m                 \u001b[0mretain_graph\u001b[0m\u001b[0;34m=\u001b[0m\u001b[0mretain_graph\u001b[0m\u001b[0;34m,\u001b[0m\u001b[0;34m\u001b[0m\u001b[0;34m\u001b[0m\u001b[0m\n\u001b[1;32m    220\u001b[0m                 create_graph=create_graph)\n\u001b[0;32m--> 221\u001b[0;31m         \u001b[0mtorch\u001b[0m\u001b[0;34m.\u001b[0m\u001b[0mautograd\u001b[0m\u001b[0;34m.\u001b[0m\u001b[0mbackward\u001b[0m\u001b[0;34m(\u001b[0m\u001b[0mself\u001b[0m\u001b[0;34m,\u001b[0m \u001b[0mgradient\u001b[0m\u001b[0;34m,\u001b[0m \u001b[0mretain_graph\u001b[0m\u001b[0;34m,\u001b[0m \u001b[0mcreate_graph\u001b[0m\u001b[0;34m)\u001b[0m\u001b[0;34m\u001b[0m\u001b[0;34m\u001b[0m\u001b[0m\n\u001b[0m\u001b[1;32m    222\u001b[0m \u001b[0;34m\u001b[0m\u001b[0m\n\u001b[1;32m    223\u001b[0m     \u001b[0;32mdef\u001b[0m \u001b[0mregister_hook\u001b[0m\u001b[0;34m(\u001b[0m\u001b[0mself\u001b[0m\u001b[0;34m,\u001b[0m \u001b[0mhook\u001b[0m\u001b[0;34m)\u001b[0m\u001b[0;34m:\u001b[0m\u001b[0;34m\u001b[0m\u001b[0;34m\u001b[0m\u001b[0m\n",
      "\u001b[0;32m/usr/local/lib/python3.6/dist-packages/torch/autograd/__init__.py\u001b[0m in \u001b[0;36mbackward\u001b[0;34m(tensors, grad_tensors, retain_graph, create_graph, grad_variables)\u001b[0m\n\u001b[1;32m    130\u001b[0m     Variable._execution_engine.run_backward(\n\u001b[1;32m    131\u001b[0m         \u001b[0mtensors\u001b[0m\u001b[0;34m,\u001b[0m \u001b[0mgrad_tensors_\u001b[0m\u001b[0;34m,\u001b[0m \u001b[0mretain_graph\u001b[0m\u001b[0;34m,\u001b[0m \u001b[0mcreate_graph\u001b[0m\u001b[0;34m,\u001b[0m\u001b[0;34m\u001b[0m\u001b[0;34m\u001b[0m\u001b[0m\n\u001b[0;32m--> 132\u001b[0;31m         allow_unreachable=True)  # allow_unreachable flag\n\u001b[0m\u001b[1;32m    133\u001b[0m \u001b[0;34m\u001b[0m\u001b[0m\n\u001b[1;32m    134\u001b[0m \u001b[0;34m\u001b[0m\u001b[0m\n",
      "\u001b[0;31mKeyboardInterrupt\u001b[0m: "
     ]
    }
   ],
   "source": [
    "# Instantiate model\n",
    "vqvae = VectorQuantizedVAE(CODE_DIM, CODE_SIZE).cuda()\n",
    "\n",
    "# Define TB writer\n",
    "writer = SummaryWriter(f'{LOGS_VQVAE_PATH}/{MODEL_NAME}')\n",
    "writer.add_graph(vqvae, train_dataset[0].unsqueeze(0).cuda())\n",
    "train_epochs(vqvae, train_dataloader, val_dataloader, \\\n",
    "             dict(epochs=500, lr=1e-4, grad_clip=1), writer, quiet=False)\n",
    "writer.close()"
   ]
  },
  {
   "cell_type": "code",
   "execution_count": null,
   "metadata": {},
   "outputs": [],
   "source": [
    "def test_reconstruction(vqvae, batch_cnt = 2):\n",
    "    test_iterator = iter(test_dataloader)\n",
    "    x = [next(test_iterator).cuda() for i in range(batch_cnt)]\n",
    "    x = torch.cat(x, 0)\n",
    "    with torch.no_grad():\n",
    "        z = vqvae.encode_code(x)\n",
    "        x_recon = vqvae.decode_code(z)\n",
    "    reconstructions = torch.cat((x, x_recon), axis=0)\n",
    "    return reconstructions"
   ]
  },
  {
   "cell_type": "code",
   "execution_count": null,
   "metadata": {},
   "outputs": [],
   "source": [
    "# Reconstruct some images from test dataset\n",
    "recs = test_reconstruction(vqvae)\n",
    "grid_img = make_grid(recs, nrow=recs.shape[0]//2)\n",
    "plt.figure(figsize = (20, 40))\n",
    "plt.imshow(grid_img.permute(1, 2, 0).cpu().numpy())"
   ]
  },
  {
   "cell_type": "markdown",
   "metadata": {},
   "source": [
    "## Train PixelCNN model"
   ]
  },
  {
   "cell_type": "code",
   "execution_count": null,
   "metadata": {},
   "outputs": [],
   "source": [
    "checkpoint = torch.load(PATH)\n",
    "model = VectorQuantizedVAE(CODE_DIM, CODE_SIZE).cuda()\n",
    "model.load_state_dict(checkpoint['model_state_dict'])\n",
    "\n",
    "def create_prior_dataset(data_loader, model):\n",
    "        prior_data = []\n",
    "        with torch.no_grad():\n",
    "            for x in data_loader:\n",
    "                x = x.cuda()\n",
    "                z = model.cuda().encode_code(x)\n",
    "                prior_data.append(z.long())\n",
    "        return torch.cat(prior_data, dim=0)\n",
    "    \n",
    "prior = PixelCNN(code_size=CODE_SIZE, input_shape=(31, 27), dim=128, n_layers=10).cuda()\n",
    "prior_train_data, prior_val_data = create_prior_dataset(train_dataloader, model), create_prior_dataset(val_dataloader, model)\n",
    "prior_train_loader = DataLoader(prior_train_data, batch_size=128, shuffle=True)\n",
    "prior_val_loader = DataLoader(prior_val_data, batch_size=128)\n",
    "writer = SummaryWriter(f'test')\n",
    "train_epochs(prior, prior_train_loader, prior_val_loader, \\\n",
    "             dict(epochs=1, lr=1e-3, grad_clip=1), writer, quiet=False)"
   ]
  },
  {
   "cell_type": "code",
   "execution_count": null,
   "metadata": {
    "colab": {},
    "colab_type": "code",
    "id": "cUQ2V2hLdyUF"
   },
   "outputs": [],
   "source": [
    "def q3(train_data, test_data, dset_id):\n",
    "    \"\"\"\n",
    "    train_data: An (n_train, 32, 32, 3) uint8 numpy array of color images with values in [0, 255]\n",
    "    test_data: An (n_test, 32, 32, 3) uint8 numpy array of color images with values in [0, 255]\n",
    "    dset_id: An identifying number of which dataset is given (1 or 2). Most likely\n",
    "               used to set different hyperparameters for different datasets\n",
    "\n",
    "    Returns\n",
    "    - a (# of training iterations,) numpy array of VQ-VAE train losess evaluated every minibatch\n",
    "    - a (# of epochs + 1,) numpy array of VQ-VAE train losses evaluated once at initialization and after each epoch\n",
    "    - a (# of training iterations,) numpy array of PixelCNN prior train losess evaluated every minibatch\n",
    "    - a (# of epochs + 1,) numpy array of PixelCNN prior train losses evaluated once at initialization and after each epoch\n",
    "    - a (100, 32, 32, 3) numpy array of 100 samples (an equal number from each class) with values in {0, ... 255}\n",
    "    - a (100, 32, 32, 3) numpy array of 50 real image / reconstruction pairs\n",
    "      FROM THE TEST SET with values in [0, 255]\n",
    "    \"\"\"\n",
    "\n",
    "    \"\"\" YOUR CODE HERE \"\"\"\n",
    "    train_data = (np.transpose(train_data, (0, 3, 1, 2)) / 255).astype('float32')\n",
    "    test_data = (np.transpose(test_data, (0, 3, 1, 2)) / 255).astype('float32')\n",
    "\n",
    "    code_dim, code_size = 256, 128\n",
    "    vqvae = VectorQuantizedVAE(code_dim, code_size).cuda()\n",
    "    train_loader = DataLoader(train_data, batch_size=128, shuffle=True)\n",
    "    test_loader = DataLoader(test_data, batch_size=128)\n",
    "    train_losses, test_losses = train_epochs(vqvae, train_loader, test_loader,\n",
    "                                             dict(epochs=2, lr=1e-3, grad_clip=1), quiet=False)\n",
    "    vqvae_train_losses, vqvae_test_losses = train_losses['loss'], test_losses['loss']\n",
    "\n",
    "    def create_prior_dataset(data_loader):\n",
    "        prior_data = []\n",
    "        with torch.no_grad():\n",
    "            for x in data_loader:\n",
    "                x = x.cuda()\n",
    "                z = vqvae.encode_code(x)\n",
    "                prior_data.append(z.long())\n",
    "        return torch.cat(prior_data, dim=0)\n",
    "    \n",
    "    prior = PixelCNN(code_size=code_size, input_shape=(8, 8), dim=128, n_layers=10).cuda()\n",
    "    prior_train_data, prior_test_data = create_prior_dataset(train_loader), create_prior_dataset(test_loader)\n",
    "    prior_train_loader = DataLoader(prior_train_data, batch_size=128, shuffle=True)\n",
    "    prior_test_loader = DataLoader(prior_test_data, batch_size=128)\n",
    "    prior_train_losses, prior_test_losses = train_epochs(prior, prior_train_loader, prior_test_loader,\n",
    "                                                         dict(epochs=1, lr=1e-3, grad_clip=1), quiet=False)\n",
    "    prior_train_losses, prior_test_losses = prior_train_losses['loss'], prior_test_losses['loss']\n",
    "\n",
    "    samples = prior.sample(100).long()\n",
    "    samples = vqvae.decode_code(samples) * 255\n",
    "\n",
    "    x = next(iter(test_loader))[:50].cuda()\n",
    "    with torch.no_grad():\n",
    "        z = vqvae.encode_code(x)\n",
    "        x_recon = vqvae.decode_code(z)\n",
    "    x = x.cpu().permute(0, 2, 3, 1).numpy()\n",
    "    reconstructions = np.stack((x, x_recon), axis=1).reshape((-1, 32, 32, 3)) * 255\n",
    "\n",
    "    return vqvae_train_losses, vqvae_test_losses, prior_train_losses, prior_test_losses, samples, reconstructions"
   ]
  },
  {
   "cell_type": "code",
   "execution_count": null,
   "metadata": {},
   "outputs": [],
   "source": []
  }
 ],
 "metadata": {
  "accelerator": "GPU",
  "colab": {
   "collapsed_sections": [],
   "include_colab_link": true,
   "name": "Homework 3 Latent Variable Models.ipynb",
   "provenance": [],
   "toc_visible": true
  },
  "kernelspec": {
   "display_name": "Python 3",
   "language": "python",
   "name": "python3"
  },
  "language_info": {
   "codemirror_mode": {
    "name": "ipython",
    "version": 3
   },
   "file_extension": ".py",
   "mimetype": "text/x-python",
   "name": "python",
   "nbconvert_exporter": "python",
   "pygments_lexer": "ipython3",
   "version": "3.6.9"
  }
 },
 "nbformat": 4,
 "nbformat_minor": 4
}
